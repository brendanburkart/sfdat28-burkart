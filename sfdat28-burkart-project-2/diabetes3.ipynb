{
 "cells": [
  {
   "cell_type": "markdown",
   "metadata": {},
   "source": [
    "# IMPORT BASIC TOOLS"
   ]
  },
  {
   "cell_type": "code",
   "execution_count": 4,
   "metadata": {
    "collapsed": true
   },
   "outputs": [],
   "source": [
    "import numpy as np\n",
    "import pandas as pd\n",
    "\n",
    "import matplotlib.pyplot as plt\n",
    "%matplotlib inline\n",
    "import seaborn as sns"
   ]
  },
  {
   "cell_type": "markdown",
   "metadata": {},
   "source": [
    "# IMPORT DATA, INSPECT"
   ]
  },
  {
   "cell_type": "code",
   "execution_count": 5,
   "metadata": {
    "collapsed": false
   },
   "outputs": [],
   "source": [
    "data = pd.read_csv('http://localhost:8888/files/PROJECT%20-%20BBURKART/DATA/diabetes.csv')"
   ]
  },
  {
   "cell_type": "code",
   "execution_count": 6,
   "metadata": {
    "collapsed": false
   },
   "outputs": [
    {
     "data": {
      "text/plain": [
       "encounter_id                0\n",
       "patient_nbr                 0\n",
       "race                        0\n",
       "gender                      0\n",
       "age                         0\n",
       "weight                      0\n",
       "admission_type_id           0\n",
       "discharge_disposition_id    0\n",
       "admission_source_id         0\n",
       "time_in_hospital            0\n",
       "payer_code                  0\n",
       "medical_specialty           0\n",
       "num_lab_procedures          0\n",
       "num_procedures              0\n",
       "num_medications             0\n",
       "number_outpatient           0\n",
       "number_emergency            0\n",
       "number_inpatient            0\n",
       "diag_1                      0\n",
       "diag_2                      0\n",
       "diag_3                      0\n",
       "number_diagnoses            0\n",
       "max_glu_serum               0\n",
       "A1Cresult                   0\n",
       "metformin                   0\n",
       "repaglinide                 0\n",
       "nateglinide                 0\n",
       "chlorpropamide              0\n",
       "glimepiride                 0\n",
       "acetohexamide               0\n",
       "glipizide                   0\n",
       "glyburide                   0\n",
       "tolbutamide                 0\n",
       "pioglitazone                0\n",
       "rosiglitazone               0\n",
       "acarbose                    0\n",
       "miglitol                    0\n",
       "troglitazone                0\n",
       "tolazamide                  0\n",
       "examide                     0\n",
       "citoglipton                 0\n",
       "insulin                     0\n",
       "glyburide-metformin         0\n",
       "glipizide-metformin         0\n",
       "glimepiride-pioglitazone    0\n",
       "metformin-rosiglitazone     0\n",
       "metformin-pioglitazone      0\n",
       "change                      0\n",
       "diabetesMed                 0\n",
       "readmitted                  0\n",
       "dtype: int64"
      ]
     },
     "execution_count": 6,
     "metadata": {},
     "output_type": "execute_result"
    }
   ],
   "source": [
    "data.isnull().sum()"
   ]
  },
  {
   "cell_type": "code",
   "execution_count": 163,
   "metadata": {
    "collapsed": false
   },
   "outputs": [
    {
     "data": {
      "text/html": [
       "<div>\n",
       "<table border=\"1\" class=\"dataframe\">\n",
       "  <thead>\n",
       "    <tr style=\"text-align: right;\">\n",
       "      <th></th>\n",
       "      <th>0</th>\n",
       "      <th>1</th>\n",
       "      <th>2</th>\n",
       "      <th>3</th>\n",
       "      <th>4</th>\n",
       "    </tr>\n",
       "  </thead>\n",
       "  <tbody>\n",
       "    <tr>\n",
       "      <th>race</th>\n",
       "      <td>Caucasian</td>\n",
       "      <td>Caucasian</td>\n",
       "      <td>AfricanAmerican</td>\n",
       "      <td>Caucasian</td>\n",
       "      <td>Caucasian</td>\n",
       "    </tr>\n",
       "    <tr>\n",
       "      <th>gender</th>\n",
       "      <td>0</td>\n",
       "      <td>0</td>\n",
       "      <td>0</td>\n",
       "      <td>1</td>\n",
       "      <td>1</td>\n",
       "    </tr>\n",
       "    <tr>\n",
       "      <th>age</th>\n",
       "      <td>5</td>\n",
       "      <td>15</td>\n",
       "      <td>25</td>\n",
       "      <td>35</td>\n",
       "      <td>45</td>\n",
       "    </tr>\n",
       "    <tr>\n",
       "      <th>weight</th>\n",
       "      <td>0</td>\n",
       "      <td>0</td>\n",
       "      <td>0</td>\n",
       "      <td>0</td>\n",
       "      <td>0</td>\n",
       "    </tr>\n",
       "    <tr>\n",
       "      <th>admission_type</th>\n",
       "      <td>6</td>\n",
       "      <td>1</td>\n",
       "      <td>1</td>\n",
       "      <td>1</td>\n",
       "      <td>1</td>\n",
       "    </tr>\n",
       "    <tr>\n",
       "      <th>discharge_disposition</th>\n",
       "      <td>NULL</td>\n",
       "      <td>home</td>\n",
       "      <td>home</td>\n",
       "      <td>home</td>\n",
       "      <td>home</td>\n",
       "    </tr>\n",
       "    <tr>\n",
       "      <th>admission_source</th>\n",
       "      <td>MD</td>\n",
       "      <td>ED</td>\n",
       "      <td>ED</td>\n",
       "      <td>ED</td>\n",
       "      <td>ED</td>\n",
       "    </tr>\n",
       "    <tr>\n",
       "      <th>days_in_hospital</th>\n",
       "      <td>1</td>\n",
       "      <td>3</td>\n",
       "      <td>2</td>\n",
       "      <td>2</td>\n",
       "      <td>1</td>\n",
       "    </tr>\n",
       "    <tr>\n",
       "      <th>payor_code</th>\n",
       "      <td>Unknown</td>\n",
       "      <td>Unknown</td>\n",
       "      <td>Unknown</td>\n",
       "      <td>Unknown</td>\n",
       "      <td>Unknown</td>\n",
       "    </tr>\n",
       "    <tr>\n",
       "      <th>referring_specialty</th>\n",
       "      <td>Pediatrics-Endocrinology</td>\n",
       "      <td>Unknown</td>\n",
       "      <td>Unknown</td>\n",
       "      <td>Unknown</td>\n",
       "      <td>Unknown</td>\n",
       "    </tr>\n",
       "    <tr>\n",
       "      <th>number_labs</th>\n",
       "      <td>41</td>\n",
       "      <td>59</td>\n",
       "      <td>11</td>\n",
       "      <td>44</td>\n",
       "      <td>51</td>\n",
       "    </tr>\n",
       "    <tr>\n",
       "      <th>number_procedures</th>\n",
       "      <td>0</td>\n",
       "      <td>0</td>\n",
       "      <td>5</td>\n",
       "      <td>1</td>\n",
       "      <td>0</td>\n",
       "    </tr>\n",
       "    <tr>\n",
       "      <th>number_meds</th>\n",
       "      <td>1</td>\n",
       "      <td>18</td>\n",
       "      <td>13</td>\n",
       "      <td>16</td>\n",
       "      <td>8</td>\n",
       "    </tr>\n",
       "    <tr>\n",
       "      <th>number_outpatient</th>\n",
       "      <td>0</td>\n",
       "      <td>0</td>\n",
       "      <td>2</td>\n",
       "      <td>0</td>\n",
       "      <td>0</td>\n",
       "    </tr>\n",
       "    <tr>\n",
       "      <th>number_emergency</th>\n",
       "      <td>0</td>\n",
       "      <td>0</td>\n",
       "      <td>0</td>\n",
       "      <td>0</td>\n",
       "      <td>0</td>\n",
       "    </tr>\n",
       "    <tr>\n",
       "      <th>number_inpatient</th>\n",
       "      <td>0</td>\n",
       "      <td>0</td>\n",
       "      <td>1</td>\n",
       "      <td>0</td>\n",
       "      <td>0</td>\n",
       "    </tr>\n",
       "    <tr>\n",
       "      <th>diag_1</th>\n",
       "      <td>250.83</td>\n",
       "      <td>276</td>\n",
       "      <td>648</td>\n",
       "      <td>8</td>\n",
       "      <td>197</td>\n",
       "    </tr>\n",
       "    <tr>\n",
       "      <th>diag_2</th>\n",
       "      <td>0</td>\n",
       "      <td>250.01</td>\n",
       "      <td>250</td>\n",
       "      <td>250.43</td>\n",
       "      <td>157</td>\n",
       "    </tr>\n",
       "    <tr>\n",
       "      <th>diag_3</th>\n",
       "      <td>0</td>\n",
       "      <td>255</td>\n",
       "      <td>V27</td>\n",
       "      <td>403</td>\n",
       "      <td>250</td>\n",
       "    </tr>\n",
       "    <tr>\n",
       "      <th>total_number_diag</th>\n",
       "      <td>1</td>\n",
       "      <td>9</td>\n",
       "      <td>6</td>\n",
       "      <td>7</td>\n",
       "      <td>5</td>\n",
       "    </tr>\n",
       "    <tr>\n",
       "      <th>max_blood_glucose</th>\n",
       "      <td>Unknown</td>\n",
       "      <td>Unknown</td>\n",
       "      <td>Unknown</td>\n",
       "      <td>Unknown</td>\n",
       "      <td>Unknown</td>\n",
       "    </tr>\n",
       "    <tr>\n",
       "      <th>a1c</th>\n",
       "      <td>Unknown</td>\n",
       "      <td>Unknown</td>\n",
       "      <td>Unknown</td>\n",
       "      <td>Unknown</td>\n",
       "      <td>Unknown</td>\n",
       "    </tr>\n",
       "    <tr>\n",
       "      <th>metformin</th>\n",
       "      <td>No</td>\n",
       "      <td>No</td>\n",
       "      <td>No</td>\n",
       "      <td>No</td>\n",
       "      <td>No</td>\n",
       "    </tr>\n",
       "    <tr>\n",
       "      <th>repaglinide</th>\n",
       "      <td>No</td>\n",
       "      <td>No</td>\n",
       "      <td>No</td>\n",
       "      <td>No</td>\n",
       "      <td>No</td>\n",
       "    </tr>\n",
       "    <tr>\n",
       "      <th>nateglinide</th>\n",
       "      <td>No</td>\n",
       "      <td>No</td>\n",
       "      <td>No</td>\n",
       "      <td>No</td>\n",
       "      <td>No</td>\n",
       "    </tr>\n",
       "    <tr>\n",
       "      <th>chlorpropamide</th>\n",
       "      <td>No</td>\n",
       "      <td>No</td>\n",
       "      <td>No</td>\n",
       "      <td>No</td>\n",
       "      <td>No</td>\n",
       "    </tr>\n",
       "    <tr>\n",
       "      <th>glimepiride</th>\n",
       "      <td>No</td>\n",
       "      <td>No</td>\n",
       "      <td>No</td>\n",
       "      <td>No</td>\n",
       "      <td>No</td>\n",
       "    </tr>\n",
       "    <tr>\n",
       "      <th>acetohexamide</th>\n",
       "      <td>No</td>\n",
       "      <td>No</td>\n",
       "      <td>No</td>\n",
       "      <td>No</td>\n",
       "      <td>No</td>\n",
       "    </tr>\n",
       "    <tr>\n",
       "      <th>glipizide</th>\n",
       "      <td>No</td>\n",
       "      <td>No</td>\n",
       "      <td>Steady</td>\n",
       "      <td>No</td>\n",
       "      <td>Steady</td>\n",
       "    </tr>\n",
       "    <tr>\n",
       "      <th>glyburide</th>\n",
       "      <td>No</td>\n",
       "      <td>No</td>\n",
       "      <td>No</td>\n",
       "      <td>No</td>\n",
       "      <td>No</td>\n",
       "    </tr>\n",
       "    <tr>\n",
       "      <th>...</th>\n",
       "      <td>...</td>\n",
       "      <td>...</td>\n",
       "      <td>...</td>\n",
       "      <td>...</td>\n",
       "      <td>...</td>\n",
       "    </tr>\n",
       "    <tr>\n",
       "      <th>acarbose</th>\n",
       "      <td>No</td>\n",
       "      <td>No</td>\n",
       "      <td>No</td>\n",
       "      <td>No</td>\n",
       "      <td>No</td>\n",
       "    </tr>\n",
       "    <tr>\n",
       "      <th>miglitol</th>\n",
       "      <td>No</td>\n",
       "      <td>No</td>\n",
       "      <td>No</td>\n",
       "      <td>No</td>\n",
       "      <td>No</td>\n",
       "    </tr>\n",
       "    <tr>\n",
       "      <th>troglitazone</th>\n",
       "      <td>No</td>\n",
       "      <td>No</td>\n",
       "      <td>No</td>\n",
       "      <td>No</td>\n",
       "      <td>No</td>\n",
       "    </tr>\n",
       "    <tr>\n",
       "      <th>tolazamide</th>\n",
       "      <td>No</td>\n",
       "      <td>No</td>\n",
       "      <td>No</td>\n",
       "      <td>No</td>\n",
       "      <td>No</td>\n",
       "    </tr>\n",
       "    <tr>\n",
       "      <th>examide</th>\n",
       "      <td>No</td>\n",
       "      <td>No</td>\n",
       "      <td>No</td>\n",
       "      <td>No</td>\n",
       "      <td>No</td>\n",
       "    </tr>\n",
       "    <tr>\n",
       "      <th>citoglipton</th>\n",
       "      <td>No</td>\n",
       "      <td>No</td>\n",
       "      <td>No</td>\n",
       "      <td>No</td>\n",
       "      <td>No</td>\n",
       "    </tr>\n",
       "    <tr>\n",
       "      <th>insulin</th>\n",
       "      <td>No</td>\n",
       "      <td>Up</td>\n",
       "      <td>No</td>\n",
       "      <td>Up</td>\n",
       "      <td>Steady</td>\n",
       "    </tr>\n",
       "    <tr>\n",
       "      <th>glyburide_metformin</th>\n",
       "      <td>No</td>\n",
       "      <td>No</td>\n",
       "      <td>No</td>\n",
       "      <td>No</td>\n",
       "      <td>No</td>\n",
       "    </tr>\n",
       "    <tr>\n",
       "      <th>glipizide_metformin</th>\n",
       "      <td>No</td>\n",
       "      <td>No</td>\n",
       "      <td>No</td>\n",
       "      <td>No</td>\n",
       "      <td>No</td>\n",
       "    </tr>\n",
       "    <tr>\n",
       "      <th>glimepiride_pioglitazone</th>\n",
       "      <td>No</td>\n",
       "      <td>No</td>\n",
       "      <td>No</td>\n",
       "      <td>No</td>\n",
       "      <td>No</td>\n",
       "    </tr>\n",
       "    <tr>\n",
       "      <th>metformin_rosiglitazone</th>\n",
       "      <td>No</td>\n",
       "      <td>No</td>\n",
       "      <td>No</td>\n",
       "      <td>No</td>\n",
       "      <td>No</td>\n",
       "    </tr>\n",
       "    <tr>\n",
       "      <th>metformin_pioglitazone</th>\n",
       "      <td>No</td>\n",
       "      <td>No</td>\n",
       "      <td>No</td>\n",
       "      <td>No</td>\n",
       "      <td>No</td>\n",
       "    </tr>\n",
       "    <tr>\n",
       "      <th>change</th>\n",
       "      <td>0</td>\n",
       "      <td>1</td>\n",
       "      <td>0</td>\n",
       "      <td>1</td>\n",
       "      <td>1</td>\n",
       "    </tr>\n",
       "    <tr>\n",
       "      <th>on_diabetes_meds</th>\n",
       "      <td>1</td>\n",
       "      <td>0</td>\n",
       "      <td>0</td>\n",
       "      <td>0</td>\n",
       "      <td>0</td>\n",
       "    </tr>\n",
       "    <tr>\n",
       "      <th>readmission_category</th>\n",
       "      <td>NO</td>\n",
       "      <td>&gt;30</td>\n",
       "      <td>NO</td>\n",
       "      <td>NO</td>\n",
       "      <td>NO</td>\n",
       "    </tr>\n",
       "    <tr>\n",
       "      <th>readmitted</th>\n",
       "      <td>0</td>\n",
       "      <td>1</td>\n",
       "      <td>0</td>\n",
       "      <td>0</td>\n",
       "      <td>0</td>\n",
       "    </tr>\n",
       "    <tr>\n",
       "      <th>readmit_time</th>\n",
       "      <td>0</td>\n",
       "      <td>1</td>\n",
       "      <td>0</td>\n",
       "      <td>0</td>\n",
       "      <td>0</td>\n",
       "    </tr>\n",
       "    <tr>\n",
       "      <th>discharged_to_location</th>\n",
       "      <td>NULL</td>\n",
       "      <td>home</td>\n",
       "      <td>home</td>\n",
       "      <td>home</td>\n",
       "      <td>home</td>\n",
       "    </tr>\n",
       "    <tr>\n",
       "      <th>discharge_expired</th>\n",
       "      <td>0</td>\n",
       "      <td>0</td>\n",
       "      <td>0</td>\n",
       "      <td>0</td>\n",
       "      <td>0</td>\n",
       "    </tr>\n",
       "    <tr>\n",
       "      <th>discharge_hospice</th>\n",
       "      <td>0</td>\n",
       "      <td>0</td>\n",
       "      <td>0</td>\n",
       "      <td>0</td>\n",
       "      <td>0</td>\n",
       "    </tr>\n",
       "    <tr>\n",
       "      <th>discharge_with_care</th>\n",
       "      <td>0</td>\n",
       "      <td>0</td>\n",
       "      <td>0</td>\n",
       "      <td>0</td>\n",
       "      <td>0</td>\n",
       "    </tr>\n",
       "    <tr>\n",
       "      <th>discharge_medicaid</th>\n",
       "      <td>0</td>\n",
       "      <td>0</td>\n",
       "      <td>0</td>\n",
       "      <td>0</td>\n",
       "      <td>0</td>\n",
       "    </tr>\n",
       "    <tr>\n",
       "      <th>discharge_medicare</th>\n",
       "      <td>0</td>\n",
       "      <td>0</td>\n",
       "      <td>0</td>\n",
       "      <td>0</td>\n",
       "      <td>0</td>\n",
       "    </tr>\n",
       "    <tr>\n",
       "      <th>admission_source_aggregated</th>\n",
       "      <td>MD</td>\n",
       "      <td>ED</td>\n",
       "      <td>ED</td>\n",
       "      <td>ED</td>\n",
       "      <td>ED</td>\n",
       "    </tr>\n",
       "    <tr>\n",
       "      <th>diag_1_stem</th>\n",
       "      <td>250</td>\n",
       "      <td>276</td>\n",
       "      <td>648</td>\n",
       "      <td>8</td>\n",
       "      <td>197</td>\n",
       "    </tr>\n",
       "    <tr>\n",
       "      <th>diag_2_stem</th>\n",
       "      <td>0</td>\n",
       "      <td>250</td>\n",
       "      <td>250</td>\n",
       "      <td>250</td>\n",
       "      <td>157</td>\n",
       "    </tr>\n",
       "    <tr>\n",
       "      <th>diag_3_stem</th>\n",
       "      <td>0</td>\n",
       "      <td>255</td>\n",
       "      <td>V27</td>\n",
       "      <td>403</td>\n",
       "      <td>250</td>\n",
       "    </tr>\n",
       "    <tr>\n",
       "      <th>diag_1_suffix</th>\n",
       "      <td>83</td>\n",
       "      <td>0</td>\n",
       "      <td>0</td>\n",
       "      <td>0</td>\n",
       "      <td>0</td>\n",
       "    </tr>\n",
       "    <tr>\n",
       "      <th>diag_2_suffix</th>\n",
       "      <td>0</td>\n",
       "      <td>01</td>\n",
       "      <td>0</td>\n",
       "      <td>43</td>\n",
       "      <td>0</td>\n",
       "    </tr>\n",
       "    <tr>\n",
       "      <th>diag_3_suffix</th>\n",
       "      <td>0</td>\n",
       "      <td>0</td>\n",
       "      <td>0</td>\n",
       "      <td>0</td>\n",
       "      <td>0</td>\n",
       "    </tr>\n",
       "  </tbody>\n",
       "</table>\n",
       "<p>63 rows × 5 columns</p>\n",
       "</div>"
      ],
      "text/plain": [
       "                                                    0          1  \\\n",
       "race                                        Caucasian  Caucasian   \n",
       "gender                                              0          0   \n",
       "age                                                 5         15   \n",
       "weight                                              0          0   \n",
       "admission_type                                      6          1   \n",
       "discharge_disposition                            NULL       home   \n",
       "admission_source                                   MD         ED   \n",
       "days_in_hospital                                    1          3   \n",
       "payor_code                                    Unknown    Unknown   \n",
       "referring_specialty          Pediatrics-Endocrinology    Unknown   \n",
       "number_labs                                        41         59   \n",
       "number_procedures                                   0          0   \n",
       "number_meds                                         1         18   \n",
       "number_outpatient                                   0          0   \n",
       "number_emergency                                    0          0   \n",
       "number_inpatient                                    0          0   \n",
       "diag_1                                         250.83        276   \n",
       "diag_2                                              0     250.01   \n",
       "diag_3                                              0        255   \n",
       "total_number_diag                                   1          9   \n",
       "max_blood_glucose                             Unknown    Unknown   \n",
       "a1c                                           Unknown    Unknown   \n",
       "metformin                                          No         No   \n",
       "repaglinide                                        No         No   \n",
       "nateglinide                                        No         No   \n",
       "chlorpropamide                                     No         No   \n",
       "glimepiride                                        No         No   \n",
       "acetohexamide                                      No         No   \n",
       "glipizide                                          No         No   \n",
       "glyburide                                          No         No   \n",
       "...                                               ...        ...   \n",
       "acarbose                                           No         No   \n",
       "miglitol                                           No         No   \n",
       "troglitazone                                       No         No   \n",
       "tolazamide                                         No         No   \n",
       "examide                                            No         No   \n",
       "citoglipton                                        No         No   \n",
       "insulin                                            No         Up   \n",
       "glyburide_metformin                                No         No   \n",
       "glipizide_metformin                                No         No   \n",
       "glimepiride_pioglitazone                           No         No   \n",
       "metformin_rosiglitazone                            No         No   \n",
       "metformin_pioglitazone                             No         No   \n",
       "change                                              0          1   \n",
       "on_diabetes_meds                                    1          0   \n",
       "readmission_category                               NO        >30   \n",
       "readmitted                                          0          1   \n",
       "readmit_time                                        0          1   \n",
       "discharged_to_location                           NULL       home   \n",
       "discharge_expired                                   0          0   \n",
       "discharge_hospice                                   0          0   \n",
       "discharge_with_care                                 0          0   \n",
       "discharge_medicaid                                  0          0   \n",
       "discharge_medicare                                  0          0   \n",
       "admission_source_aggregated                        MD         ED   \n",
       "diag_1_stem                                       250        276   \n",
       "diag_2_stem                                         0        250   \n",
       "diag_3_stem                                         0        255   \n",
       "diag_1_suffix                                      83          0   \n",
       "diag_2_suffix                                       0         01   \n",
       "diag_3_suffix                                       0          0   \n",
       "\n",
       "                                           2          3          4  \n",
       "race                         AfricanAmerican  Caucasian  Caucasian  \n",
       "gender                                     0          1          1  \n",
       "age                                       25         35         45  \n",
       "weight                                     0          0          0  \n",
       "admission_type                             1          1          1  \n",
       "discharge_disposition                   home       home       home  \n",
       "admission_source                          ED         ED         ED  \n",
       "days_in_hospital                           2          2          1  \n",
       "payor_code                           Unknown    Unknown    Unknown  \n",
       "referring_specialty                  Unknown    Unknown    Unknown  \n",
       "number_labs                               11         44         51  \n",
       "number_procedures                          5          1          0  \n",
       "number_meds                               13         16          8  \n",
       "number_outpatient                          2          0          0  \n",
       "number_emergency                           0          0          0  \n",
       "number_inpatient                           1          0          0  \n",
       "diag_1                                   648          8        197  \n",
       "diag_2                                   250     250.43        157  \n",
       "diag_3                                   V27        403        250  \n",
       "total_number_diag                          6          7          5  \n",
       "max_blood_glucose                    Unknown    Unknown    Unknown  \n",
       "a1c                                  Unknown    Unknown    Unknown  \n",
       "metformin                                 No         No         No  \n",
       "repaglinide                               No         No         No  \n",
       "nateglinide                               No         No         No  \n",
       "chlorpropamide                            No         No         No  \n",
       "glimepiride                               No         No         No  \n",
       "acetohexamide                             No         No         No  \n",
       "glipizide                             Steady         No     Steady  \n",
       "glyburide                                 No         No         No  \n",
       "...                                      ...        ...        ...  \n",
       "acarbose                                  No         No         No  \n",
       "miglitol                                  No         No         No  \n",
       "troglitazone                              No         No         No  \n",
       "tolazamide                                No         No         No  \n",
       "examide                                   No         No         No  \n",
       "citoglipton                               No         No         No  \n",
       "insulin                                   No         Up     Steady  \n",
       "glyburide_metformin                       No         No         No  \n",
       "glipizide_metformin                       No         No         No  \n",
       "glimepiride_pioglitazone                  No         No         No  \n",
       "metformin_rosiglitazone                   No         No         No  \n",
       "metformin_pioglitazone                    No         No         No  \n",
       "change                                     0          1          1  \n",
       "on_diabetes_meds                           0          0          0  \n",
       "readmission_category                      NO         NO         NO  \n",
       "readmitted                                 0          0          0  \n",
       "readmit_time                               0          0          0  \n",
       "discharged_to_location                  home       home       home  \n",
       "discharge_expired                          0          0          0  \n",
       "discharge_hospice                          0          0          0  \n",
       "discharge_with_care                        0          0          0  \n",
       "discharge_medicaid                         0          0          0  \n",
       "discharge_medicare                         0          0          0  \n",
       "admission_source_aggregated               ED         ED         ED  \n",
       "diag_1_stem                              648          8        197  \n",
       "diag_2_stem                              250        250        157  \n",
       "diag_3_stem                              V27        403        250  \n",
       "diag_1_suffix                              0          0          0  \n",
       "diag_2_suffix                              0         43          0  \n",
       "diag_3_suffix                              0          0          0  \n",
       "\n",
       "[63 rows x 5 columns]"
      ]
     },
     "execution_count": 163,
     "metadata": {},
     "output_type": "execute_result"
    }
   ],
   "source": [
    "data.head().T"
   ]
  },
  {
   "cell_type": "markdown",
   "metadata": {},
   "source": [
    "# CONVENTIONALIZE COLUMN NAMES  & DROP PATIENT-SPECIFIC INFO"
   ]
  },
  {
   "cell_type": "code",
   "execution_count": 8,
   "metadata": {
    "collapsed": true
   },
   "outputs": [],
   "source": [
    "data.columns = [each.replace(' ','_').lower() for each in data.columns]\n",
    "data.columns = [each.replace('-','_').lower() for each in data.columns]\n",
    "\n",
    "data = data.rename(columns = {'admission_type_id' : 'admission_type',\n",
    "                              'discharge_disposition_id' : 'discharge_disposition',\n",
    "                              'admission_source_id' : 'admission_source',\n",
    "                              'time_in_hospital' : 'days_in_hospital',\n",
    "                              'payer_code' : 'payor_code',\n",
    "                              'medical_specialty' : 'referring_specialty', \n",
    "                              'num_lab_procedures' : 'number_labs',\n",
    "                              'num_procedures' : 'number_procedures', \n",
    "                              'num_medications' : 'number_meds',\n",
    "                              'number_diagnoses' : 'total_number_diag', \n",
    "                              'max_glu_serum' : 'max_blood_glucose',\n",
    "                              'a1cresult' : 'a1c', \n",
    "                              'diabetesmed' : 'on_diabetes_meds',\n",
    "                              'readmitted' : 'readmission_category'})\n",
    "\n",
    "data = data.drop('encounter_id', 1)\n",
    "data = data.drop('patient_nbr', 1)"
   ]
  },
  {
   "cell_type": "markdown",
   "metadata": {},
   "source": [
    "# DEFINE THE OUTCOME FEATURES"
   ]
  },
  {
   "cell_type": "markdown",
   "metadata": {},
   "source": [
    "> ## I'M MOST INTERESTED IN WHETHER OR NOT PATIENTS WERE RE-ADMITTED, BUT THE DATA HAS READMISSIONS SEPARATED INTO DAYS FROM DISCHARGE TO READMISSION:\n",
    "- WITHIN 30 DAYS OF DISCHARGE\n",
    "- AT LEAST 30 DAYS AFTER DISCHARGE"
   ]
  },
  {
   "cell_type": "code",
   "execution_count": 9,
   "metadata": {
    "collapsed": false
   },
   "outputs": [
    {
     "name": "stdout",
     "output_type": "stream",
     "text": [
      "The original data set includes ::\n",
      "\n",
      "(101766, 48)\n",
      "  rows , columns\n",
      "\n",
      "\n",
      "So, of the total 101766 patients in this data set, there are this many in each readmission category ::\n",
      "\n",
      "Not readmitted ==  54864 or  53.911915571 % of total.\n",
      "\n",
      "Readmitted within 30 days ==  11357 patients, or  11.1599158855 % of total.\n",
      "\n",
      "Readmitted after 30 days ==  35545 patients, or  34.9281685435 % of total.\n",
      "\n",
      "\n"
     ]
    },
    {
     "data": {
      "text/plain": [
       "<matplotlib.axes._subplots.AxesSubplot at 0x2afba559cc0>"
      ]
     },
     "execution_count": 9,
     "metadata": {},
     "output_type": "execute_result"
    },
    {
     "data": {
      "image/png": "[encoded data removed]",
      "text/plain": [
       "<matplotlib.figure.Figure at 0x2afba559588>"
      ]
     },
     "metadata": {},
     "output_type": "display_data"
    }
   ],
   "source": [
    "print('The original data set includes ::')\n",
    "print()\n",
    "print(data.shape)\n",
    "print('  rows', ',', 'columns')\n",
    "print() \n",
    "print()\n",
    "print('So, of the total',\n",
    "      data.readmission_category.count(),\n",
    "      'patients in this data set, there are this many in each readmission category ::')\n",
    "print()\n",
    "print('Not readmitted == ', \n",
    "      data.readmission_category[data.readmission_category == 'NO'].count(),\n",
    "      'or ',\n",
    "      data.readmission_category[data.readmission_category == 'NO'].count() / data.readmission_category.count() * 100,\n",
    "      '% of total.'\n",
    ")\n",
    "print()\n",
    "print('Readmitted within 30 days == ', \n",
    "      data.readmission_category[data.readmission_category == '<30'].count(),\n",
    "      'patients, or ',\n",
    "      data.readmission_category[data.readmission_category == '<30'].count() / data.readmission_category.count() * 100,\n",
    "      '% of total.'\n",
    ")\n",
    "print()\n",
    "print('Readmitted after 30 days == ', \n",
    "      data.readmission_category[data.readmission_category == '>30'].count(),\n",
    "      'patients, or ',\n",
    "      data.readmission_category[data.readmission_category == '>30'].count() / data.readmission_category.count() * 100,\n",
    "      '% of total.'\n",
    ")\n",
    "print()\n",
    "print()\n",
    "data.readmission_category.value_counts().plot(kind = 'bar')"
   ]
  },
  {
   "cell_type": "code",
   "execution_count": 10,
   "metadata": {
    "collapsed": true
   },
   "outputs": [],
   "source": [
    "to_get_readmitted = {\n",
    "    'NO' : 0,\n",
    "    '>30' : 1,\n",
    "    '<30' : 1} \n",
    "data['readmitted'] = data['readmission_category'].apply(lambda x:to_get_readmitted[x])"
   ]
  },
  {
   "cell_type": "code",
   "execution_count": 11,
   "metadata": {
    "collapsed": false
   },
   "outputs": [
    {
     "data": {
      "text/plain": [
       "<matplotlib.axes._subplots.AxesSubplot at 0x2afba54a8d0>"
      ]
     },
     "execution_count": 11,
     "metadata": {},
     "output_type": "execute_result"
    },
    {
     "data": {
      "image/png": "[encoded data removed]",
      "text/plain": [
       "<matplotlib.figure.Figure at 0x2afba54a4e0>"
      ]
     },
     "metadata": {},
     "output_type": "display_data"
    }
   ],
   "source": [
    "data.readmitted.value_counts().plot(kind = 'bar')"
   ]
  },
  {
   "cell_type": "code",
   "execution_count": 12,
   "metadata": {
    "collapsed": true
   },
   "outputs": [],
   "source": [
    "to_get_readmit_time = {\n",
    "    'NO' : 0,\n",
    "    '>30' : 1,\n",
    "    '<30' : 2} \n",
    "data['readmit_time'] = data['readmission_category'].apply(lambda x:to_get_readmit_time[x])"
   ]
  },
  {
   "cell_type": "code",
   "execution_count": 14,
   "metadata": {
    "collapsed": false
   },
   "outputs": [
    {
     "data": {
      "text/plain": [
       "<matplotlib.axes._subplots.AxesSubplot at 0x2afbb3bc898>"
      ]
     },
     "execution_count": 14,
     "metadata": {},
     "output_type": "execute_result"
    },
    {
     "data": {
      "image/png": "[encoded data removed]",
      "text/plain": [
       "<matplotlib.figure.Figure at 0x2afbb3c4400>"
      ]
     },
     "metadata": {},
     "output_type": "display_data"
    }
   ],
   "source": [
    "data.readmit_time[data.readmitted == 1].value_counts().plot(kind = 'bar')"
   ]
  },
  {
   "cell_type": "markdown",
   "metadata": {},
   "source": [
    "# NULL ACCURACY FOR PREDICTING GOAL :: READMITTED OR NOT"
   ]
  },
  {
   "cell_type": "code",
   "execution_count": 15,
   "metadata": {
    "collapsed": false
   },
   "outputs": [
    {
     "name": "stdout",
     "output_type": "stream",
     "text": [
      "Percent readmitted at all:  46.088084429\n",
      "Percent NOT readmitted:  53.911915571\n"
     ]
    }
   ],
   "source": [
    "print('Percent readmitted at all: ', data.readmitted[data.readmitted == 1].count() / data.readmitted.count() * 100)\n",
    "print('Percent NOT readmitted: ', data.readmitted[data.readmitted == 0].count() / data.readmitted.count() * 100)"
   ]
  },
  {
   "cell_type": "markdown",
   "metadata": {},
   "source": [
    "> # So my primary goal is to predict whether or not a patient will be readmitted with greater than 46.09% accuracy\n",
    "#### - Goal # 2 is to identify similarities among patients who are readmitted that are different from similarities among patients who are not readmitted.  Considering Random Forest feature significances and clustering with k-means and DBSCAN to identify these.\n",
    "#### - Goal # 3 is to offer probabilities of readmission given the the patient has constellations of significant features.  Considering Naive Bayes, KNN, Logistic Regression to offer these."
   ]
  },
  {
   "cell_type": "markdown",
   "metadata": {},
   "source": [
    "# BUT FIRST, I HAVE TO CLEAN THE DATA TO MAKE IT ACCESSIBLE TO MACHINE LEARNING TOOLS"
   ]
  },
  {
   "cell_type": "markdown",
   "metadata": {},
   "source": [
    "> ## RACE was a multi-nomial categorical\n",
    "- I made dummies"
   ]
  },
  {
   "cell_type": "code",
   "execution_count": 19,
   "metadata": {
    "collapsed": false
   },
   "outputs": [
    {
     "data": {
      "text/plain": [
       "Caucasian          76099\n",
       "AfricanAmerican    19210\n",
       "?                   2273\n",
       "Hispanic            2037\n",
       "Other               1506\n",
       "Asian                641\n",
       "Name: race, dtype: int64"
      ]
     },
     "execution_count": 19,
     "metadata": {},
     "output_type": "execute_result"
    }
   ],
   "source": [
    "data.race.value_counts()"
   ]
  },
  {
   "cell_type": "code",
   "execution_count": 20,
   "metadata": {
    "collapsed": true
   },
   "outputs": [],
   "source": [
    "data.race = [each.replace('?','Unknown') for each in data.race]\n",
    "data.race = [each.replace('Other','Unknown') for each in data.race]"
   ]
  },
  {
   "cell_type": "code",
   "execution_count": 21,
   "metadata": {
    "collapsed": false
   },
   "outputs": [
    {
     "data": {
      "text/plain": [
       "Caucasian          76099\n",
       "AfricanAmerican    19210\n",
       "Unknown             3779\n",
       "Hispanic            2037\n",
       "Asian                641\n",
       "Name: race, dtype: int64"
      ]
     },
     "execution_count": 21,
     "metadata": {},
     "output_type": "execute_result"
    }
   ],
   "source": [
    "data.race.value_counts()"
   ]
  },
  {
   "cell_type": "code",
   "execution_count": 23,
   "metadata": {
    "collapsed": true
   },
   "outputs": [],
   "source": [
    "race_dummies = pd.get_dummies(data.race, prefix = 'race')"
   ]
  },
  {
   "cell_type": "code",
   "execution_count": 24,
   "metadata": {
    "collapsed": false
   },
   "outputs": [
    {
     "data": {
      "text/html": [
       "<div>\n",
       "<table border=\"1\" class=\"dataframe\">\n",
       "  <thead>\n",
       "    <tr style=\"text-align: right;\">\n",
       "      <th></th>\n",
       "      <th>race_AfricanAmerican</th>\n",
       "      <th>race_Asian</th>\n",
       "      <th>race_Caucasian</th>\n",
       "      <th>race_Hispanic</th>\n",
       "      <th>race_Unknown</th>\n",
       "    </tr>\n",
       "  </thead>\n",
       "  <tbody>\n",
       "    <tr>\n",
       "      <th>0</th>\n",
       "      <td>0.0</td>\n",
       "      <td>0.0</td>\n",
       "      <td>1.0</td>\n",
       "      <td>0.0</td>\n",
       "      <td>0.0</td>\n",
       "    </tr>\n",
       "    <tr>\n",
       "      <th>1</th>\n",
       "      <td>0.0</td>\n",
       "      <td>0.0</td>\n",
       "      <td>1.0</td>\n",
       "      <td>0.0</td>\n",
       "      <td>0.0</td>\n",
       "    </tr>\n",
       "    <tr>\n",
       "      <th>2</th>\n",
       "      <td>1.0</td>\n",
       "      <td>0.0</td>\n",
       "      <td>0.0</td>\n",
       "      <td>0.0</td>\n",
       "      <td>0.0</td>\n",
       "    </tr>\n",
       "    <tr>\n",
       "      <th>3</th>\n",
       "      <td>0.0</td>\n",
       "      <td>0.0</td>\n",
       "      <td>1.0</td>\n",
       "      <td>0.0</td>\n",
       "      <td>0.0</td>\n",
       "    </tr>\n",
       "    <tr>\n",
       "      <th>4</th>\n",
       "      <td>0.0</td>\n",
       "      <td>0.0</td>\n",
       "      <td>1.0</td>\n",
       "      <td>0.0</td>\n",
       "      <td>0.0</td>\n",
       "    </tr>\n",
       "  </tbody>\n",
       "</table>\n",
       "</div>"
      ],
      "text/plain": [
       "   race_AfricanAmerican  race_Asian  race_Caucasian  race_Hispanic  \\\n",
       "0                   0.0         0.0             1.0            0.0   \n",
       "1                   0.0         0.0             1.0            0.0   \n",
       "2                   1.0         0.0             0.0            0.0   \n",
       "3                   0.0         0.0             1.0            0.0   \n",
       "4                   0.0         0.0             1.0            0.0   \n",
       "\n",
       "   race_Unknown  \n",
       "0           0.0  \n",
       "1           0.0  \n",
       "2           0.0  \n",
       "3           0.0  \n",
       "4           0.0  "
      ]
     },
     "execution_count": 24,
     "metadata": {},
     "output_type": "execute_result"
    }
   ],
   "source": [
    "race_dummies.head()"
   ]
  },
  {
   "cell_type": "markdown",
   "metadata": {},
   "source": [
    "> ## GENDER was a binary categorical (though not really)\n",
    "- There were some unknowns, so I made those '2'."
   ]
  },
  {
   "cell_type": "code",
   "execution_count": 25,
   "metadata": {
    "collapsed": false
   },
   "outputs": [
    {
     "data": {
      "text/plain": [
       "Female             54708\n",
       "Male               47055\n",
       "Unknown/Invalid        3\n",
       "Name: gender, dtype: int64"
      ]
     },
     "execution_count": 25,
     "metadata": {},
     "output_type": "execute_result"
    }
   ],
   "source": [
    "data.gender.value_counts()"
   ]
  },
  {
   "cell_type": "code",
   "execution_count": 26,
   "metadata": {
    "collapsed": true
   },
   "outputs": [],
   "source": [
    "to_replace_gender = {\n",
    "    'Female' : 0,\n",
    "    'Male' : 1,\n",
    "    'Unknown/Invalid': 2}\n",
    "data.gender = data.gender.apply(lambda x: to_replace_gender[x])"
   ]
  },
  {
   "cell_type": "code",
   "execution_count": 27,
   "metadata": {
    "collapsed": false
   },
   "outputs": [
    {
     "data": {
      "text/plain": [
       "0    54708\n",
       "1    47055\n",
       "2        3\n",
       "Name: gender, dtype: int64"
      ]
     },
     "execution_count": 27,
     "metadata": {},
     "output_type": "execute_result"
    }
   ],
   "source": [
    "data.gender.value_counts()"
   ]
  },
  {
   "cell_type": "markdown",
   "metadata": {},
   "source": [
    "> ## AGE was categorical but could be numeric\n",
    "- I used the middle of each range to make it numeric"
   ]
  },
  {
   "cell_type": "code",
   "execution_count": 39,
   "metadata": {
    "collapsed": false
   },
   "outputs": [
    {
     "data": {
      "text/plain": [
       "[70-80)     26068\n",
       "[60-70)     22483\n",
       "[50-60)     17256\n",
       "[80-90)     17197\n",
       "[40-50)      9685\n",
       "[30-40)      3775\n",
       "[90-100)     2793\n",
       "[20-30)      1657\n",
       "[10-20)       691\n",
       "[0-10)        161\n",
       "Name: age, dtype: int64"
      ]
     },
     "execution_count": 39,
     "metadata": {},
     "output_type": "execute_result"
    }
   ],
   "source": [
    "data.age.value_counts()"
   ]
  },
  {
   "cell_type": "code",
   "execution_count": 40,
   "metadata": {
    "collapsed": true
   },
   "outputs": [],
   "source": [
    "to_replace_age = {\n",
    "    '[0-10)' : 5,\n",
    "    '[10-20)': 15,\n",
    "    '[20-30)': 25,\n",
    "    '[30-40)': 35,\n",
    "    '[40-50)': 45,\n",
    "    '[50-60)': 55,\n",
    "    '[60-70)': 65,\n",
    "    '[70-80)': 75,\n",
    "    '[80-90)': 85,\n",
    "    '[90-100)': 95}\n",
    "data['age'] = data['age'].apply(lambda x:to_replace_age[x])"
   ]
  },
  {
   "cell_type": "markdown",
   "metadata": {},
   "source": [
    "> ## WEIGHT was categorical, but could be numeric\n",
    "- It also had mostly unknowns.\n",
    "- It might be useful later, so I set ? to 0 and used the max for each category to make it numerical"
   ]
  },
  {
   "cell_type": "code",
   "execution_count": 43,
   "metadata": {
    "collapsed": false
   },
   "outputs": [
    {
     "data": {
      "text/plain": [
       "?            98569\n",
       "[75-100)      1336\n",
       "[50-75)        897\n",
       "[100-125)      625\n",
       "[125-150)      145\n",
       "[25-50)         97\n",
       "[0-25)          48\n",
       "[150-175)       35\n",
       "[175-200)       11\n",
       ">200             3\n",
       "Name: weight, dtype: int64"
      ]
     },
     "execution_count": 43,
     "metadata": {},
     "output_type": "execute_result"
    }
   ],
   "source": [
    "data.weight.value_counts()"
   ]
  },
  {
   "cell_type": "code",
   "execution_count": 44,
   "metadata": {
    "collapsed": false
   },
   "outputs": [
    {
     "name": "stdout",
     "output_type": "stream",
     "text": [
      "percent of weight that are unknown:   0.968584792563\n",
      "percent of weight that are known:  0.0314152074367\n",
      "number of rows where weight is known:  3197\n"
     ]
    }
   ],
   "source": [
    "print('percent of weight that are unknown:  ', data.weight[data.weight == '?'].count()/data.weight.count())\n",
    "print('percent of weight that are known: ', data.weight[data.weight != '?'].count()/data.weight.count())\n",
    "print('number of rows where weight is known: ', data.weight[data.weight != '?'].count())"
   ]
  },
  {
   "cell_type": "code",
   "execution_count": 45,
   "metadata": {
    "collapsed": true
   },
   "outputs": [],
   "source": [
    "to_replace_weight = {\n",
    "    '?' : 0,\n",
    "    '[0-25)' : 25,\n",
    "    '[25-50)': 50,\n",
    "    '[50-75)': 75,\n",
    "    '[75-100)': 100,\n",
    "    '[100-125)': 125,\n",
    "    '[125-150)': 150,\n",
    "    '[150-175)': 175,\n",
    "    '[175-200)': 200,\n",
    "    '>200': 225}\n",
    "data['weight'] = data['weight'].apply(lambda x:to_replace_weight[x])"
   ]
  },
  {
   "cell_type": "markdown",
   "metadata": {},
   "source": [
    "> ## ADMISSION_TYPE was a coded categorical\n",
    "- I re-assigned the categories, aggregated them, then made dummies"
   ]
  },
  {
   "cell_type": "code",
   "execution_count": 47,
   "metadata": {
    "collapsed": false
   },
   "outputs": [
    {
     "data": {
      "text/plain": [
       "1    53990\n",
       "3    18869\n",
       "2    18480\n",
       "6     5291\n",
       "5     4785\n",
       "8      320\n",
       "7       21\n",
       "4       10\n",
       "Name: admission_type, dtype: int64"
      ]
     },
     "execution_count": 47,
     "metadata": {},
     "output_type": "execute_result"
    }
   ],
   "source": [
    "data.admission_type.value_counts()"
   ]
  },
  {
   "cell_type": "code",
   "execution_count": 48,
   "metadata": {
    "collapsed": true
   },
   "outputs": [],
   "source": [
    "admission_type_dummies = pd.get_dummies(data.admission_type, prefix = 'admission_type')"
   ]
  },
  {
   "cell_type": "code",
   "execution_count": 49,
   "metadata": {
    "collapsed": false
   },
   "outputs": [
    {
     "data": {
      "text/html": [
       "<div>\n",
       "<table border=\"1\" class=\"dataframe\">\n",
       "  <thead>\n",
       "    <tr style=\"text-align: right;\">\n",
       "      <th></th>\n",
       "      <th>admission_type_1</th>\n",
       "      <th>admission_type_2</th>\n",
       "      <th>admission_type_3</th>\n",
       "      <th>admission_type_4</th>\n",
       "      <th>admission_type_5</th>\n",
       "      <th>admission_type_6</th>\n",
       "      <th>admission_type_7</th>\n",
       "      <th>admission_type_8</th>\n",
       "    </tr>\n",
       "  </thead>\n",
       "  <tbody>\n",
       "    <tr>\n",
       "      <th>0</th>\n",
       "      <td>0.0</td>\n",
       "      <td>0.0</td>\n",
       "      <td>0.0</td>\n",
       "      <td>0.0</td>\n",
       "      <td>0.0</td>\n",
       "      <td>1.0</td>\n",
       "      <td>0.0</td>\n",
       "      <td>0.0</td>\n",
       "    </tr>\n",
       "    <tr>\n",
       "      <th>1</th>\n",
       "      <td>1.0</td>\n",
       "      <td>0.0</td>\n",
       "      <td>0.0</td>\n",
       "      <td>0.0</td>\n",
       "      <td>0.0</td>\n",
       "      <td>0.0</td>\n",
       "      <td>0.0</td>\n",
       "      <td>0.0</td>\n",
       "    </tr>\n",
       "    <tr>\n",
       "      <th>2</th>\n",
       "      <td>1.0</td>\n",
       "      <td>0.0</td>\n",
       "      <td>0.0</td>\n",
       "      <td>0.0</td>\n",
       "      <td>0.0</td>\n",
       "      <td>0.0</td>\n",
       "      <td>0.0</td>\n",
       "      <td>0.0</td>\n",
       "    </tr>\n",
       "    <tr>\n",
       "      <th>3</th>\n",
       "      <td>1.0</td>\n",
       "      <td>0.0</td>\n",
       "      <td>0.0</td>\n",
       "      <td>0.0</td>\n",
       "      <td>0.0</td>\n",
       "      <td>0.0</td>\n",
       "      <td>0.0</td>\n",
       "      <td>0.0</td>\n",
       "    </tr>\n",
       "    <tr>\n",
       "      <th>4</th>\n",
       "      <td>1.0</td>\n",
       "      <td>0.0</td>\n",
       "      <td>0.0</td>\n",
       "      <td>0.0</td>\n",
       "      <td>0.0</td>\n",
       "      <td>0.0</td>\n",
       "      <td>0.0</td>\n",
       "      <td>0.0</td>\n",
       "    </tr>\n",
       "  </tbody>\n",
       "</table>\n",
       "</div>"
      ],
      "text/plain": [
       "   admission_type_1  admission_type_2  admission_type_3  admission_type_4  \\\n",
       "0               0.0               0.0               0.0               0.0   \n",
       "1               1.0               0.0               0.0               0.0   \n",
       "2               1.0               0.0               0.0               0.0   \n",
       "3               1.0               0.0               0.0               0.0   \n",
       "4               1.0               0.0               0.0               0.0   \n",
       "\n",
       "   admission_type_5  admission_type_6  admission_type_7  admission_type_8  \n",
       "0               0.0               1.0               0.0               0.0  \n",
       "1               0.0               0.0               0.0               0.0  \n",
       "2               0.0               0.0               0.0               0.0  \n",
       "3               0.0               0.0               0.0               0.0  \n",
       "4               0.0               0.0               0.0               0.0  "
      ]
     },
     "execution_count": 49,
     "metadata": {},
     "output_type": "execute_result"
    }
   ],
   "source": [
    "admission_type_dummies.head()"
   ]
  },
  {
   "cell_type": "markdown",
   "metadata": {},
   "source": [
    "> ## DISCHARGE_DISPOSITION was a coded categorical\n",
    "- I re-assigned the categories, aggregated them, then made dummies"
   ]
  },
  {
   "cell_type": "code",
   "execution_count": 50,
   "metadata": {
    "collapsed": true
   },
   "outputs": [],
   "source": [
    "to_replace_discharge_disposition = {\n",
    "    1 : 'home',\n",
    "    2 : 'short term hospital',\n",
    "    3 : 'SNF',\n",
    "    4 : 'ICF',\n",
    "    5 : 'inpatient care institution',\n",
    "    6 : 'home with home health service',\n",
    "    7 : 'Left AMA',\n",
    "    8 : 'home under care of home IV provider',\n",
    "    9 : 'admitted to this hospital',\n",
    "    10 : 'neonate to another neonate hospital',\n",
    "    11 : 'expired',\n",
    "    12 : 'still patient or expected to return for outpatient',\n",
    "    13 : 'hospice at home',\n",
    "    14 : 'hospice at medical facility',\n",
    "    15 : 'this institution for medicare approved swing bed',\n",
    "    16 : 'another institution for outpatient services',\n",
    "    17 : 'this institution for outpatient services',\n",
    "    18 : 'NULL',\n",
    "    19 : 'expired at home. Medicaid only, hospice',\n",
    "    20 : 'expired at medical facility. Medicaid only, hospice',\n",
    "    21 : 'expired at unknown place. Medicaid only, hospice',\n",
    "    22 : 'rehab facility',\n",
    "    23 : 'long term care hospital',\n",
    "    24 : 'SNF under medicaid, but not medicare',\n",
    "    25 : 'NULL',\n",
    "    26 : 'another health care facility, undefined',\n",
    "    27 : 'federal health care facility',\n",
    "    28 : 'psychiatric hospital',\n",
    "    29 : 'critical care access hospital'}\n",
    "data['discharge_disposition'] = data['discharge_disposition'].apply(lambda x:to_replace_discharge_disposition[x])"
   ]
  },
  {
   "cell_type": "code",
   "execution_count": 51,
   "metadata": {
    "collapsed": false
   },
   "outputs": [
    {
     "data": {
      "text/plain": [
       "home                                                   60234\n",
       "SNF                                                    13954\n",
       "home with home health service                          12902\n",
       "NULL                                                    4680\n",
       "short term hospital                                     2128\n",
       "rehab facility                                          1993\n",
       "expired                                                 1642\n",
       "inpatient care institution                              1184\n",
       "ICF                                                      815\n",
       "Left AMA                                                 623\n",
       "long term care hospital                                  412\n",
       "hospice at home                                          399\n",
       "hospice at medical facility                              372\n",
       "psychiatric hospital                                     139\n",
       "home under care of home IV provider                      108\n",
       "this institution for medicare approved swing bed          63\n",
       "SNF under medicaid, but not medicare                      48\n",
       "admitted to this hospital                                 21\n",
       "this institution for outpatient services                  14\n",
       "another institution for outpatient services               11\n",
       "expired at home. Medicaid only, hospice                    8\n",
       "neonate to another neonate hospital                        6\n",
       "federal health care facility                               5\n",
       "still patient or expected to return for outpatient         3\n",
       "expired at medical facility. Medicaid only, hospice        2\n",
       "Name: discharge_disposition, dtype: int64"
      ]
     },
     "execution_count": 51,
     "metadata": {},
     "output_type": "execute_result"
    }
   ],
   "source": [
    "data.discharge_disposition.value_counts()"
   ]
  },
  {
   "cell_type": "markdown",
   "metadata": {},
   "source": [
    "> > aggregated to discharged_to_location, then made dummies"
   ]
  },
  {
   "cell_type": "code",
   "execution_count": 52,
   "metadata": {
    "collapsed": true
   },
   "outputs": [],
   "source": [
    "to_get_discharged_to_location = {\n",
    "    'home' : 'home',\n",
    "    'short term hospital' : 'facility',\n",
    "    'SNF' : 'facility',\n",
    "    'ICF' : 'facility',\n",
    "    'inpatient care institution' : 'facility',\n",
    "    'home with home health service' : 'home',\n",
    "    'Left AMA' : 'home',\n",
    "    'home under care of home IV provider' : 'home',\n",
    "    'admitted to this hospital' : 'facility',\n",
    "    'neonate to another neonate hospital' : 'facility',\n",
    "    'expired' : 'NULL',\n",
    "    'still patient or expected to return for outpatient' : 'facility',\n",
    "    'hospice at home' : 'home',\n",
    "    'hospice at medical facility' : 'facility',\n",
    "    'this institution for medicare approved swing bed' : 'facility',\n",
    "    'another institution for outpatient services' : 'facility',\n",
    "    'this institution for outpatient services' : 'facility',\n",
    "    'NULL' : 'NULL',\n",
    "    'expired at home. Medicaid only, hospice' : 'home',\n",
    "    'expired at medical facility. Medicaid only, hospice' : 'facility',\n",
    "    'expired at unknown place. Medicaid only, hospice' : 'NULL',\n",
    "    'rehab facility' : 'facility',\n",
    "    'long term care hospital' : 'facility',\n",
    "    'SNF under medicaid, but not medicare' : 'facility',\n",
    "    'another health care facility, undefined' : 'facility',\n",
    "    'federal health care facility' : 'facility',\n",
    "    'psychiatric hospital' : 'facility',\n",
    "    'critical care access hospital' : 'facility'}\n",
    "\n",
    "data['discharged_to_location'] = data['discharge_disposition'].apply(lambda x:to_get_discharged_to_location[x])"
   ]
  },
  {
   "cell_type": "code",
   "execution_count": 53,
   "metadata": {
    "collapsed": false
   },
   "outputs": [
    {
     "data": {
      "text/plain": [
       "home        74274\n",
       "facility    21170\n",
       "NULL         6322\n",
       "Name: discharged_to_location, dtype: int64"
      ]
     },
     "execution_count": 53,
     "metadata": {},
     "output_type": "execute_result"
    }
   ],
   "source": [
    "data.discharged_to_location.value_counts()"
   ]
  },
  {
   "cell_type": "code",
   "execution_count": 54,
   "metadata": {
    "collapsed": true
   },
   "outputs": [],
   "source": [
    "discharged_to_location_dummies = pd.get_dummies(data.discharged_to_location, prefix = 'discharged_to_location')"
   ]
  },
  {
   "cell_type": "code",
   "execution_count": 55,
   "metadata": {
    "collapsed": false
   },
   "outputs": [
    {
     "data": {
      "text/html": [
       "<div>\n",
       "<table border=\"1\" class=\"dataframe\">\n",
       "  <thead>\n",
       "    <tr style=\"text-align: right;\">\n",
       "      <th></th>\n",
       "      <th>discharged_to_location_NULL</th>\n",
       "      <th>discharged_to_location_facility</th>\n",
       "      <th>discharged_to_location_home</th>\n",
       "    </tr>\n",
       "  </thead>\n",
       "  <tbody>\n",
       "    <tr>\n",
       "      <th>0</th>\n",
       "      <td>1.0</td>\n",
       "      <td>0.0</td>\n",
       "      <td>0.0</td>\n",
       "    </tr>\n",
       "    <tr>\n",
       "      <th>1</th>\n",
       "      <td>0.0</td>\n",
       "      <td>0.0</td>\n",
       "      <td>1.0</td>\n",
       "    </tr>\n",
       "    <tr>\n",
       "      <th>2</th>\n",
       "      <td>0.0</td>\n",
       "      <td>0.0</td>\n",
       "      <td>1.0</td>\n",
       "    </tr>\n",
       "    <tr>\n",
       "      <th>3</th>\n",
       "      <td>0.0</td>\n",
       "      <td>0.0</td>\n",
       "      <td>1.0</td>\n",
       "    </tr>\n",
       "    <tr>\n",
       "      <th>4</th>\n",
       "      <td>0.0</td>\n",
       "      <td>0.0</td>\n",
       "      <td>1.0</td>\n",
       "    </tr>\n",
       "  </tbody>\n",
       "</table>\n",
       "</div>"
      ],
      "text/plain": [
       "   discharged_to_location_NULL  discharged_to_location_facility  \\\n",
       "0                          1.0                              0.0   \n",
       "1                          0.0                              0.0   \n",
       "2                          0.0                              0.0   \n",
       "3                          0.0                              0.0   \n",
       "4                          0.0                              0.0   \n",
       "\n",
       "   discharged_to_location_home  \n",
       "0                          0.0  \n",
       "1                          1.0  \n",
       "2                          1.0  \n",
       "3                          1.0  \n",
       "4                          1.0  "
      ]
     },
     "execution_count": 55,
     "metadata": {},
     "output_type": "execute_result"
    }
   ],
   "source": [
    "discharged_to_location_dummies.head()"
   ]
  },
  {
   "cell_type": "markdown",
   "metadata": {},
   "source": [
    ">> Tried some extra features based on the aggregated discharge dispositions and made them boolean"
   ]
  },
  {
   "cell_type": "code",
   "execution_count": 57,
   "metadata": {
    "collapsed": true
   },
   "outputs": [],
   "source": [
    "to_get_discharge_expired = {\n",
    "    'home' : 0,\n",
    "    'short term hospital' : 0,\n",
    "    'SNF' : 0,\n",
    "    'ICF' : 0,\n",
    "    'inpatient care institution' : 0,\n",
    "    'home with home health service' : 0,\n",
    "    'Left AMA' : 0,\n",
    "    'home under care of home IV provider' : 0,\n",
    "    'admitted to this hospital' : 0,\n",
    "    'neonate to another neonate hospital' : 0,\n",
    "    'expired' : 1,\n",
    "    'still patient or expected to return for outpatient' : 0,\n",
    "    'hospice at home' : 0,\n",
    "    'hospice at medical facility' : 0,\n",
    "    'this institution for medicare approved swing bed' : 0,\n",
    "    'another institution for outpatient services' : 0,\n",
    "    'this institution for outpatient services' : 0,\n",
    "    'NULL' : 0,\n",
    "    'expired at home. Medicaid only, hospice' : 1,\n",
    "    'expired at medical facility. Medicaid only, hospice' : 1,\n",
    "    'expired at unknown place. Medicaid only, hospice' : 1,\n",
    "    'rehab facility' : 0,\n",
    "    'long term care hospital' : 0,\n",
    "    'SNF under medicaid, but not medicare' : 0,\n",
    "    'another health care facility, undefined' : 0,\n",
    "    'federal health care facility' : 0,\n",
    "    'psychiatric hospital' : 0,\n",
    "    'critical care access hospital' : 0,}\n",
    "data['discharge_expired'] = data['discharge_disposition'].apply(lambda x:to_get_discharge_expired[x])\n",
    "\n",
    "\n",
    "\n",
    "to_get_discharge_hospice = {\n",
    "    'home' : 0,\n",
    "    'short term hospital' : 0,\n",
    "    'SNF' : 0,\n",
    "    'ICF' : 0,\n",
    "    'inpatient care institution' : 0,\n",
    "    'home with home health service' : 0,\n",
    "    'Left AMA' : 0,\n",
    "    'home under care of home IV provider' : 0,\n",
    "    'admitted to this hospital' : 0,\n",
    "    'neonate to another neonate hospital' : 0,\n",
    "    'expired' : 0,\n",
    "    'still patient or expected to return for outpatient' : 0,\n",
    "    'hospice at home' : 1,\n",
    "    'hospice at medical facility' : 1,\n",
    "    'this institution for medicare approved swing bed' : 0,\n",
    "    'another institution for outpatient services' : 0,\n",
    "    'this institution for outpatient services' : 0,\n",
    "    'NULL' : 0,\n",
    "    'expired at home. Medicaid only, hospice' : 1,\n",
    "    'expired at medical facility. Medicaid only, hospice' : 1,\n",
    "    'expired at unknown place. Medicaid only, hospice' : 1,\n",
    "    'rehab facility' : 0,\n",
    "    'long term care hospital' : 0,\n",
    "    'SNF under medicaid, but not medicare' : 0,\n",
    "    'another health care facility, undefined' : 0,\n",
    "    'federal health care facility' : 0,\n",
    "    'psychiatric hospital' : 0,\n",
    "    'critical care access hospital' : 0}\n",
    "data['discharge_hospice'] = data['discharge_disposition'].apply(lambda x:to_get_discharge_hospice[x])\n",
    "\n",
    "\n",
    "\n",
    "to_get_discharge_with_care = {\n",
    "    'home' : 0,\n",
    "    'short term hospital' : 1,\n",
    "    'SNF' : 1,\n",
    "    'ICF' : 1,\n",
    "    'inpatient care institution' : 1,\n",
    "    'home with home health service' : 1,\n",
    "    'Left AMA' : 0,\n",
    "    'home under care of home IV provider' : 1,\n",
    "    'admitted to this hospital' : 1,\n",
    "    'neonate to another neonate hospital' : 1,\n",
    "    'expired' : 0,\n",
    "    'still patient or expected to return for outpatient' : 1,\n",
    "    'hospice at home' : 1,\n",
    "    'hospice at medical facility' : 1,\n",
    "    'this institution for medicare approved swing bed' : 1,\n",
    "    'another institution for outpatient services' : 1,\n",
    "    'this institution for outpatient services' : 1,\n",
    "    'NULL' : 0,\n",
    "    'expired at home. Medicaid only, hospice' : 0,\n",
    "    'expired at medical facility. Medicaid only, hospice' : 0,\n",
    "    'expired at unknown place. Medicaid only, hospice' : 0,\n",
    "    'rehab facility' : 1,\n",
    "    'long term care hospital' : 1,\n",
    "    'SNF under medicaid, but not medicare' : 1,\n",
    "    'another health care facility, undefined' : 1,\n",
    "    'federal health care facility' : 1,\n",
    "    'psychiatric hospital' : 1,\n",
    "    'critical care access hospital' : 1,}\n",
    "data['discharge_with_care'] = data['discharge_disposition'].apply(lambda x:to_get_discharge_with_care[x])\n",
    "\n",
    "\n",
    "\n",
    "to_get_discharge_medicaid = {\n",
    "    'home' : 0,\n",
    "    'short term hospital' : 0,\n",
    "    'SNF' : 0,\n",
    "    'ICF' : 0,\n",
    "    'inpatient care institution' : 0,\n",
    "    'home with home health service' : 0,\n",
    "    'Left AMA' : 0,\n",
    "    'home under care of home IV provider' : 0,\n",
    "    'admitted to this hospital' : 0,\n",
    "    'neonate to another neonate hospital' : 0,\n",
    "    'expired' : 0,\n",
    "    'still patient or expected to return for outpatient' : 0,\n",
    "    'hospice at home' : 0,\n",
    "    'hospice at medical facility' : 0,\n",
    "    'this institution for medicare approved swing bed' : 0,\n",
    "    'another institution for outpatient services' : 0,\n",
    "    'this institution for outpatient services' : 0,\n",
    "    'NULL' : 0,\n",
    "    'expired at home. Medicaid only, hospice' : 1,\n",
    "    'expired at medical facility. Medicaid only, hospice' : 1,\n",
    "    'expired at unknown place. Medicaid only, hospice' : 1,\n",
    "    'rehab facility' : 0,\n",
    "    'long term care hospital' : 0,\n",
    "    'SNF under medicaid, but not medicare' : 1,\n",
    "    'another health care facility, undefined' : 0,\n",
    "    'federal health care facility' : 0,\n",
    "    'psychiatric hospital' : 0,\n",
    "    'critical care access hospital' : 0}\n",
    "data['discharge_medicaid'] = data['discharge_disposition'].apply(lambda x:to_get_discharge_medicaid[x])\n",
    "\n",
    "\n",
    "\n",
    "to_get_discharge_medicare = {\n",
    "    'home' : 0,\n",
    "    'short term hospital' : 0,\n",
    "    'SNF' : 0,\n",
    "    'ICF' : 0,\n",
    "    'inpatient care institution' : 0,\n",
    "    'home with home health service' : 0,\n",
    "    'Left AMA' : 0,\n",
    "    'home under care of home IV provider' : 0,\n",
    "    'admitted to this hospital' : 0,\n",
    "    'neonate to another neonate hospital' : 0,\n",
    "    'expired' : 0,\n",
    "    'still patient or expected to return for outpatient' : 0,\n",
    "    'hospice at home' : 0,\n",
    "    'hospice at medical facility' : 0,\n",
    "    'this institution for medicare approved swing bed' : 1,\n",
    "    'another institution for outpatient services' : 0,\n",
    "    'this institution for outpatient services' : 0,\n",
    "    'NULL' : 0,\n",
    "    'expired at home. Medicaid only, hospice' : 0,\n",
    "    'expired at medical facility. Medicaid only, hospice' : 0,\n",
    "    'expired at unknown place. Medicaid only, hospice' : 0,\n",
    "    'rehab facility' : 0,\n",
    "    'long term care hospital' : 0,\n",
    "    'SNF under medicaid, but not medicare' : 0,\n",
    "    'another health care facility, undefined' : 0,\n",
    "    'federal health care facility' : 0,\n",
    "    'psychiatric hospital' : 0,\n",
    "    'critical care access hospital' : 0}\n",
    "data['discharge_medicare'] = data['discharge_disposition'].apply(lambda x:to_get_discharge_medicare[x])"
   ]
  },
  {
   "cell_type": "code",
   "execution_count": 58,
   "metadata": {
    "collapsed": false
   },
   "outputs": [
    {
     "name": "stdout",
     "output_type": "stream",
     "text": [
      "percent of total expired:  1.62333195763 %\n",
      "0    100114\n",
      "1      1652\n",
      "Name: discharge_expired, dtype: int64\n",
      "\n",
      "\n",
      "percent of total with hospice:  0.767446887959 %\n",
      "0    100985\n",
      "1       781\n",
      "Name: discharge_hospice, dtype: int64\n",
      "\n",
      "\n",
      "percent of total discharged with care:  33.9769667669 %\n",
      "0    67189\n",
      "1    34577\n",
      "Name: discharge_with_care, dtype: int64\n",
      "\n",
      "\n",
      "discharge_medicaid is too sparce to be useful\n",
      "0    101708\n",
      "1        58\n",
      "Name: discharge_medicaid, dtype: int64\n",
      "\n",
      "\n",
      "discharge_medicare is too sparce to be useful\n",
      "0    101703\n",
      "1        63\n",
      "Name: discharge_medicare, dtype: int64\n"
     ]
    }
   ],
   "source": [
    "print('percent of total expired: ', \n",
    "      data.discharge_expired[data.discharge_expired == 1].count() / data.discharge_expired.count() * 100,\n",
    "     '%')\n",
    "print(data.discharge_expired.value_counts())\n",
    "print()\n",
    "print()\n",
    "print('percent of total with hospice: ', \n",
    "      data.discharge_hospice[data.discharge_hospice == 1].count()/data.discharge_hospice.count() * 100,\n",
    "     '%')\n",
    "print(data.discharge_hospice.value_counts())\n",
    "print()\n",
    "print()\n",
    "print('percent of total discharged with care: ', \n",
    "      data.discharge_with_care[data.discharge_with_care == 1].count()/data.discharge_with_care.count()* 100,\n",
    "     '%')\n",
    "print(data.discharge_with_care.value_counts())\n",
    "print()\n",
    "print()\n",
    "print('discharge_medicaid is too sparce to be useful')\n",
    "print(data.discharge_medicaid.value_counts())\n",
    "print()\n",
    "print()\n",
    "print('discharge_medicare is too sparce to be useful')\n",
    "print(data.discharge_medicare.value_counts())"
   ]
  },
  {
   "cell_type": "markdown",
   "metadata": {},
   "source": [
    "> ## ADMISSION_SOURCE was a coded categorical\n",
    "- I re-assigned the categories, aggregated them, then made dummies"
   ]
  },
  {
   "cell_type": "code",
   "execution_count": 59,
   "metadata": {
    "collapsed": true
   },
   "outputs": [],
   "source": [
    "to_replace_admission_source = {\n",
    "    1 : 'MD',\n",
    "    2 : 'clinic',\n",
    "    3 : 'HMO',\n",
    "    4 : 'hospital',\n",
    "    5 : 'SNF',\n",
    "    6 : 'another health care facility',\n",
    "    7 : 'ED',\n",
    "    8 : 'court or law enforcement',\n",
    "    9 : 'NULL',\n",
    "    10 : 'critical access hospital',\n",
    "    11 : 'normal delivery',\n",
    "    12 : 'premature delivery',\n",
    "    13 : 'sick baby',\n",
    "    14 : 'extramural birth',\n",
    "    15 : 'NULL',\n",
    "    16 : 'NULL',\n",
    "    17 : 'NULL',\n",
    "    18 : 'home health agency - transfer from another',\n",
    "    19 : 'home health agency - readmission to same',\n",
    "    20 : 'NULL',\n",
    "    21 : 'NULL',\n",
    "    22 : 'hospital, now a different claim',\n",
    "    23 : 'born in this hospital',\n",
    "    24 : 'born in other hospital',\n",
    "    25 : 'transfer from outpatient surgery center',\n",
    "    26 : 'hospice'}\n",
    "data['admission_source'] = data['admission_source'].apply(lambda x:to_replace_admission_source[x])"
   ]
  },
  {
   "cell_type": "code",
   "execution_count": 61,
   "metadata": {
    "collapsed": false
   },
   "outputs": [
    {
     "data": {
      "text/plain": [
       "ED                                         57494\n",
       "MD                                         29565\n",
       "NULL                                        7067\n",
       "hospital                                    3187\n",
       "another health care facility                2264\n",
       "clinic                                      1104\n",
       "SNF                                          855\n",
       "HMO                                          187\n",
       "court or law enforcement                      16\n",
       "hospital, now a different claim               12\n",
       "critical access hospital                       8\n",
       "extramural birth                               2\n",
       "normal delivery                                2\n",
       "transfer from outpatient surgery center        2\n",
       "sick baby                                      1\n",
       "Name: admission_source, dtype: int64"
      ]
     },
     "execution_count": 61,
     "metadata": {},
     "output_type": "execute_result"
    }
   ],
   "source": [
    "data.admission_source.value_counts()"
   ]
  },
  {
   "cell_type": "markdown",
   "metadata": {},
   "source": [
    "> > #### admission_aggregated"
   ]
  },
  {
   "cell_type": "code",
   "execution_count": 62,
   "metadata": {
    "collapsed": true
   },
   "outputs": [],
   "source": [
    "to_get_admission_source_aggregated = {\n",
    "    'MD' : 'MD',\n",
    "    'clinic' : 'outpatient',\n",
    "    'HMO' : 'HMO',\n",
    "    'hospital' : 'inpatient',\n",
    "    'SNF' : 'inpatient',\n",
    "    'another health care facility' : 'inpatient',\n",
    "    'ED' : 'ED',\n",
    "    'court or law enforcement' : 'police',\n",
    "    'NULL' : 'NULL',\n",
    "    'critical access hospital' : 'inpatient',\n",
    "    'normal delivery' : 'obstetrics',\n",
    "    'premature delivery' : 'obstetrics',\n",
    "    'sick baby' : 'obstetrics',\n",
    "    'extramural birth' : 'obstetrics',\n",
    "    'home health agency - transfer from another' : 'Home Health',\n",
    "    'home health agency - readmission to same' : 'Home Health',\n",
    "    'hospital, now a different claim' : 'inpatient',\n",
    "    'born in this hospital' : 'obstetrics',\n",
    "    'born in other hospital' : 'obstetrics',\n",
    "    'transfer from outpatient surgery center' : 'outpatient',\n",
    "    'hospice' : 'hospice'}\n",
    "data['admission_source_aggregated'] = data['admission_source'].apply(lambda x:to_get_admission_source_aggregated[x])"
   ]
  },
  {
   "cell_type": "code",
   "execution_count": null,
   "metadata": {
    "collapsed": true
   },
   "outputs": [],
   "source": [
    "data.admission_source_aggregated.value_counts()"
   ]
  },
  {
   "cell_type": "code",
   "execution_count": 64,
   "metadata": {
    "collapsed": true
   },
   "outputs": [],
   "source": [
    "admission_source_aggregated_dummies = pd.get_dummies(data.admission_source_aggregated, prefix = 'admission_source_aggregated')"
   ]
  },
  {
   "cell_type": "code",
   "execution_count": 65,
   "metadata": {
    "collapsed": false
   },
   "outputs": [
    {
     "data": {
      "text/html": [
       "<div>\n",
       "<table border=\"1\" class=\"dataframe\">\n",
       "  <thead>\n",
       "    <tr style=\"text-align: right;\">\n",
       "      <th></th>\n",
       "      <th>admission_source_aggregated_ED</th>\n",
       "      <th>admission_source_aggregated_HMO</th>\n",
       "      <th>admission_source_aggregated_MD</th>\n",
       "      <th>admission_source_aggregated_NULL</th>\n",
       "      <th>admission_source_aggregated_inpatient</th>\n",
       "      <th>admission_source_aggregated_obstetrics</th>\n",
       "      <th>admission_source_aggregated_outpatient</th>\n",
       "      <th>admission_source_aggregated_police</th>\n",
       "    </tr>\n",
       "  </thead>\n",
       "  <tbody>\n",
       "    <tr>\n",
       "      <th>0</th>\n",
       "      <td>0.0</td>\n",
       "      <td>0.0</td>\n",
       "      <td>1.0</td>\n",
       "      <td>0.0</td>\n",
       "      <td>0.0</td>\n",
       "      <td>0.0</td>\n",
       "      <td>0.0</td>\n",
       "      <td>0.0</td>\n",
       "    </tr>\n",
       "    <tr>\n",
       "      <th>1</th>\n",
       "      <td>1.0</td>\n",
       "      <td>0.0</td>\n",
       "      <td>0.0</td>\n",
       "      <td>0.0</td>\n",
       "      <td>0.0</td>\n",
       "      <td>0.0</td>\n",
       "      <td>0.0</td>\n",
       "      <td>0.0</td>\n",
       "    </tr>\n",
       "    <tr>\n",
       "      <th>2</th>\n",
       "      <td>1.0</td>\n",
       "      <td>0.0</td>\n",
       "      <td>0.0</td>\n",
       "      <td>0.0</td>\n",
       "      <td>0.0</td>\n",
       "      <td>0.0</td>\n",
       "      <td>0.0</td>\n",
       "      <td>0.0</td>\n",
       "    </tr>\n",
       "    <tr>\n",
       "      <th>3</th>\n",
       "      <td>1.0</td>\n",
       "      <td>0.0</td>\n",
       "      <td>0.0</td>\n",
       "      <td>0.0</td>\n",
       "      <td>0.0</td>\n",
       "      <td>0.0</td>\n",
       "      <td>0.0</td>\n",
       "      <td>0.0</td>\n",
       "    </tr>\n",
       "    <tr>\n",
       "      <th>4</th>\n",
       "      <td>1.0</td>\n",
       "      <td>0.0</td>\n",
       "      <td>0.0</td>\n",
       "      <td>0.0</td>\n",
       "      <td>0.0</td>\n",
       "      <td>0.0</td>\n",
       "      <td>0.0</td>\n",
       "      <td>0.0</td>\n",
       "    </tr>\n",
       "  </tbody>\n",
       "</table>\n",
       "</div>"
      ],
      "text/plain": [
       "   admission_source_aggregated_ED  admission_source_aggregated_HMO  \\\n",
       "0                             0.0                              0.0   \n",
       "1                             1.0                              0.0   \n",
       "2                             1.0                              0.0   \n",
       "3                             1.0                              0.0   \n",
       "4                             1.0                              0.0   \n",
       "\n",
       "   admission_source_aggregated_MD  admission_source_aggregated_NULL  \\\n",
       "0                             1.0                               0.0   \n",
       "1                             0.0                               0.0   \n",
       "2                             0.0                               0.0   \n",
       "3                             0.0                               0.0   \n",
       "4                             0.0                               0.0   \n",
       "\n",
       "   admission_source_aggregated_inpatient  \\\n",
       "0                                    0.0   \n",
       "1                                    0.0   \n",
       "2                                    0.0   \n",
       "3                                    0.0   \n",
       "4                                    0.0   \n",
       "\n",
       "   admission_source_aggregated_obstetrics  \\\n",
       "0                                     0.0   \n",
       "1                                     0.0   \n",
       "2                                     0.0   \n",
       "3                                     0.0   \n",
       "4                                     0.0   \n",
       "\n",
       "   admission_source_aggregated_outpatient  admission_source_aggregated_police  \n",
       "0                                     0.0                                 0.0  \n",
       "1                                     0.0                                 0.0  \n",
       "2                                     0.0                                 0.0  \n",
       "3                                     0.0                                 0.0  \n",
       "4                                     0.0                                 0.0  "
      ]
     },
     "execution_count": 65,
     "metadata": {},
     "output_type": "execute_result"
    }
   ],
   "source": [
    "admission_source_aggregated_dummies.head()"
   ]
  },
  {
   "cell_type": "markdown",
   "metadata": {},
   "source": [
    "> ## DAYS_IN_HOSPITAL was numeric with a somewhat Poisson distribution"
   ]
  },
  {
   "cell_type": "code",
   "execution_count": 91,
   "metadata": {
    "collapsed": false
   },
   "outputs": [
    {
     "data": {
      "text/plain": [
       "3     17756\n",
       "2     17224\n",
       "1     14208\n",
       "4     13924\n",
       "5      9966\n",
       "6      7539\n",
       "7      5859\n",
       "8      4391\n",
       "9      3002\n",
       "10     2342\n",
       "11     1855\n",
       "12     1448\n",
       "13     1210\n",
       "14     1042\n",
       "Name: days_in_hospital, dtype: int64"
      ]
     },
     "execution_count": 91,
     "metadata": {},
     "output_type": "execute_result"
    }
   ],
   "source": [
    "data.days_in_hospital.value_counts().sort_values(ascending=False)"
   ]
  },
  {
   "cell_type": "markdown",
   "metadata": {},
   "source": [
    "> ## PAYOR_CODE was a coded categorical \n",
    "- It had many unknowns and unclear codes, but I couldn't find an explanation, so I left them.  \n",
    "- This feature might not even be useful, but I made dummies to test it"
   ]
  },
  {
   "cell_type": "code",
   "execution_count": 67,
   "metadata": {
    "collapsed": false
   },
   "outputs": [
    {
     "data": {
      "text/plain": [
       "?     40256\n",
       "MC    32439\n",
       "HM     6274\n",
       "SP     5007\n",
       "BC     4655\n",
       "MD     3532\n",
       "CP     2533\n",
       "UN     2448\n",
       "CM     1937\n",
       "OG     1033\n",
       "PO      592\n",
       "DM      549\n",
       "CH      146\n",
       "WC      135\n",
       "OT       95\n",
       "MP       79\n",
       "SI       55\n",
       "FR        1\n",
       "Name: payor_code, dtype: int64"
      ]
     },
     "execution_count": 67,
     "metadata": {},
     "output_type": "execute_result"
    }
   ],
   "source": [
    "data.payor_code.value_counts()"
   ]
  },
  {
   "cell_type": "code",
   "execution_count": 68,
   "metadata": {
    "collapsed": true
   },
   "outputs": [],
   "source": [
    "data.payor_code = [each.replace('?','Unknown') for each in data.payor_code]"
   ]
  },
  {
   "cell_type": "code",
   "execution_count": 69,
   "metadata": {
    "collapsed": false
   },
   "outputs": [
    {
     "data": {
      "text/plain": [
       "Unknown    40256\n",
       "MC         32439\n",
       "HM          6274\n",
       "SP          5007\n",
       "BC          4655\n",
       "MD          3532\n",
       "CP          2533\n",
       "UN          2448\n",
       "CM          1937\n",
       "OG          1033\n",
       "PO           592\n",
       "DM           549\n",
       "CH           146\n",
       "WC           135\n",
       "OT            95\n",
       "MP            79\n",
       "SI            55\n",
       "FR             1\n",
       "Name: payor_code, dtype: int64"
      ]
     },
     "execution_count": 69,
     "metadata": {},
     "output_type": "execute_result"
    }
   ],
   "source": [
    "data.payor_code.value_counts()"
   ]
  },
  {
   "cell_type": "code",
   "execution_count": 72,
   "metadata": {
    "collapsed": true
   },
   "outputs": [],
   "source": [
    "payor_code_dummies = pd.get_dummies(data.payor_code, prefix = 'payor_code')"
   ]
  },
  {
   "cell_type": "code",
   "execution_count": 73,
   "metadata": {
    "collapsed": false
   },
   "outputs": [
    {
     "data": {
      "text/html": [
       "<div>\n",
       "<table border=\"1\" class=\"dataframe\">\n",
       "  <thead>\n",
       "    <tr style=\"text-align: right;\">\n",
       "      <th></th>\n",
       "      <th>payor_code_BC</th>\n",
       "      <th>payor_code_CH</th>\n",
       "      <th>payor_code_CM</th>\n",
       "      <th>payor_code_CP</th>\n",
       "      <th>payor_code_DM</th>\n",
       "      <th>payor_code_FR</th>\n",
       "      <th>payor_code_HM</th>\n",
       "      <th>payor_code_MC</th>\n",
       "      <th>payor_code_MD</th>\n",
       "      <th>payor_code_MP</th>\n",
       "      <th>payor_code_OG</th>\n",
       "      <th>payor_code_OT</th>\n",
       "      <th>payor_code_PO</th>\n",
       "      <th>payor_code_SI</th>\n",
       "      <th>payor_code_SP</th>\n",
       "      <th>payor_code_UN</th>\n",
       "      <th>payor_code_Unknown</th>\n",
       "      <th>payor_code_WC</th>\n",
       "    </tr>\n",
       "  </thead>\n",
       "  <tbody>\n",
       "    <tr>\n",
       "      <th>0</th>\n",
       "      <td>0.0</td>\n",
       "      <td>0.0</td>\n",
       "      <td>0.0</td>\n",
       "      <td>0.0</td>\n",
       "      <td>0.0</td>\n",
       "      <td>0.0</td>\n",
       "      <td>0.0</td>\n",
       "      <td>0.0</td>\n",
       "      <td>0.0</td>\n",
       "      <td>0.0</td>\n",
       "      <td>0.0</td>\n",
       "      <td>0.0</td>\n",
       "      <td>0.0</td>\n",
       "      <td>0.0</td>\n",
       "      <td>0.0</td>\n",
       "      <td>0.0</td>\n",
       "      <td>1.0</td>\n",
       "      <td>0.0</td>\n",
       "    </tr>\n",
       "    <tr>\n",
       "      <th>1</th>\n",
       "      <td>0.0</td>\n",
       "      <td>0.0</td>\n",
       "      <td>0.0</td>\n",
       "      <td>0.0</td>\n",
       "      <td>0.0</td>\n",
       "      <td>0.0</td>\n",
       "      <td>0.0</td>\n",
       "      <td>0.0</td>\n",
       "      <td>0.0</td>\n",
       "      <td>0.0</td>\n",
       "      <td>0.0</td>\n",
       "      <td>0.0</td>\n",
       "      <td>0.0</td>\n",
       "      <td>0.0</td>\n",
       "      <td>0.0</td>\n",
       "      <td>0.0</td>\n",
       "      <td>1.0</td>\n",
       "      <td>0.0</td>\n",
       "    </tr>\n",
       "    <tr>\n",
       "      <th>2</th>\n",
       "      <td>0.0</td>\n",
       "      <td>0.0</td>\n",
       "      <td>0.0</td>\n",
       "      <td>0.0</td>\n",
       "      <td>0.0</td>\n",
       "      <td>0.0</td>\n",
       "      <td>0.0</td>\n",
       "      <td>0.0</td>\n",
       "      <td>0.0</td>\n",
       "      <td>0.0</td>\n",
       "      <td>0.0</td>\n",
       "      <td>0.0</td>\n",
       "      <td>0.0</td>\n",
       "      <td>0.0</td>\n",
       "      <td>0.0</td>\n",
       "      <td>0.0</td>\n",
       "      <td>1.0</td>\n",
       "      <td>0.0</td>\n",
       "    </tr>\n",
       "    <tr>\n",
       "      <th>3</th>\n",
       "      <td>0.0</td>\n",
       "      <td>0.0</td>\n",
       "      <td>0.0</td>\n",
       "      <td>0.0</td>\n",
       "      <td>0.0</td>\n",
       "      <td>0.0</td>\n",
       "      <td>0.0</td>\n",
       "      <td>0.0</td>\n",
       "      <td>0.0</td>\n",
       "      <td>0.0</td>\n",
       "      <td>0.0</td>\n",
       "      <td>0.0</td>\n",
       "      <td>0.0</td>\n",
       "      <td>0.0</td>\n",
       "      <td>0.0</td>\n",
       "      <td>0.0</td>\n",
       "      <td>1.0</td>\n",
       "      <td>0.0</td>\n",
       "    </tr>\n",
       "    <tr>\n",
       "      <th>4</th>\n",
       "      <td>0.0</td>\n",
       "      <td>0.0</td>\n",
       "      <td>0.0</td>\n",
       "      <td>0.0</td>\n",
       "      <td>0.0</td>\n",
       "      <td>0.0</td>\n",
       "      <td>0.0</td>\n",
       "      <td>0.0</td>\n",
       "      <td>0.0</td>\n",
       "      <td>0.0</td>\n",
       "      <td>0.0</td>\n",
       "      <td>0.0</td>\n",
       "      <td>0.0</td>\n",
       "      <td>0.0</td>\n",
       "      <td>0.0</td>\n",
       "      <td>0.0</td>\n",
       "      <td>1.0</td>\n",
       "      <td>0.0</td>\n",
       "    </tr>\n",
       "  </tbody>\n",
       "</table>\n",
       "</div>"
      ],
      "text/plain": [
       "   payor_code_BC  payor_code_CH  payor_code_CM  payor_code_CP  payor_code_DM  \\\n",
       "0            0.0            0.0            0.0            0.0            0.0   \n",
       "1            0.0            0.0            0.0            0.0            0.0   \n",
       "2            0.0            0.0            0.0            0.0            0.0   \n",
       "3            0.0            0.0            0.0            0.0            0.0   \n",
       "4            0.0            0.0            0.0            0.0            0.0   \n",
       "\n",
       "   payor_code_FR  payor_code_HM  payor_code_MC  payor_code_MD  payor_code_MP  \\\n",
       "0            0.0            0.0            0.0            0.0            0.0   \n",
       "1            0.0            0.0            0.0            0.0            0.0   \n",
       "2            0.0            0.0            0.0            0.0            0.0   \n",
       "3            0.0            0.0            0.0            0.0            0.0   \n",
       "4            0.0            0.0            0.0            0.0            0.0   \n",
       "\n",
       "   payor_code_OG  payor_code_OT  payor_code_PO  payor_code_SI  payor_code_SP  \\\n",
       "0            0.0            0.0            0.0            0.0            0.0   \n",
       "1            0.0            0.0            0.0            0.0            0.0   \n",
       "2            0.0            0.0            0.0            0.0            0.0   \n",
       "3            0.0            0.0            0.0            0.0            0.0   \n",
       "4            0.0            0.0            0.0            0.0            0.0   \n",
       "\n",
       "   payor_code_UN  payor_code_Unknown  payor_code_WC  \n",
       "0            0.0                 1.0            0.0  \n",
       "1            0.0                 1.0            0.0  \n",
       "2            0.0                 1.0            0.0  \n",
       "3            0.0                 1.0            0.0  \n",
       "4            0.0                 1.0            0.0  "
      ]
     },
     "execution_count": 73,
     "metadata": {},
     "output_type": "execute_result"
    }
   ],
   "source": [
    "payor_code_dummies.head()"
   ]
  },
  {
   "cell_type": "markdown",
   "metadata": {},
   "source": [
    "> ## REFERRING_SPECIALTY was categorical \n",
    "- It had many unknowns and unclear codes, but I couldn't find an explanation, so I left them.  \n",
    "- This feature might not even be useful, but I made dummies to test it"
   ]
  },
  {
   "cell_type": "code",
   "execution_count": 74,
   "metadata": {
    "collapsed": false
   },
   "outputs": [
    {
     "data": {
      "text/plain": [
       "?                                    49949\n",
       "InternalMedicine                     14635\n",
       "Emergency/Trauma                      7565\n",
       "Family/GeneralPractice                7440\n",
       "Cardiology                            5352\n",
       "Surgery-General                       3099\n",
       "Nephrology                            1613\n",
       "Orthopedics                           1400\n",
       "Orthopedics-Reconstructive            1233\n",
       "Radiologist                           1140\n",
       "Pulmonology                            871\n",
       "Psychiatry                             854\n",
       "Urology                                685\n",
       "ObstetricsandGynecology                671\n",
       "Surgery-Cardiovascular/Thoracic        652\n",
       "Gastroenterology                       564\n",
       "Surgery-Vascular                       533\n",
       "Surgery-Neuro                          468\n",
       "PhysicalMedicineandRehabilitation      391\n",
       "Oncology                               348\n",
       "Pediatrics                             254\n",
       "Hematology/Oncology                    207\n",
       "Neurology                              203\n",
       "Pediatrics-Endocrinology               159\n",
       "Otolaryngology                         125\n",
       "Endocrinology                          120\n",
       "Surgery-Thoracic                       109\n",
       "Psychology                             101\n",
       "Podiatry                               100\n",
       "Surgery-Cardiovascular                  98\n",
       "                                     ...  \n",
       "Anesthesiology-Pediatric                19\n",
       "Obstetrics                              19\n",
       "Rheumatology                            17\n",
       "Pathology                               17\n",
       "Anesthesiology                          12\n",
       "OutreachServices                        12\n",
       "PhysicianNotFound                       11\n",
       "Surgery-Colon&Rectal                    11\n",
       "Surgery-Maxillofacial                   11\n",
       "Pediatrics-Neurology                    10\n",
       "Endocrinology-Metabolism                 8\n",
       "Surgery-Pediatric                        8\n",
       "Psychiatry-Child/Adolescent              7\n",
       "Cardiology-Pediatric                     7\n",
       "AllergyandImmunology                     7\n",
       "DCPTEAM                                  6\n",
       "Dentistry                                4\n",
       "Pediatrics-Hematology-Oncology           4\n",
       "Pediatrics-AllergyandImmunology          3\n",
       "Pediatrics-EmergencyMedicine             3\n",
       "Resident                                 2\n",
       "Dermatology                              1\n",
       "SportsMedicine                           1\n",
       "Neurophysiology                          1\n",
       "Proctology                               1\n",
       "Speech                                   1\n",
       "Psychiatry-Addictive                     1\n",
       "Pediatrics-InfectiousDiseases            1\n",
       "Surgery-PlasticwithinHeadandNeck         1\n",
       "Perinatology                             1\n",
       "Name: referring_specialty, dtype: int64"
      ]
     },
     "execution_count": 74,
     "metadata": {},
     "output_type": "execute_result"
    }
   ],
   "source": [
    "data.referring_specialty.value_counts()"
   ]
  },
  {
   "cell_type": "code",
   "execution_count": 75,
   "metadata": {
    "collapsed": true
   },
   "outputs": [],
   "source": [
    "data.referring_specialty = [each.replace('?','Unknown') for each in data.referring_specialty]"
   ]
  },
  {
   "cell_type": "code",
   "execution_count": 76,
   "metadata": {
    "collapsed": true
   },
   "outputs": [],
   "source": [
    "referring_specialty_dummies = pd.get_dummies(data.referring_specialty, prefix = 'referring_specialty')"
   ]
  },
  {
   "cell_type": "code",
   "execution_count": 77,
   "metadata": {
    "collapsed": false
   },
   "outputs": [
    {
     "data": {
      "text/html": [
       "<div>\n",
       "<table border=\"1\" class=\"dataframe\">\n",
       "  <thead>\n",
       "    <tr style=\"text-align: right;\">\n",
       "      <th></th>\n",
       "      <th>referring_specialty_AllergyandImmunology</th>\n",
       "      <th>referring_specialty_Anesthesiology</th>\n",
       "      <th>referring_specialty_Anesthesiology-Pediatric</th>\n",
       "      <th>referring_specialty_Cardiology</th>\n",
       "      <th>referring_specialty_Cardiology-Pediatric</th>\n",
       "      <th>referring_specialty_DCPTEAM</th>\n",
       "      <th>referring_specialty_Dentistry</th>\n",
       "      <th>referring_specialty_Dermatology</th>\n",
       "      <th>referring_specialty_Emergency/Trauma</th>\n",
       "      <th>referring_specialty_Endocrinology</th>\n",
       "      <th>...</th>\n",
       "      <th>referring_specialty_Surgery-Maxillofacial</th>\n",
       "      <th>referring_specialty_Surgery-Neuro</th>\n",
       "      <th>referring_specialty_Surgery-Pediatric</th>\n",
       "      <th>referring_specialty_Surgery-Plastic</th>\n",
       "      <th>referring_specialty_Surgery-PlasticwithinHeadandNeck</th>\n",
       "      <th>referring_specialty_Surgery-Thoracic</th>\n",
       "      <th>referring_specialty_Surgery-Vascular</th>\n",
       "      <th>referring_specialty_SurgicalSpecialty</th>\n",
       "      <th>referring_specialty_Unknown</th>\n",
       "      <th>referring_specialty_Urology</th>\n",
       "    </tr>\n",
       "  </thead>\n",
       "  <tbody>\n",
       "    <tr>\n",
       "      <th>0</th>\n",
       "      <td>0.0</td>\n",
       "      <td>0.0</td>\n",
       "      <td>0.0</td>\n",
       "      <td>0.0</td>\n",
       "      <td>0.0</td>\n",
       "      <td>0.0</td>\n",
       "      <td>0.0</td>\n",
       "      <td>0.0</td>\n",
       "      <td>0.0</td>\n",
       "      <td>0.0</td>\n",
       "      <td>...</td>\n",
       "      <td>0.0</td>\n",
       "      <td>0.0</td>\n",
       "      <td>0.0</td>\n",
       "      <td>0.0</td>\n",
       "      <td>0.0</td>\n",
       "      <td>0.0</td>\n",
       "      <td>0.0</td>\n",
       "      <td>0.0</td>\n",
       "      <td>0.0</td>\n",
       "      <td>0.0</td>\n",
       "    </tr>\n",
       "    <tr>\n",
       "      <th>1</th>\n",
       "      <td>0.0</td>\n",
       "      <td>0.0</td>\n",
       "      <td>0.0</td>\n",
       "      <td>0.0</td>\n",
       "      <td>0.0</td>\n",
       "      <td>0.0</td>\n",
       "      <td>0.0</td>\n",
       "      <td>0.0</td>\n",
       "      <td>0.0</td>\n",
       "      <td>0.0</td>\n",
       "      <td>...</td>\n",
       "      <td>0.0</td>\n",
       "      <td>0.0</td>\n",
       "      <td>0.0</td>\n",
       "      <td>0.0</td>\n",
       "      <td>0.0</td>\n",
       "      <td>0.0</td>\n",
       "      <td>0.0</td>\n",
       "      <td>0.0</td>\n",
       "      <td>1.0</td>\n",
       "      <td>0.0</td>\n",
       "    </tr>\n",
       "    <tr>\n",
       "      <th>2</th>\n",
       "      <td>0.0</td>\n",
       "      <td>0.0</td>\n",
       "      <td>0.0</td>\n",
       "      <td>0.0</td>\n",
       "      <td>0.0</td>\n",
       "      <td>0.0</td>\n",
       "      <td>0.0</td>\n",
       "      <td>0.0</td>\n",
       "      <td>0.0</td>\n",
       "      <td>0.0</td>\n",
       "      <td>...</td>\n",
       "      <td>0.0</td>\n",
       "      <td>0.0</td>\n",
       "      <td>0.0</td>\n",
       "      <td>0.0</td>\n",
       "      <td>0.0</td>\n",
       "      <td>0.0</td>\n",
       "      <td>0.0</td>\n",
       "      <td>0.0</td>\n",
       "      <td>1.0</td>\n",
       "      <td>0.0</td>\n",
       "    </tr>\n",
       "    <tr>\n",
       "      <th>3</th>\n",
       "      <td>0.0</td>\n",
       "      <td>0.0</td>\n",
       "      <td>0.0</td>\n",
       "      <td>0.0</td>\n",
       "      <td>0.0</td>\n",
       "      <td>0.0</td>\n",
       "      <td>0.0</td>\n",
       "      <td>0.0</td>\n",
       "      <td>0.0</td>\n",
       "      <td>0.0</td>\n",
       "      <td>...</td>\n",
       "      <td>0.0</td>\n",
       "      <td>0.0</td>\n",
       "      <td>0.0</td>\n",
       "      <td>0.0</td>\n",
       "      <td>0.0</td>\n",
       "      <td>0.0</td>\n",
       "      <td>0.0</td>\n",
       "      <td>0.0</td>\n",
       "      <td>1.0</td>\n",
       "      <td>0.0</td>\n",
       "    </tr>\n",
       "    <tr>\n",
       "      <th>4</th>\n",
       "      <td>0.0</td>\n",
       "      <td>0.0</td>\n",
       "      <td>0.0</td>\n",
       "      <td>0.0</td>\n",
       "      <td>0.0</td>\n",
       "      <td>0.0</td>\n",
       "      <td>0.0</td>\n",
       "      <td>0.0</td>\n",
       "      <td>0.0</td>\n",
       "      <td>0.0</td>\n",
       "      <td>...</td>\n",
       "      <td>0.0</td>\n",
       "      <td>0.0</td>\n",
       "      <td>0.0</td>\n",
       "      <td>0.0</td>\n",
       "      <td>0.0</td>\n",
       "      <td>0.0</td>\n",
       "      <td>0.0</td>\n",
       "      <td>0.0</td>\n",
       "      <td>1.0</td>\n",
       "      <td>0.0</td>\n",
       "    </tr>\n",
       "  </tbody>\n",
       "</table>\n",
       "<p>5 rows × 73 columns</p>\n",
       "</div>"
      ],
      "text/plain": [
       "   referring_specialty_AllergyandImmunology  \\\n",
       "0                                       0.0   \n",
       "1                                       0.0   \n",
       "2                                       0.0   \n",
       "3                                       0.0   \n",
       "4                                       0.0   \n",
       "\n",
       "   referring_specialty_Anesthesiology  \\\n",
       "0                                 0.0   \n",
       "1                                 0.0   \n",
       "2                                 0.0   \n",
       "3                                 0.0   \n",
       "4                                 0.0   \n",
       "\n",
       "   referring_specialty_Anesthesiology-Pediatric  \\\n",
       "0                                           0.0   \n",
       "1                                           0.0   \n",
       "2                                           0.0   \n",
       "3                                           0.0   \n",
       "4                                           0.0   \n",
       "\n",
       "   referring_specialty_Cardiology  referring_specialty_Cardiology-Pediatric  \\\n",
       "0                             0.0                                       0.0   \n",
       "1                             0.0                                       0.0   \n",
       "2                             0.0                                       0.0   \n",
       "3                             0.0                                       0.0   \n",
       "4                             0.0                                       0.0   \n",
       "\n",
       "   referring_specialty_DCPTEAM  referring_specialty_Dentistry  \\\n",
       "0                          0.0                            0.0   \n",
       "1                          0.0                            0.0   \n",
       "2                          0.0                            0.0   \n",
       "3                          0.0                            0.0   \n",
       "4                          0.0                            0.0   \n",
       "\n",
       "   referring_specialty_Dermatology  referring_specialty_Emergency/Trauma  \\\n",
       "0                              0.0                                   0.0   \n",
       "1                              0.0                                   0.0   \n",
       "2                              0.0                                   0.0   \n",
       "3                              0.0                                   0.0   \n",
       "4                              0.0                                   0.0   \n",
       "\n",
       "   referring_specialty_Endocrinology             ...               \\\n",
       "0                                0.0             ...                \n",
       "1                                0.0             ...                \n",
       "2                                0.0             ...                \n",
       "3                                0.0             ...                \n",
       "4                                0.0             ...                \n",
       "\n",
       "   referring_specialty_Surgery-Maxillofacial  \\\n",
       "0                                        0.0   \n",
       "1                                        0.0   \n",
       "2                                        0.0   \n",
       "3                                        0.0   \n",
       "4                                        0.0   \n",
       "\n",
       "   referring_specialty_Surgery-Neuro  referring_specialty_Surgery-Pediatric  \\\n",
       "0                                0.0                                    0.0   \n",
       "1                                0.0                                    0.0   \n",
       "2                                0.0                                    0.0   \n",
       "3                                0.0                                    0.0   \n",
       "4                                0.0                                    0.0   \n",
       "\n",
       "   referring_specialty_Surgery-Plastic  \\\n",
       "0                                  0.0   \n",
       "1                                  0.0   \n",
       "2                                  0.0   \n",
       "3                                  0.0   \n",
       "4                                  0.0   \n",
       "\n",
       "   referring_specialty_Surgery-PlasticwithinHeadandNeck  \\\n",
       "0                                                0.0      \n",
       "1                                                0.0      \n",
       "2                                                0.0      \n",
       "3                                                0.0      \n",
       "4                                                0.0      \n",
       "\n",
       "   referring_specialty_Surgery-Thoracic  referring_specialty_Surgery-Vascular  \\\n",
       "0                                   0.0                                   0.0   \n",
       "1                                   0.0                                   0.0   \n",
       "2                                   0.0                                   0.0   \n",
       "3                                   0.0                                   0.0   \n",
       "4                                   0.0                                   0.0   \n",
       "\n",
       "   referring_specialty_SurgicalSpecialty  referring_specialty_Unknown  \\\n",
       "0                                    0.0                          0.0   \n",
       "1                                    0.0                          1.0   \n",
       "2                                    0.0                          1.0   \n",
       "3                                    0.0                          1.0   \n",
       "4                                    0.0                          1.0   \n",
       "\n",
       "   referring_specialty_Urology  \n",
       "0                          0.0  \n",
       "1                          0.0  \n",
       "2                          0.0  \n",
       "3                          0.0  \n",
       "4                          0.0  \n",
       "\n",
       "[5 rows x 73 columns]"
      ]
     },
     "execution_count": 77,
     "metadata": {},
     "output_type": "execute_result"
    }
   ],
   "source": [
    "referring_specialty_dummies.head()"
   ]
  },
  {
   "cell_type": "markdown",
   "metadata": {},
   "source": [
    "> ## NUMBER_LABS was numeric \n",
    "- Many Patients only had 1, but after that, the distribution was more normal with mean at 43 and standard deviation about 20.\n",
    "- This might be related to other features, like days in hospital or number of diagnoses"
   ]
  },
  {
   "cell_type": "code",
   "execution_count": 79,
   "metadata": {
    "collapsed": false
   },
   "outputs": [
    {
     "data": {
      "text/plain": [
       "1     3208\n",
       "43    2804\n",
       "44    2496\n",
       "45    2376\n",
       "38    2213\n",
       "Name: number_labs, dtype: int64"
      ]
     },
     "execution_count": 79,
     "metadata": {},
     "output_type": "execute_result"
    }
   ],
   "source": [
    "data.number_labs.value_counts().head()"
   ]
  },
  {
   "cell_type": "code",
   "execution_count": 80,
   "metadata": {
    "collapsed": false
   },
   "outputs": [
    {
     "data": {
      "text/plain": [
       "count    101766.000000\n",
       "mean         43.095641\n",
       "std          19.674362\n",
       "min           1.000000\n",
       "25%          31.000000\n",
       "50%          44.000000\n",
       "75%          57.000000\n",
       "max         132.000000\n",
       "Name: number_labs, dtype: float64"
      ]
     },
     "execution_count": 80,
     "metadata": {},
     "output_type": "execute_result"
    }
   ],
   "source": [
    "data.number_labs.describe()"
   ]
  },
  {
   "cell_type": "markdown",
   "metadata": {},
   "source": [
    "> ## NUMBER_PROCEDURES was numeric\n",
    "- Most Patients had none\n",
    "- Interestingly, it declined until 6, then ended"
   ]
  },
  {
   "cell_type": "code",
   "execution_count": 83,
   "metadata": {
    "collapsed": false
   },
   "outputs": [
    {
     "data": {
      "text/plain": [
       "0    46652\n",
       "1    20742\n",
       "2    12717\n",
       "3     9443\n",
       "6     4954\n",
       "4     4180\n",
       "5     3078\n",
       "Name: number_procedures, dtype: int64"
      ]
     },
     "execution_count": 83,
     "metadata": {},
     "output_type": "execute_result"
    }
   ],
   "source": [
    "data.number_procedures.value_counts()"
   ]
  },
  {
   "cell_type": "markdown",
   "metadata": {},
   "source": [
    "> ## NUMBER_MEDS was numeric \n",
    "- Mean at 16, standard deviation of 8\n",
    "- There might be a protocolized minimum number of meds, but I will have to make a new feature to test if the diabetes meds listed are the source of this number_meds count"
   ]
  },
  {
   "cell_type": "code",
   "execution_count": 96,
   "metadata": {
    "collapsed": false
   },
   "outputs": [
    {
     "data": {
      "text/plain": [
       "count    101766.000000\n",
       "mean         16.021844\n",
       "std           8.127566\n",
       "min           1.000000\n",
       "25%          10.000000\n",
       "50%          15.000000\n",
       "75%          20.000000\n",
       "max          81.000000\n",
       "Name: number_meds, dtype: float64"
      ]
     },
     "execution_count": 96,
     "metadata": {},
     "output_type": "execute_result"
    }
   ],
   "source": [
    "data.number_meds.describe()"
   ]
  },
  {
   "cell_type": "markdown",
   "metadata": {},
   "source": [
    "> ## NUMBER_OUTPATIENT was numeric \n",
    "- 83.56% of patients had 0 outpatient visits and each subsequent number having about half as many as the previous"
   ]
  },
  {
   "cell_type": "code",
   "execution_count": 98,
   "metadata": {
    "collapsed": false
   },
   "outputs": [
    {
     "data": {
      "text/plain": [
       "0     85027\n",
       "1      8547\n",
       "2      3594\n",
       "3      2042\n",
       "4      1099\n",
       "5       533\n",
       "6       303\n",
       "7       155\n",
       "8        98\n",
       "9        83\n",
       "10       57\n",
       "11       42\n",
       "13       31\n",
       "12       30\n",
       "14       28\n",
       "15       20\n",
       "16       15\n",
       "17        8\n",
       "21        7\n",
       "20        7\n",
       "Name: number_outpatient, dtype: int64"
      ]
     },
     "execution_count": 98,
     "metadata": {},
     "output_type": "execute_result"
    }
   ],
   "source": [
    "data.number_outpatient.value_counts().head(20)"
   ]
  },
  {
   "cell_type": "code",
   "execution_count": 103,
   "metadata": {
    "collapsed": false
   },
   "outputs": [
    {
     "name": "stdout",
     "output_type": "stream",
     "text": [
      "So, of the total 101766 patients in this data set, there were 85027 who had no outpatient visits, or 83.5514808482 %.\n",
      "\n",
      "Which means only 16739 had outpatient visits, or  16.4485191518 %.\n"
     ]
    }
   ],
   "source": [
    "print('So, of the total',\n",
    "      data.number_outpatient.count(),\n",
    "      'patients in this data set, there were',\n",
    "      data.number_outpatient[data.number_outpatient == 0].count(),\n",
    "      'who had no outpatient visits, or',\n",
    "      data.number_outpatient[data.number_outpatient == 0].count() / data.number_outpatient.count()* 100,\n",
    "      '%.'\n",
    ")\n",
    "print()\n",
    "print('Which means only',\n",
    "      data.number_outpatient[data.number_outpatient != 0].count(),\n",
    "      'had outpatient visits, or ',\n",
    "      data.number_outpatient[data.number_outpatient != 0].count() / data.number_outpatient.count()* 100,\n",
    "      '%.'\n",
    ")"
   ]
  },
  {
   "cell_type": "markdown",
   "metadata": {},
   "source": [
    "> ## NUMBER_EMERGENCY was numeric \n",
    "- 88.81% of patients had 0 emergency visits and steep decline at every subsequent value"
   ]
  },
  {
   "cell_type": "code",
   "execution_count": 106,
   "metadata": {
    "collapsed": false
   },
   "outputs": [
    {
     "data": {
      "text/plain": [
       "0     90383\n",
       "1      7677\n",
       "2      2042\n",
       "3       725\n",
       "4       374\n",
       "5       192\n",
       "6        94\n",
       "7        73\n",
       "8        50\n",
       "10       34\n",
       "9        33\n",
       "11       23\n",
       "13       12\n",
       "12       10\n",
       "22        6\n",
       "18        5\n",
       "16        5\n",
       "19        4\n",
       "20        4\n",
       "14        3\n",
       "Name: number_emergency, dtype: int64"
      ]
     },
     "execution_count": 106,
     "metadata": {},
     "output_type": "execute_result"
    }
   ],
   "source": [
    "data.number_emergency.value_counts().head(20)"
   ]
  },
  {
   "cell_type": "code",
   "execution_count": 107,
   "metadata": {
    "collapsed": false
   },
   "outputs": [
    {
     "name": "stdout",
     "output_type": "stream",
     "text": [
      "So, of the total 101766 patients in this data set, there were 90383 who had no emergency visits, or 88.8145353065 %.\n",
      "\n",
      "Which means only 11383 had emergency visits, or  11.1854646935 %.\n"
     ]
    }
   ],
   "source": [
    "print('So, of the total',\n",
    "      data.number_emergency.count(),\n",
    "      'patients in this data set, there were',\n",
    "      data.number_emergency[data.number_emergency == 0].count(),\n",
    "      'who had no emergency visits, or',\n",
    "      data.number_emergency[data.number_emergency == 0].count() / data.number_emergency.count()* 100,\n",
    "      '%.'\n",
    ")\n",
    "print()\n",
    "print('Which means only',\n",
    "      data.number_emergency[data.number_emergency != 0].count(),\n",
    "      'had emergency visits, or ',\n",
    "      data.number_emergency[data.number_emergency != 0].count() / data.number_emergency.count()* 100,\n",
    "      '%.'\n",
    ")"
   ]
  },
  {
   "cell_type": "markdown",
   "metadata": {},
   "source": [
    "> ## NUMBER_INPATIENT was numeric \n",
    "- 66.46% of patients had 0 inpatient stays and steep decline at every subsequent value"
   ]
  },
  {
   "cell_type": "code",
   "execution_count": 109,
   "metadata": {
    "collapsed": false
   },
   "outputs": [
    {
     "data": {
      "text/plain": [
       "0     67630\n",
       "1     19521\n",
       "2      7566\n",
       "3      3411\n",
       "4      1622\n",
       "5       812\n",
       "6       480\n",
       "7       268\n",
       "8       151\n",
       "9       111\n",
       "10       61\n",
       "11       49\n",
       "12       34\n",
       "13       20\n",
       "14       10\n",
       "15        9\n",
       "16        6\n",
       "19        2\n",
       "17        1\n",
       "18        1\n",
       "Name: number_inpatient, dtype: int64"
      ]
     },
     "execution_count": 109,
     "metadata": {},
     "output_type": "execute_result"
    }
   ],
   "source": [
    "data.number_inpatient.value_counts().head(20)"
   ]
  },
  {
   "cell_type": "code",
   "execution_count": 110,
   "metadata": {
    "collapsed": false
   },
   "outputs": [
    {
     "name": "stdout",
     "output_type": "stream",
     "text": [
      "So, of the total 101766 patients in this data set, there were 67630 who had no inpatient visits, or 66.4563803235 %.\n",
      "\n",
      "Which means only 34136 had inpatient visits, or  33.5436196765 %.\n"
     ]
    }
   ],
   "source": [
    "data.number_inpatient[data.number_inpatient == 0].count() / data.number_inpatient.count()\n",
    "\n",
    "print('So, of the total',\n",
    "      data.number_inpatient.count(),\n",
    "      'patients in this data set, there were',\n",
    "      data.number_inpatient[data.number_inpatient == 0].count(),\n",
    "      'who had no inpatient visits, or',\n",
    "      data.number_inpatient[data.number_inpatient == 0].count() / data.number_inpatient.count()* 100,\n",
    "      '%.'\n",
    ")\n",
    "print()\n",
    "print('Which means only',\n",
    "      data.number_inpatient[data.number_inpatient != 0].count(),\n",
    "      'had inpatient visits, or ',\n",
    "      data.number_inpatient[data.number_inpatient != 0].count() / data.number_inpatient.count()* 100,\n",
    "      '%.'\n",
    ")"
   ]
  },
  {
   "cell_type": "markdown",
   "metadata": {},
   "source": [
    "> ## DIAG_1, 2, AND 3 were all categorical with the codes being the ICD-9 codes \n",
    "- (ICD-9 == International Classification of Diseases, 2009 edition of)\n",
    "- even the first 50 are still pretty numerous prevalent in this population, but there were steep drop offs for some of them\n",
    "- I used http://www.icd10codesearch.com/ to find the actual disease name described.  \n",
    "- I removed duplicates and ended up with 78 diagnoses, covering xx number of records, xx %"
   ]
  },
  {
   "cell_type": "markdown",
   "metadata": {},
   "source": [
    "I realized that this is more of an nlp problem\n",
    "- the sentence is the combined diagnoses\n",
    "- tokens = each individual diagnosis\n",
    "- stemming of the diagnosis (xxx.xx) = the portion before the .\n",
    "- - so need to split diag_1 into diag_1_stem & diag_1_suffix\n",
    "- - if '.' in x\n",
    "- - - return x.split('.',\n",
    "- TF-IDF will be useful for finding the importance of the diagnosis to the outcome"
   ]
  },
  {
   "cell_type": "code",
   "execution_count": 112,
   "metadata": {
    "collapsed": false
   },
   "outputs": [
    {
     "data": {
      "text/plain": [
       "0         ?\n",
       "1    250.01\n",
       "2       250\n",
       "3    250.43\n",
       "4       157\n",
       "Name: diag_2, dtype: object"
      ]
     },
     "execution_count": 112,
     "metadata": {},
     "output_type": "execute_result"
    }
   ],
   "source": [
    "data.diag_2.head()"
   ]
  },
  {
   "cell_type": "code",
   "execution_count": 113,
   "metadata": {
    "collapsed": true
   },
   "outputs": [],
   "source": [
    "data.diag_1 = [each.replace('?','0') for each in data.diag_1]\n",
    "data.diag_2 = [each.replace('?','0') for each in data.diag_2]\n",
    "data.diag_3 = [each.replace('?','0') for each in data.diag_3]"
   ]
  },
  {
   "cell_type": "code",
   "execution_count": 115,
   "metadata": {
    "collapsed": false
   },
   "outputs": [],
   "source": [
    "# to stem the diagnoses codes to get the diagnosis, not its features\n",
    "\n",
    "def split_diag(diag, which='stem'):\n",
    "    diag = str(diag)\n",
    "    if '.' in diag:\n",
    "        if which == 'stem':\n",
    "            return diag.split('.')[0]\n",
    "        else:\n",
    "            return diag.split('.')[1]\n",
    "    else:\n",
    "        if which == 'stem':\n",
    "            return diag\n",
    "        else:\n",
    "            return 0\n",
    "        \n",
    "data['diag_1_stem'] = data['diag_1'].apply(lambda x:split_diag(x, which='stem'))\n",
    "data['diag_2_stem'] = data['diag_2'].apply(lambda x:split_diag(x, which='stem'))\n",
    "data['diag_3_stem'] = data['diag_3'].apply(lambda x:split_diag(x, which='stem'))\n",
    "\n",
    "data['diag_1_suffix'] = data['diag_1'].apply(lambda x:split_diag(x, which='suffix'))\n",
    "data['diag_2_suffix'] = data['diag_2'].apply(lambda x:split_diag(x, which='suffix'))\n",
    "data['diag_3_suffix'] = data['diag_3'].apply(lambda x:split_diag(x, which='suffix'))"
   ]
  },
  {
   "cell_type": "code",
   "execution_count": 126,
   "metadata": {
    "collapsed": false
   },
   "outputs": [
    {
     "data": {
      "text/plain": [
       "0         0\n",
       "1    250.01\n",
       "2       250\n",
       "3    250.43\n",
       "4       157\n",
       "Name: diag_2, dtype: object"
      ]
     },
     "execution_count": 126,
     "metadata": {},
     "output_type": "execute_result"
    }
   ],
   "source": [
    "data.diag_2.head()"
   ]
  },
  {
   "cell_type": "markdown",
   "metadata": {},
   "source": [
    "Now that I can treat each diagnosis code and its stem as separate 'words', I can combine them into a 'sentence' that describes the patient's diagnoses."
   ]
  },
  {
   "cell_type": "code",
   "execution_count": 119,
   "metadata": {
    "collapsed": false
   },
   "outputs": [],
   "source": [
    "data.diag_all = data.diag_1 + ', ' + data.diag_1_stem + ', '   \\\n",
    "              + data.diag_2 + ', ' + data.diag_2_stem + ', '   \\\n",
    "              + data.diag_3 + ', ' + data.diag_3_stem"
   ]
  },
  {
   "cell_type": "code",
   "execution_count": 120,
   "metadata": {
    "collapsed": false
   },
   "outputs": [
    {
     "data": {
      "text/plain": [
       "0            250.83, 250, 0, 0, 0, 0\n",
       "1    276, 276, 250.01, 250, 255, 255\n",
       "2       648, 648, 250, 250, V27, V27\n",
       "3        8, 8, 250.43, 250, 403, 403\n",
       "4       197, 197, 157, 157, 250, 250\n",
       "dtype: object"
      ]
     },
     "execution_count": 120,
     "metadata": {},
     "output_type": "execute_result"
    }
   ],
   "source": [
    "data.diag_all.head()"
   ]
  },
  {
   "cell_type": "markdown",
   "metadata": {},
   "source": [
    "Then treat the 'sentence' for each patient as a tweet and do count count vectorizer and TFIDF.  \n",
    "\n",
    "The problem, though, is that it will treat the punctuation (including periods) as stopwords and ignore them, so I have to remove them to keep the full xxx.xx structure as xxxxx"
   ]
  },
  {
   "cell_type": "code",
   "execution_count": 121,
   "metadata": {
    "collapsed": true
   },
   "outputs": [],
   "source": [
    "data.diag_all = [each.replace('.','') for each in data.diag_all]"
   ]
  },
  {
   "cell_type": "code",
   "execution_count": 123,
   "metadata": {
    "collapsed": false
   },
   "outputs": [
    {
     "data": {
      "text/plain": [
       "['25083, 250, 0, 0, 0, 0',\n",
       " '276, 276, 25001, 250, 255, 255',\n",
       " '648, 648, 250, 250, V27, V27',\n",
       " '8, 8, 25043, 250, 403, 403',\n",
       " '197, 197, 157, 157, 250, 250',\n",
       " '414, 414, 411, 411, 250, 250',\n",
       " '414, 414, 411, 411, V45, V45',\n",
       " '428, 428, 492, 492, 250, 250',\n",
       " '398, 398, 427, 427, 38, 38',\n",
       " '434, 434, 198, 198, 486, 486',\n",
       " '2507, 250, 403, 403, 996, 996',\n",
       " '157, 157, 288, 288, 197, 197',\n",
       " '428, 428, 25043, 250, 2506, 250',\n",
       " '428, 428, 411, 411, 427, 427',\n",
       " '518, 518, 998, 998, 627, 627',\n",
       " '999, 999, 507, 507, 996, 996',\n",
       " '410, 410, 411, 411, 414, 414',\n",
       " '682, 682, 174, 174, 250, 250',\n",
       " '402, 402, 425, 425, 416, 416',\n",
       " '737, 737, 427, 427, 714, 714',\n",
       " '410, 410, 427, 427, 428, 428',\n",
       " '572, 572, 456, 456, 427, 427',\n",
       " '410, 410, 401, 401, 582, 582',\n",
       " 'V57, V57, 715, 715, V43, V43',\n",
       " '189, 189, 496, 496, 427, 427',\n",
       " '786, 786, 401, 401, 250, 250',\n",
       " '427, 427, 428, 428, 414, 414',\n",
       " '996, 996, 585, 585, 25001, 250',\n",
       " '277, 277, 25002, 250, 263, 263',\n",
       " '428, 428, 410, 410, 414, 414',\n",
       " '584, 584, 496, 496, 25042, 250',\n",
       " '462, 462, 25001, 250, 276, 276',\n",
       " '996, 996, 999, 999, 25001, 250',\n",
       " '473, 473, 996, 996, 482, 482',\n",
       " '428, 428, 585, 585, 414, 414',\n",
       " '411, 411, 25001, 250, 401, 401',\n",
       " '174, 174, 135, 135, 250, 250',\n",
       " '486, 486, 244, 244, 250, 250',\n",
       " '998, 998, 41, 41, 414, 414',\n",
       " '996, 996, 403, 403, 25041, 250',\n",
       " '414, 414, 411, 411, 25001, 250',\n",
       " '511, 511, 571, 571, 585, 585',\n",
       " 'V57, V57, 276, 276, 781, 781',\n",
       " '428, 428, 496, 496, 278, 278',\n",
       " '432, 432, 997, 997, 427, 427',\n",
       " '626, 626, 25001, 250, 998, 998',\n",
       " '428, 428, 427, 427, 25001, 250',\n",
       " '295, 295, 599, 599, 250, 250',\n",
       " '414, 414, 424, 424, 428, 428',\n",
       " '428, 428, 491, 491, 427, 427',\n",
       " '196, 196, 198, 198, 197, 197',\n",
       " '998, 998, 553, 553, 568, 568',\n",
       " '2506, 250, 707, 707, 682, 682',\n",
       " '786, 786, 427, 427, 278, 278',\n",
       " '618, 618, 997, 997, 618, 618',\n",
       " '182, 182, 286, 286, 25002, 250',\n",
       " '2507, 250, 440, 440, 403, 403',\n",
       " '845, 845, 493, 493, 305, 305',\n",
       " '423, 423, 242, 242, 428, 428',\n",
       " '808, 808, 70, 70, 25001, 250',\n",
       " '2504, 250, V45, V45, 403, 403',\n",
       " '414, 414, 411, 411, 428, 428',\n",
       " '428, 428, 25003, 250, 707, 707',\n",
       " '722, 722, 357, 357, 496, 496',\n",
       " '403, 403, V45, V45, 599, 599',\n",
       " '2507, 250, 440, 440, 715, 715',\n",
       " '25011, 250, 0, 0, 0, 0',\n",
       " '410, 410, 424, 424, 414, 414',\n",
       " '414, 414, 424, 424, 424, 424',\n",
       " '784, 784, 511, 511, 518, 518',\n",
       " '707, 707, 428, 428, 403, 403',\n",
       " '189, 189, 403, 403, V45, V45',\n",
       " '440, 440, 25003, 250, 582, 582',\n",
       " '151, 151, 196, 196, 553, 553',\n",
       " '414, 414, 411, 411, 276, 276',\n",
       " '414, 414, 411, 411, 250, 250',\n",
       " '786, 786, 396, 396, 414, 414',\n",
       " '715, 715, 25001, 250, 401, 401',\n",
       " '997, 997, 427, 427, 403, 403',\n",
       " '414, 414, 411, 411, 250, 250',\n",
       " '427, 427, 424, 424, 250, 250',\n",
       " '198, 198, 197, 197, 197, 197',\n",
       " '998, 998, 25001, 250, 424, 424',\n",
       " '564, 564, 414, 414, 794, 794',\n",
       " '414, 414, 428, 428, 585, 585',\n",
       " '414, 414, 411, 411, 428, 428',\n",
       " '414, 414, 25052, 250, 411, 411',\n",
       " '812, 812, 496, 496, 250, 250',\n",
       " '428, 428, 425, 425, 25002, 250',\n",
       " '2507, 250, 440, 440, V42, V42',\n",
       " '410, 410, 424, 424, 250, 250',\n",
       " '398, 398, 276, 276, 427, 427',\n",
       " '996, 996, 250, 250, 401, 401',\n",
       " '997, 997, 577, 577, 401, 401',\n",
       " '403, 403, 535, 535, 531, 531',\n",
       " '996, 996, 413, 413, 414, 414',\n",
       " '38, 38, 428, 428, 427, 427',\n",
       " '414, 414, 411, 411, 511, 511',\n",
       " '590, 590, 25001, 250, 401, 401',\n",
       " '556, 556, 285, 285, 250, 250',\n",
       " '410, 410, 491, 491, 276, 276',\n",
       " '486, 486, 511, 511, 25002, 250',\n",
       " '786, 786, 413, 413, 414, 414',\n",
       " '411, 411, 401, 401, 490, 490',\n",
       " '578, 578, 53, 53, 562, 562',\n",
       " '707, 707, 780, 780, 2508, 250',\n",
       " '25032, 250, 518, 518, 482, 482',\n",
       " '427, 427, 428, 428, 414, 414',\n",
       " '433, 433, 414, 414, V45, V45',\n",
       " '414, 414, 411, 411, 414, 414',\n",
       " '2504, 250, 403, 403, 599, 599',\n",
       " 'V58, V58, 150, 150, 496, 496',\n",
       " '569, 569, 566, 566, 250, 250',\n",
       " '185, 185, 414, 414, V45, V45',\n",
       " '434, 434, 2506, 250, 2507, 250',\n",
       " '536, 536, 401, 401, 250, 250',\n",
       " '428, 428, 410, 410, 518, 518',\n",
       " '440, 440, 413, 413, 25052, 250',\n",
       " '410, 410, 428, 428, 411, 411',\n",
       " '434, 434, 507, 507, 784, 784',\n",
       " '410, 410, 428, 428, 491, 491',\n",
       " '428, 428, 867, 867, 2506, 250',\n",
       " '578, 578, 285, 285, 401, 401',\n",
       " '2506, 250, 276, 276, 581, 581',\n",
       " '2504, 250, 403, 403, 420, 420',\n",
       " '25032, 250, 403, 403, 276, 276',\n",
       " '255, 255, 486, 486, 496, 496',\n",
       " '2506, 250, 410, 410, 8, 8',\n",
       " '25013, 250, V15, V15, 724, 724',\n",
       " '997, 997, 8, 8, 730, 730',\n",
       " '599, 599, 276, 276, 789, 789',\n",
       " '558, 558, 25002, 250, 131, 131',\n",
       " '599, 599, 788, 788, 25082, 250',\n",
       " '574, 574, 25002, 250, 276, 276',\n",
       " '2507, 250, 440, 440, 707, 707',\n",
       " '491, 491, 25003, 250, 999, 999',\n",
       " '402, 402, 25001, 250, 424, 424',\n",
       " '486, 486, 250, 250, 427, 427',\n",
       " '414, 414, 411, 411, 250, 250',\n",
       " '584, 584, 276, 276, 424, 424',\n",
       " '682, 682, 25003, 250, 41, 41',\n",
       " '410, 410, 25001, 250, 493, 493',\n",
       " '682, 682, 428, 428, 25003, 250',\n",
       " '277, 277, 25002, 250, 753, 753',\n",
       " '560, 560, 997, 997, 276, 276',\n",
       " '244, 244, 25002, 250, 401, 401',\n",
       " '25003, 250, 401, 401, 276, 276',\n",
       " '414, 414, 340, 340, 401, 401',\n",
       " '574, 574, 25001, 250, 496, 496',\n",
       " '577, 577, 574, 574, 428, 428',\n",
       " '414, 414, 496, 496, 401, 401',\n",
       " '730, 730, 998, 998, 250, 250',\n",
       " '2506, 250, 581, 581, 786, 786',\n",
       " '427, 427, 228, 228, 529, 529',\n",
       " '997, 997, 403, 403, 263, 263',\n",
       " '414, 414, 276, 276, 276, 276',\n",
       " '2504, 250, 403, 403, 276, 276',\n",
       " '786, 786, 530, 530, 401, 401',\n",
       " '188, 188, 493, 493, 401, 401',\n",
       " '824, 824, 25082, 250, E888, E888',\n",
       " '2508, 250, 786, 786, 401, 401',\n",
       " '414, 414, 511, 511, 518, 518',\n",
       " '332, 332, 294, 294, 425, 425',\n",
       " '562, 562, 285, 285, 25002, 250',\n",
       " '427, 427, 427, 427, 595, 595',\n",
       " '291, 291, 493, 493, 303, 303',\n",
       " '276, 276, 2506, 250, 428, 428',\n",
       " '296, 296, 427, 427, 25002, 250',\n",
       " '562, 562, 567, 567, 560, 560',\n",
       " '2507, 250, 785, 785, 711, 711',\n",
       " '578, 578, 25001, 250, 428, 428',\n",
       " '510, 510, 512, 512, 8, 8',\n",
       " '428, 428, 427, 427, V45, V45',\n",
       " '401, 401, 305, 305, 492, 492',\n",
       " '263, 263, 276, 276, 332, 332',\n",
       " '276, 276, 8, 8, 496, 496',\n",
       " '428, 428, 424, 424, 425, 425',\n",
       " '414, 414, V15, V15, 250, 250',\n",
       " '434, 434, 427, 427, 250, 250',\n",
       " '414, 414, 411, 411, 414, 414',\n",
       " '295, 295, 305, 305, 794, 794',\n",
       " '486, 486, 276, 276, 401, 401',\n",
       " '295, 295, 25001, 250, 296, 296',\n",
       " '786, 786, 729, 729, 250, 250',\n",
       " '402, 402, 25002, 250, 424, 424',\n",
       " '997, 997, 585, 585, 276, 276',\n",
       " '25032, 250, 707, 707, 25082, 250',\n",
       " '438, 438, 780, 780, 438, 438',\n",
       " '511, 511, 425, 425, 496, 496',\n",
       " '295, 295, 25002, 250, 789, 789',\n",
       " '427, 427, 401, 401, 250, 250',\n",
       " '70, 70, 276, 276, 25001, 250',\n",
       " '25002, 250, 401, 401, 0, 0',\n",
       " '722, 722, 250, 250, V43, V43',\n",
       " '493, 493, 250, 250, 0, 0',\n",
       " '722, 722, 25051, 250, 362, 362',\n",
       " '560, 560, 403, 403, 2504, 250',\n",
       " '182, 182, 280, 280, 25002, 250',\n",
       " '642, 642, 648, 648, 654, 654',\n",
       " '997, 997, 560, 560, V42, V42',\n",
       " '786, 786, 493, 493, 250, 250',\n",
       " '491, 491, 401, 401, 250, 250',\n",
       " '410, 410, 414, 414, 401, 401',\n",
       " '491, 491, 25002, 250, 244, 244',\n",
       " '25003, 250, V15, V15, V70, V70',\n",
       " '486, 486, 276, 276, 403, 403',\n",
       " '786, 786, 424, 424, 25002, 250',\n",
       " '625, 625, 618, 618, 618, 618',\n",
       " '571, 571, 70, 70, 599, 599',\n",
       " '997, 997, 428, 428, 411, 411',\n",
       " '738, 738, 428, 428, 737, 737',\n",
       " '593, 593, 401, 401, 428, 428',\n",
       " '618, 618, 25003, 250, 625, 625',\n",
       " '428, 428, 581, 581, 403, 403',\n",
       " '414, 414, 25001, 250, 996, 996',\n",
       " '410, 410, 428, 428, 25001, 250',\n",
       " '25003, 250, 0, 0, 0, 0',\n",
       " '786, 786, 414, 414, V45, V45',\n",
       " '410, 410, 414, 414, V45, V45',\n",
       " '414, 414, 411, 411, 414, 414',\n",
       " '722, 722, 2506, 250, 276, 276',\n",
       " '414, 414, 413, 413, 250, 250',\n",
       " '682, 682, 444, 444, 681, 681',\n",
       " '276, 276, 276, 276, 250, 250',\n",
       " '414, 414, 2506, 250, 25051, 250',\n",
       " '25042, 250, 38, 38, 404, 404',\n",
       " '2506, 250, 401, 401, V10, V10',\n",
       " '807, 807, 25002, 250, 810, 810',\n",
       " '25013, 250, V10, V10, 244, 244',\n",
       " '456, 456, 578, 578, 280, 280',\n",
       " '414, 414, 411, 411, 440, 440',\n",
       " '428, 428, 25043, 250, 581, 581',\n",
       " '446, 446, 277, 277, 250, 250',\n",
       " '518, 518, 491, 491, 428, 428',\n",
       " '2507, 250, 707, 707, 785, 785',\n",
       " '428, 428, 424, 424, 401, 401',\n",
       " '572, 572, 571, 571, 250, 250',\n",
       " '410, 410, 428, 428, 599, 599',\n",
       " '276, 276, 157, 157, 588, 588',\n",
       " '575, 575, 997, 997, 250, 250',\n",
       " '25041, 250, 707, 707, 403, 403',\n",
       " '25002, 250, 496, 496, 401, 401',\n",
       " '820, 820, 285, 285, 428, 428',\n",
       " '599, 599, 276, 276, 2506, 250',\n",
       " '414, 414, 250, 250, 244, 244',\n",
       " '515, 515, 428, 428, 250, 250',\n",
       " '780, 780, 781, 781, 401, 401',\n",
       " '560, 560, 25042, 250, 581, 581',\n",
       " '296, 296, 250, 250, 401, 401',\n",
       " '25002, 250, 278, 278, 0, 0',\n",
       " '25022, 250, 780, 780, 599, 599',\n",
       " '38, 38, 599, 599, 25001, 250',\n",
       " '427, 427, 425, 425, 428, 428',\n",
       " 'V57, V57, 157, 157, 25002, 250',\n",
       " '414, 414, 411, 411, 427, 427',\n",
       " '562, 562, 560, 560, 569, 569',\n",
       " '414, 414, 401, 401, 272, 272',\n",
       " '428, 428, 511, 511, 997, 997',\n",
       " '577, 577, 276, 276, 250, 250',\n",
       " '780, 780, 585, 585, 25043, 250',\n",
       " '996, 996, 707, 707, 2504, 250',\n",
       " '682, 682, 599, 599, 25002, 250',\n",
       " '414, 414, 411, 411, 428, 428',\n",
       " '2508, 250, 0, 0, 0, 0',\n",
       " '414, 414, 411, 411, 428, 428',\n",
       " '491, 491, 276, 276, 414, 414',\n",
       " '428, 428, 276, 276, 8, 8',\n",
       " '780, 780, 250, 250, 401, 401',\n",
       " '995, 995, 2506, 250, 918, 918',\n",
       " '572, 572, 571, 571, 584, 584',\n",
       " '25003, 250, 276, 276, 54, 54',\n",
       " '235, 235, 571, 571, 250, 250',\n",
       " '786, 786, 25001, 250, 272, 272',\n",
       " '196, 196, V10, V10, 493, 493',\n",
       " '2508, 250, 401, 401, 414, 414',\n",
       " '786, 786, 426, 426, 250, 250',\n",
       " '428, 428, 584, 584, 25041, 250',\n",
       " '25082, 250, 276, 276, 788, 788',\n",
       " '722, 722, 25001, 250, 428, 428',\n",
       " '414, 414, 285, 285, 250, 250',\n",
       " '574, 574, 496, 496, 428, 428',\n",
       " '410, 410, 276, 276, 414, 414',\n",
       " '721, 721, 496, 496, 25001, 250',\n",
       " '25013, 250, 462, 462, 0, 0',\n",
       " '491, 491, 402, 402, 416, 416',\n",
       " '410, 410, 428, 428, 426, 426',\n",
       " '824, 824, 25001, 250, 0, 0',\n",
       " '722, 722, 25001, 250, 722, 722',\n",
       " '491, 491, 276, 276, 25092, 250',\n",
       " '787, 787, 2506, 250, 276, 276',\n",
       " 'V57, V57, 153, 153, 25002, 250',\n",
       " '556, 556, 560, 560, 250, 250',\n",
       " '410, 410, 428, 428, 427, 427',\n",
       " '786, 786, 427, 427, 427, 427',\n",
       " '25013, 250, 276, 276, 0, 0',\n",
       " '162, 162, 511, 511, 196, 196',\n",
       " '414, 414, 411, 411, 496, 496',\n",
       " '724, 724, 285, 285, 998, 998',\n",
       " '724, 724, 272, 272, 401, 401',\n",
       " '491, 491, 428, 428, 250, 250',\n",
       " '401, 401, 780, 780, 250, 250',\n",
       " '724, 724, 733, 733, 996, 996',\n",
       " '282, 282, 34, 34, 250, 250',\n",
       " '25083, 250, 276, 276, 461, 461',\n",
       " '514, 514, 25043, 250, 2506, 250',\n",
       " '427, 427, 428, 428, 486, 486',\n",
       " '574, 574, 276, 276, 535, 535',\n",
       " '428, 428, 511, 511, 584, 584',\n",
       " '414, 414, 401, 401, 250, 250',\n",
       " '996, 996, 25002, 250, 276, 276',\n",
       " '428, 428, 276, 276, V45, V45',\n",
       " '427, 427, 25003, 250, 787, 787',\n",
       " '428, 428, 427, 427, V45, V45',\n",
       " '682, 682, 881, 881, 891, 891',\n",
       " '25013, 250, 276, 276, 401, 401',\n",
       " '722, 722, 401, 401, 250, 250',\n",
       " 'V55, V55, 998, 998, 401, 401',\n",
       " '281, 281, 276, 276, 332, 332',\n",
       " '486, 486, 428, 428, 427, 427',\n",
       " '486, 486, 203, 203, 284, 284',\n",
       " '577, 577, 25002, 250, 496, 496',\n",
       " '414, 414, V45, V45, 401, 401',\n",
       " '574, 574, 574, 574, 401, 401',\n",
       " '410, 410, 428, 428, 599, 599',\n",
       " '998, 998, V45, V45, 414, 414',\n",
       " '428, 428, 25041, 250, 599, 599',\n",
       " '414, 414, 401, 401, 272, 272',\n",
       " '25033, 250, 403, 403, V45, V45',\n",
       " '722, 722, 428, 428, 496, 496',\n",
       " '410, 410, 426, 426, 458, 458',\n",
       " '2506, 250, 428, 428, 403, 403',\n",
       " '642, 642, 648, 648, 648, 648',\n",
       " '786, 786, 414, 414, 401, 401',\n",
       " '786, 786, 2506, 250, 2507, 250',\n",
       " '434, 434, 780, 780, 2506, 250',\n",
       " '530, 530, 2506, 250, 599, 599',\n",
       " '466, 466, 428, 428, 25003, 250',\n",
       " '2507, 250, 440, 440, 427, 427',\n",
       " '530, 530, 25013, 250, 2506, 250',\n",
       " '722, 722, 729, 729, 0, 0',\n",
       " '296, 296, 25001, 250, 401, 401',\n",
       " '435, 435, 250, 250, 414, 414',\n",
       " '730, 730, 440, 440, 414, 414',\n",
       " '427, 427, 403, 403, 25001, 250',\n",
       " '25012, 250, 276, 276, 401, 401',\n",
       " '296, 296, 293, 293, 780, 780',\n",
       " '414, 414, 411, 411, 25001, 250',\n",
       " '434, 434, 427, 427, 401, 401',\n",
       " '998, 998, 25002, 250, 182, 182',\n",
       " '414, 414, 413, 413, 250, 250',\n",
       " '414, 414, 411, 411, 403, 403',\n",
       " '562, 562, 285, 285, 427, 427',\n",
       " '414, 414, 401, 401, 250, 250',\n",
       " '25013, 250, 245, 245, 0, 0',\n",
       " '590, 590, 578, 578, 41, 41',\n",
       " '715, 715, 999, 999, 285, 285',\n",
       " '440, 440, 250, 250, 593, 593',\n",
       " 'V53, V53, 427, 427, 428, 428',\n",
       " '428, 428, 427, 427, 426, 426',\n",
       " '414, 414, 411, 411, 401, 401',\n",
       " '780, 780, 414, 414, 401, 401',\n",
       " '414, 414, 491, 491, 276, 276',\n",
       " '414, 414, 250, 250, 278, 278',\n",
       " '2507, 250, 707, 707, 785, 785',\n",
       " '593, 593, 401, 401, 414, 414',\n",
       " '820, 820, 413, 413, 997, 997',\n",
       " '789, 789, 198, 198, 197, 197',\n",
       " '648, 648, 25003, 250, 278, 278',\n",
       " '786, 786, 403, 403, 413, 413',\n",
       " '780, 780, 25041, 250, 2507, 250',\n",
       " '566, 566, 25012, 250, 278, 278',\n",
       " '822, 822, 25001, 250, 496, 496',\n",
       " '648, 648, 25001, 250, 664, 664',\n",
       " '25011, 250, 558, 558, 0, 0',\n",
       " '486, 486, 496, 496, 25001, 250',\n",
       " '2507, 250, 785, 785, 682, 682',\n",
       " '780, 780, 787, 787, 250, 250',\n",
       " '191, 191, 428, 428, 493, 493',\n",
       " '428, 428, 425, 425, 998, 998',\n",
       " '557, 557, 403, 403, 564, 564',\n",
       " '432, 432, 342, 342, 250, 250',\n",
       " '574, 574, 401, 401, 250, 250',\n",
       " '491, 491, 427, 427, 401, 401',\n",
       " '722, 722, 25001, 250, 201, 201',\n",
       " '577, 577, 25001, 250, 272, 272',\n",
       " '414, 414, 411, 411, 428, 428',\n",
       " '410, 410, 414, 414, V45, V45',\n",
       " '38, 38, 599, 599, 276, 276',\n",
       " '435, 435, 573, 573, 356, 356',\n",
       " '414, 414, 413, 413, 401, 401',\n",
       " '435, 435, 276, 276, 250, 250',\n",
       " '428, 428, 425, 425, 401, 401',\n",
       " '25013, 250, 626, 626, V15, V15',\n",
       " '428, 428, 599, 599, 413, 413',\n",
       " '296, 296, 303, 303, 276, 276',\n",
       " '410, 410, 427, 427, 427, 427',\n",
       " '277, 277, 428, 428, 263, 263',\n",
       " '820, 820, 250, 250, 401, 401',\n",
       " '733, 733, 25053, 250, 25043, 250',\n",
       " '428, 428, 305, 305, 424, 424',\n",
       " '410, 410, 458, 458, V15, V15',\n",
       " '2507, 250, 440, 440, 414, 414',\n",
       " '276, 276, 584, 584, 403, 403',\n",
       " '403, 403, 710, 710, 2506, 250',\n",
       " '162, 162, 427, 427, 496, 496',\n",
       " '427, 427, 25002, 250, 401, 401',\n",
       " '996, 996, 415, 415, 292, 292',\n",
       " '414, 414, 427, 427, 25002, 250',\n",
       " '401, 401, 491, 491, 250, 250',\n",
       " '786, 786, V42, V42, 401, 401',\n",
       " '198, 198, 284, 284, 196, 196',\n",
       " '414, 414, 411, 411, 491, 491',\n",
       " '820, 820, 285, 285, 25001, 250',\n",
       " '562, 562, 569, 569, 401, 401',\n",
       " '491, 491, 518, 518, 25003, 250',\n",
       " '414, 414, 411, 411, 401, 401',\n",
       " '722, 722, 414, 414, 272, 272',\n",
       " '296, 296, 25002, 250, 401, 401',\n",
       " '435, 435, 401, 401, 496, 496',\n",
       " '428, 428, 496, 496, 416, 416',\n",
       " '428, 428, 414, 414, 782, 782',\n",
       " '428, 428, 414, 414, 715, 715',\n",
       " '276, 276, 403, 403, 996, 996',\n",
       " '428, 428, 25002, 250, 401, 401',\n",
       " '434, 434, 729, 729, 784, 784',\n",
       " '25013, 250, 759, 759, 473, 473',\n",
       " '715, 715, 250, 250, 401, 401',\n",
       " '455, 455, 25001, 250, 455, 455',\n",
       " '414, 414, 401, 401, 250, 250',\n",
       " '38, 38, 403, 403, 25001, 250',\n",
       " '440, 440, 682, 682, 250, 250',\n",
       " '25013, 250, 0, 0, 0, 0',\n",
       " '25002, 250, 112, 112, 428, 428',\n",
       " '562, 562, 250, 250, 401, 401',\n",
       " '427, 427, 425, 425, 427, 427',\n",
       " '711, 711, 41, 41, 714, 714',\n",
       " '560, 560, 276, 276, 564, 564',\n",
       " '577, 577, 401, 401, 250, 250',\n",
       " '722, 722, 292, 292, 250, 250',\n",
       " '414, 414, 401, 401, 250, 250',\n",
       " '2508, 250, 427, 427, E932, E932',\n",
       " '428, 428, 425, 425, 401, 401',\n",
       " '185, 185, 998, 998, 401, 401',\n",
       " '25013, 250, 276, 276, 0, 0',\n",
       " '440, 440, 496, 496, 250, 250',\n",
       " '414, 414, 25001, 250, 411, 411',\n",
       " '482, 482, 277, 277, 25003, 250',\n",
       " '2506, 250, 707, 707, 357, 357',\n",
       " '434, 434, 435, 435, 780, 780',\n",
       " '410, 410, 496, 496, 780, 780',\n",
       " '434, 434, 427, 427, 348, 348',\n",
       " '575, 575, 998, 998, 780, 780',\n",
       " '780, 780, 426, 426, 496, 496',\n",
       " '410, 410, 2506, 250, 25041, 250',\n",
       " '410, 410, 401, 401, 250, 250',\n",
       " '25003, 250, 0, 0, 0, 0',\n",
       " '434, 434, 428, 428, 2506, 250',\n",
       " '202, 202, 512, 512, 401, 401',\n",
       " '786, 786, 428, 428, 531, 531',\n",
       " '410, 410, 25003, 250, 414, 414',\n",
       " '25002, 250, 276, 276, 294, 294',\n",
       " '493, 493, 25002, 250, 401, 401',\n",
       " '25013, 250, 276, 276, 25023, 250',\n",
       " '25083, 250, 996, 996, 428, 428',\n",
       " '410, 410, 428, 428, 285, 285',\n",
       " '280, 280, 428, 428, 496, 496',\n",
       " '414, 414, 411, 411, 997, 997',\n",
       " '410, 410, 414, 414, 250, 250',\n",
       " '428, 428, 25001, 250, 278, 278',\n",
       " '189, 189, 401, 401, 250, 250',\n",
       " '996, 996, 599, 599, 788, 788',\n",
       " '25002, 250, 276, 276, 0, 0',\n",
       " '562, 562, 280, 280, 250, 250',\n",
       " '682, 682, 682, 682, 25003, 250',\n",
       " '493, 493, 25003, 250, 714, 714',\n",
       " '428, 428, 427, 427, 459, 459',\n",
       " '414, 414, 599, 599, 403, 403',\n",
       " '553, 553, 496, 496, 427, 427',\n",
       " '560, 560, 276, 276, 401, 401',\n",
       " '997, 997, 780, 780, E878, E878',\n",
       " '225, 225, 401, 401, 250, 250',\n",
       " '599, 599, 290, 290, 437, 437',\n",
       " '715, 715, 401, 401, 250, 250',\n",
       " '789, 789, 401, 401, 250, 250',\n",
       " '577, 577, 2506, 250, 733, 733',\n",
       " '154, 154, 196, 196, 507, 507',\n",
       " '560, 560, 535, 535, 714, 714',\n",
       " '434, 434, 428, 428, 25001, 250',\n",
       " '682, 682, 707, 707, 2507, 250',\n",
       " '410, 410, 250, 250, 272, 272',\n",
       " 'V57, V57, 25013, 250, 486, 486',\n",
       " '648, 648, 25093, 250, 401, 401',\n",
       " '722, 722, 250, 250, 0, 0',\n",
       " '648, 648, 25002, 250, 525, 525',\n",
       " '648, 648, 642, 642, 25053, 250',\n",
       " '599, 599, 403, 403, 996, 996',\n",
       " '435, 435, 427, 427, 437, 437',\n",
       " '25022, 250, 428, 428, 403, 403',\n",
       " '25013, 250, 536, 536, 0, 0',\n",
       " '410, 410, 398, 398, 397, 397',\n",
       " '571, 571, 571, 571, 572, 572',\n",
       " '332, 332, 276, 276, 428, 428',\n",
       " '441, 441, 444, 444, 805, 805',\n",
       " '715, 715, 496, 496, 401, 401',\n",
       " '599, 599, 276, 276, 25051, 250',\n",
       " '414, 414, 411, 411, 25002, 250',\n",
       " '276, 276, 25002, 250, 437, 437',\n",
       " '414, 414, 411, 411, 25001, 250',\n",
       " '414, 414, 272, 272, 305, 305',\n",
       " '414, 414, 411, 411, 272, 272',\n",
       " '295, 295, 319, 319, 401, 401',\n",
       " '414, 414, 411, 411, 401, 401',\n",
       " '202, 202, 203, 203, 453, 453',\n",
       " '25003, 250, 276, 276, 0, 0',\n",
       " '434, 434, 342, 342, 784, 784',\n",
       " '25081, 250, 401, 401, 244, 244',\n",
       " '486, 486, 428, 428, 276, 276',\n",
       " '349, 349, 25002, 250, 331, 331',\n",
       " '0, 0, 780, 780, 997, 997',\n",
       " '715, 715, 276, 276, 736, 736',\n",
       " '414, 414, 25001, 250, 428, 428',\n",
       " '557, 557, 70, 70, 496, 496',\n",
       " '414, 414, 411, 411, 401, 401',\n",
       " '996, 996, 711, 711, 402, 402',\n",
       " '962, 962, 303, 303, 2508, 250',\n",
       " '996, 996, E878, E878, 250, 250',\n",
       " '592, 592, 25001, 250, 591, 591',\n",
       " '410, 410, 446, 446, 414, 414',\n",
       " '707, 707, 41, 41, 403, 403',\n",
       " '507, 507, 255, 255, 401, 401',\n",
       " '599, 599, 280, 280, 535, 535',\n",
       " '2508, 250, 403, 403, 425, 425',\n",
       " '414, 414, 428, 428, 427, 427',\n",
       " '386, 386, 428, 428, 427, 427',\n",
       " '575, 575, 427, 427, 576, 576',\n",
       " '276, 276, V44, V44, 250, 250',\n",
       " '682, 682, 242, 242, 715, 715',\n",
       " '682, 682, 38, 38, 250, 250',\n",
       " '414, 414, 428, 428, 411, 411',\n",
       " '25013, 250, 276, 276, 465, 465',\n",
       " '156, 156, 196, 196, 533, 533',\n",
       " '428, 428, 682, 682, 584, 584',\n",
       " '25002, 250, 401, 401, 0, 0',\n",
       " '200, 200, 788, 788, 401, 401',\n",
       " '414, 414, 411, 411, 703, 703',\n",
       " '728, 728, 2507, 250, 787, 787',\n",
       " '348, 348, 413, 413, 401, 401',\n",
       " '599, 599, 25002, 250, 41, 41',\n",
       " '428, 428, 425, 425, 414, 414',\n",
       " '410, 410, 414, 414, 401, 401',\n",
       " '786, 786, 401, 401, 25002, 250',\n",
       " '434, 434, 427, 427, 401, 401',\n",
       " '558, 558, 250, 250, 349, 349',\n",
       " '428, 428, 424, 424, 401, 401',\n",
       " '584, 584, 276, 276, 403, 403',\n",
       " '459, 459, 250, 250, 0, 0',\n",
       " '25013, 250, V15, V15, 315, 315',\n",
       " '648, 648, 25001, 250, 658, 658',\n",
       " '428, 428, 425, 425, 2506, 250',\n",
       " '414, 414, 414, 414, V45, V45',\n",
       " '414, 414, 427, 427, 414, 414',\n",
       " '724, 724, 401, 401, 250, 250',\n",
       " '25013, 250, 276, 276, 0, 0',\n",
       " '618, 618, 998, 998, 25002, 250',\n",
       " '410, 410, 403, 403, 428, 428',\n",
       " '435, 435, 414, 414, 331, 331',\n",
       " '25002, 250, 427, 427, 428, 428',\n",
       " '185, 185, 998, 998, 250, 250',\n",
       " '996, 996, 403, 403, 608, 608',\n",
       " '427, 427, 25051, 250, 285, 285',\n",
       " '428, 428, 2506, 250, 599, 599',\n",
       " '426, 426, 414, 414, 250, 250',\n",
       " '996, 996, 38, 38, 403, 403',\n",
       " '569, 569, 403, 403, 599, 599',\n",
       " '38, 38, 682, 682, 427, 427',\n",
       " '428, 428, 425, 425, 414, 414',\n",
       " '434, 434, 427, 427, 401, 401',\n",
       " '25013, 250, 276, 276, 578, 578',\n",
       " '410, 410, 496, 496, 272, 272',\n",
       " '414, 414, 427, 427, 414, 414',\n",
       " '388, 388, 784, 784, 250, 250',\n",
       " '410, 410, 428, 428, 280, 280',\n",
       " '574, 574, 574, 574, 250, 250',\n",
       " '486, 486, 496, 496, 716, 716',\n",
       " '25013, 250, 276, 276, 593, 593',\n",
       " '584, 584, 403, 403, 428, 428',\n",
       " '577, 577, 25001, 250, 786, 786',\n",
       " '296, 296, 300, 300, 278, 278',\n",
       " '593, 593, 403, 403, 284, 284',\n",
       " '25003, 250, 276, 276, 382, 382',\n",
       " '789, 789, 787, 787, 2506, 250',\n",
       " '996, 996, 403, 403, 25041, 250',\n",
       " '428, 428, 25001, 250, 300, 300',\n",
       " '276, 276, 780, 780, 25003, 250',\n",
       " '386, 386, 496, 496, 250, 250',\n",
       " '682, 682, 403, 403, V42, V42',\n",
       " '682, 682, 427, 427, 496, 496',\n",
       " '296, 296, 25001, 250, 0, 0',\n",
       " '507, 507, 496, 496, 428, 428',\n",
       " '682, 682, 496, 496, 250, 250',\n",
       " '607, 607, V10, V10, 272, 272',\n",
       " '599, 599, 788, 788, 41, 41',\n",
       " '789, 789, 562, 562, 282, 282',\n",
       " '707, 707, 25001, 250, 707, 707',\n",
       " '996, 996, 403, 403, 276, 276',\n",
       " '337, 337, 250, 250, 272, 272',\n",
       " '486, 486, 581, 581, 492, 492',\n",
       " '410, 410, 428, 428, 414, 414',\n",
       " '996, 996, 427, 427, 496, 496',\n",
       " '434, 434, 162, 162, 196, 196',\n",
       " '466, 466, 707, 707, 276, 276',\n",
       " '786, 786, 402, 402, 438, 438',\n",
       " '996, 996, 599, 599, 599, 599',\n",
       " '82, 82, 287, 287, 250, 250',\n",
       " '531, 531, 280, 280, 403, 403',\n",
       " '428, 428, 425, 425, 250, 250',\n",
       " '786, 786, 25001, 250, 401, 401',\n",
       " '414, 414, 410, 410, 250, 250',\n",
       " '599, 599, 584, 584, 427, 427',\n",
       " '530, 530, 287, 287, 571, 571',\n",
       " '786, 786, 496, 496, 250, 250',\n",
       " '414, 414, 411, 411, 424, 424',\n",
       " '440, 440, 447, 447, 414, 414',\n",
       " '25012, 250, 780, 780, 571, 571',\n",
       " '707, 707, 682, 682, 2506, 250',\n",
       " '25002, 250, 276, 276, 425, 425',\n",
       " '571, 571, 789, 789, 511, 511',\n",
       " '2506, 250, 790, 790, 536, 536',\n",
       " '584, 584, 276, 276, 276, 276',\n",
       " '414, 414, 411, 411, 401, 401',\n",
       " '812, 812, 285, 285, 428, 428',\n",
       " '225, 225, 401, 401, 250, 250',\n",
       " '440, 440, 250, 250, 401, 401',\n",
       " '428, 428, 707, 707, 25042, 250',\n",
       " '414, 414, 411, 411, 250, 250',\n",
       " '411, 411, 250, 250, 272, 272',\n",
       " '414, 414, 997, 997, 427, 427',\n",
       " '427, 427, 428, 428, 496, 496',\n",
       " '596, 596, 591, 591, 585, 585',\n",
       " '414, 414, 250, 250, 401, 401',\n",
       " '997, 997, 560, 560, 596, 596',\n",
       " '996, 996, 25002, 250, 276, 276',\n",
       " '780, 780, 571, 571, 287, 287',\n",
       " '784, 784, 414, 414, 250, 250',\n",
       " '288, 288, 200, 200, 276, 276',\n",
       " '414, 414, 411, 411, 428, 428',\n",
       " '786, 786, 428, 428, 997, 997',\n",
       " '998, 998, 998, 998, 427, 427',\n",
       " '824, 824, 250, 250, 401, 401',\n",
       " 'V58, V58, 154, 154, 197, 197',\n",
       " '428, 428, 401, 401, 780, 780',\n",
       " '414, 414, 250, 250, 401, 401',\n",
       " '414, 414, 250, 250, 272, 272',\n",
       " '584, 584, 403, 403, 25001, 250',\n",
       " '428, 428, 707, 707, 403, 403',\n",
       " '466, 466, 276, 276, 599, 599',\n",
       " '786, 786, 414, 414, 401, 401',\n",
       " '414, 414, 411, 411, 997, 997',\n",
       " '997, 997, 25002, 250, 599, 599',\n",
       " '599, 599, 276, 276, 250, 250',\n",
       " '198, 198, 162, 162, 197, 197',\n",
       " '730, 730, 785, 785, 25042, 250',\n",
       " '722, 722, 401, 401, 250, 250',\n",
       " '656, 656, 648, 648, 644, 644',\n",
       " '435, 435, 440, 440, 2508, 250',\n",
       " '648, 648, 25002, 250, 0, 0',\n",
       " '25012, 250, 276, 276, 578, 578',\n",
       " '530, 530, 425, 425, 428, 428',\n",
       " '531, 531, 25082, 250, 428, 428',\n",
       " '414, 414, 285, 285, 276, 276',\n",
       " '434, 434, 780, 780, 427, 427',\n",
       " '787, 787, 198, 198, 250, 250',\n",
       " '25022, 250, 491, 491, 599, 599',\n",
       " '996, 996, 38, 38, 585, 585',\n",
       " '682, 682, V42, V42, 2504, 250',\n",
       " '530, 530, 403, 403, 428, 428',\n",
       " '491, 491, 428, 428, 276, 276',\n",
       " '433, 433, 292, 292, 780, 780',\n",
       " '428, 428, 496, 496, 414, 414',\n",
       " '786, 786, 25002, 250, 272, 272',\n",
       " '25013, 250, 276, 276, 496, 496',\n",
       " '491, 491, 518, 518, 401, 401',\n",
       " '578, 578, 25002, 250, 403, 403',\n",
       " '786, 786, 25052, 250, 2506, 250',\n",
       " '786, 786, 996, 996, 682, 682',\n",
       " '296, 296, 250, 250, 401, 401',\n",
       " '25012, 250, 276, 276, V11, V11',\n",
       " '276, 276, 787, 787, 414, 414',\n",
       " '276, 276, 25002, 250, 558, 558',\n",
       " '466, 466, 428, 428, 414, 414',\n",
       " '486, 486, 414, 414, V45, V45',\n",
       " '25002, 250, 135, 135, 401, 401',\n",
       " '573, 573, 577, 577, E932, E932',\n",
       " '577, 577, 571, 571, 25001, 250',\n",
       " '722, 722, 401, 401, 250, 250',\n",
       " '786, 786, 780, 780, 250, 250',\n",
       " '820, 820, 25002, 250, E885, E885',\n",
       " '428, 428, 427, 427, 250, 250',\n",
       " '427, 427, 428, 428, 496, 496',\n",
       " '414, 414, 427, 427, 599, 599',\n",
       " '410, 410, 581, 581, 2504, 250',\n",
       " '414, 414, 401, 401, 250, 250',\n",
       " '410, 410, 414, 414, 414, 414',\n",
       " '571, 571, 303, 303, 571, 571',\n",
       " '2507, 250, 440, 440, 401, 401',\n",
       " '197, 197, 486, 486, 162, 162',\n",
       " '414, 414, 427, 427, 250, 250',\n",
       " '996, 996, 25041, 250, 403, 403',\n",
       " '25003, 250, 276, 276, 599, 599',\n",
       " '491, 491, 162, 162, 198, 198',\n",
       " '571, 571, 425, 425, 585, 585',\n",
       " '780, 780, 304, 304, 25051, 250',\n",
       " '427, 427, 272, 272, 250, 250',\n",
       " '492, 492, 440, 440, 276, 276',\n",
       " '414, 414, 411, 411, 25002, 250',\n",
       " '296, 296, 25002, 250, 401, 401',\n",
       " '198, 198, 117, 117, 198, 198',\n",
       " '427, 427, 411, 411, 599, 599',\n",
       " '220, 220, 154, 154, 218, 218',\n",
       " '433, 433, 401, 401, 2506, 250',\n",
       " '435, 435, 401, 401, 250, 250',\n",
       " '414, 414, 411, 411, 486, 486',\n",
       " '410, 410, 250, 250, 305, 305',\n",
       " '414, 414, 411, 411, 428, 428',\n",
       " '516, 516, 496, 496, 303, 303',\n",
       " '414, 414, 786, 786, 250, 250',\n",
       " '566, 566, 428, 428, 41, 41',\n",
       " '210, 210, 250, 250, 401, 401',\n",
       " '414, 414, 411, 411, 412, 412',\n",
       " '599, 599, 707, 707, 25002, 250',\n",
       " '410, 410, 518, 518, 511, 511',\n",
       " '562, 562, 250, 250, 401, 401',\n",
       " '414, 414, 411, 411, 250, 250',\n",
       " '486, 486, 428, 428, 25042, 250',\n",
       " '2506, 250, 276, 276, 571, 571',\n",
       " 'V57, V57, 2506, 250, 276, 276',\n",
       " '410, 410, 25002, 250, 599, 599',\n",
       " '25012, 250, 276, 276, 599, 599',\n",
       " '428, 428, 425, 425, 427, 427',\n",
       " '410, 410, 424, 424, 414, 414',\n",
       " '922, 922, 847, 847, 250, 250',\n",
       " '808, 808, 852, 852, 276, 276',\n",
       " '997, 997, 599, 599, V42, V42',\n",
       " '410, 410, 996, 996, 414, 414',\n",
       " '410, 410, 398, 398, 402, 402',\n",
       " '410, 410, 398, 398, 396, 396',\n",
       " '562, 562, 560, 560, 250, 250',\n",
       " '996, 996, 996, 996, V14, V14',\n",
       " '786, 786, 427, 427, 272, 272',\n",
       " '428, 428, 25083, 250, 458, 458',\n",
       " '25013, 250, 496, 496, 280, 280',\n",
       " '414, 414, 401, 401, 250, 250',\n",
       " '434, 434, 518, 518, 427, 427',\n",
       " '434, 434, 733, 733, 784, 784',\n",
       " '682, 682, 496, 496, 305, 305',\n",
       " '572, 572, 287, 287, 570, 570',\n",
       " '996, 996, 403, 403, 250, 250',\n",
       " '414, 414, 401, 401, 428, 428',\n",
       " '648, 648, 25003, 250, 654, 654',\n",
       " '197, 197, 196, 196, 496, 496',\n",
       " '440, 440, 401, 401, 250, 250',\n",
       " '434, 434, 729, 729, 433, 433',\n",
       " '428, 428, 2506, 250, 780, 780',\n",
       " '286, 286, 428, 428, E934, E934',\n",
       " '996, 996, 573, 573, 255, 255',\n",
       " '518, 518, 25011, 250, 244, 244',\n",
       " '885, 885, 816, 816, 882, 882',\n",
       " '786, 786, 414, 414, 250, 250',\n",
       " '414, 414, 411, 411, 278, 278',\n",
       " '958, 958, 2506, 250, 41, 41',\n",
       " '682, 682, 707, 707, 459, 459',\n",
       " '296, 296, 250, 250, 564, 564',\n",
       " '428, 428, 162, 162, 496, 496',\n",
       " '414, 414, 25001, 250, 411, 411',\n",
       " '661, 661, 648, 648, V27, V27',\n",
       " 'V57, V57, 428, 428, 682, 682',\n",
       " '648, 648, 642, 642, 648, 648',\n",
       " '427, 427, 585, 585, 25041, 250',\n",
       " '276, 276, 428, 428, 425, 425',\n",
       " '428, 428, 425, 425, 250, 250',\n",
       " '969, 969, 428, 428, 458, 458',\n",
       " '38, 38, 575, 575, 38, 38',\n",
       " '410, 410, 416, 416, 397, 397',\n",
       " '824, 824, V42, V42, 25002, 250',\n",
       " '433, 433, 250, 250, 401, 401',\n",
       " '196, 196, 427, 427, 427, 427',\n",
       " '433, 433, 486, 486, 998, 998',\n",
       " '486, 486, 25001, 250, 786, 786',\n",
       " '414, 414, 411, 411, 997, 997',\n",
       " '518, 518, 491, 491, 300, 300',\n",
       " '414, 414, 285, 285, 599, 599',\n",
       " '410, 410, 428, 428, 276, 276',\n",
       " '998, 998, 567, 567, 25001, 250',\n",
       " '25013, 250, 276, 276, 288, 288',\n",
       " '530, 530, 788, 788, 493, 493',\n",
       " '202, 202, 401, 401, 250, 250',\n",
       " '434, 434, 250, 250, 401, 401',\n",
       " '25093, 250, V15, V15, 0, 0',\n",
       " '562, 562, 2506, 250, 357, 357',\n",
       " '997, 997, 428, 428, 25001, 250',\n",
       " '227, 227, 250, 250, 493, 493',\n",
       " '410, 410, 412, 412, 458, 458',\n",
       " '996, 996, 25041, 250, 403, 403',\n",
       " '112, 112, 403, 403, 276, 276',\n",
       " '404, 404, 584, 584, 491, 491',\n",
       " '434, 434, 424, 424, 564, 564',\n",
       " '25013, 250, 276, 276, 785, 785',\n",
       " '427, 427, 428, 428, 711, 711',\n",
       " '780, 780, 427, 427, 250, 250',\n",
       " '414, 414, 411, 411, 428, 428',\n",
       " '577, 577, 491, 491, 577, 577',\n",
       " '414, 414, 411, 411, 424, 424',\n",
       " '414, 414, 424, 424, 492, 492',\n",
       " '2507, 250, 785, 785, 585, 585',\n",
       " '780, 780, 441, 441, 250, 250',\n",
       " '996, 996, 2507, 250, 443, 443',\n",
       " '414, 414, 411, 411, 250, 250',\n",
       " '410, 410, 428, 428, 2507, 250',\n",
       " '577, 577, 25002, 250, 401, 401',\n",
       " '996, 996, 25043, 250, 403, 403',\n",
       " '410, 410, 428, 428, 496, 496',\n",
       " '2507, 250, 440, 440, 401, 401',\n",
       " '428, 428, 427, 427, 276, 276',\n",
       " '428, 428, 25002, 250, 276, 276',\n",
       " '428, 428, 25002, 250, 496, 496',\n",
       " '428, 428, 411, 411, 424, 424',\n",
       " '721, 721, 707, 707, 729, 729',\n",
       " '823, 823, 998, 998, 836, 836',\n",
       " '434, 434, 25002, 250, 272, 272',\n",
       " '786, 786, 414, 414, 401, 401',\n",
       " '428, 428, 581, 581, 2506, 250',\n",
       " '466, 466, 515, 515, 518, 518',\n",
       " '996, 996, 305, 305, E878, E878',\n",
       " '491, 491, 428, 428, 25001, 250',\n",
       " '25003, 250, 372, 372, 0, 0',\n",
       " '530, 530, 25002, 250, 998, 998',\n",
       " '715, 715, 733, 733, 401, 401',\n",
       " '730, 730, 707, 707, 403, 403',\n",
       " '191, 191, 492, 492, 414, 414',\n",
       " '996, 996, 38, 38, 996, 996',\n",
       " '2506, 250, 403, 403, 357, 357',\n",
       " '414, 414, 518, 518, 250, 250',\n",
       " '282, 282, 25002, 250, 780, 780',\n",
       " '428, 428, 493, 493, 250, 250',\n",
       " '276, 276, 428, 428, 25002, 250',\n",
       " '414, 414, 411, 411, 250, 250',\n",
       " '786, 786, 428, 428, 403, 403',\n",
       " '786, 786, 414, 414, 250, 250',\n",
       " '276, 276, 584, 584, 427, 427',\n",
       " '486, 486, 585, 585, 25002, 250',\n",
       " '532, 532, 285, 285, 303, 303',\n",
       " '428, 428, 426, 426, 401, 401',\n",
       " '428, 428, 2506, 250, 584, 584',\n",
       " '428, 428, 496, 496, 794, 794',\n",
       " '416, 416, 276, 276, 424, 424',\n",
       " '346, 346, 599, 599, 25002, 250',\n",
       " '296, 296, 305, 305, 300, 300',\n",
       " '428, 428, 427, 427, 707, 707',\n",
       " '182, 182, 25001, 250, 401, 401',\n",
       " '162, 162, 512, 512, 496, 496',\n",
       " '515, 515, 482, 482, 599, 599',\n",
       " '414, 414, 414, 414, 250, 250',\n",
       " '434, 434, 25001, 250, 427, 427',\n",
       " '296, 296, 300, 300, V43, V43',\n",
       " '786, 786, 25003, 250, 276, 276',\n",
       " '428, 428, 276, 276, 295, 295',\n",
       " '25002, 250, 414, 414, 412, 412',\n",
       " '535, 535, 276, 276, 427, 427',\n",
       " '428, 428, 401, 401, 25001, 250',\n",
       " '25041, 250, 403, 403, 2506, 250',\n",
       " '414, 414, 411, 411, 25001, 250',\n",
       " '410, 410, 414, 414, 401, 401',\n",
       " '428, 428, 496, 496, 295, 295',\n",
       " '414, 414, 285, 285, 250, 250',\n",
       " '428, 428, 403, 403, 424, 424',\n",
       " '453, 453, 414, 414, 443, 443',\n",
       " '535, 535, 276, 276, 535, 535',\n",
       " '25013, 250, 585, 585, 780, 780',\n",
       " '295, 295, 496, 496, 250, 250',\n",
       " '786, 786, 112, 112, 427, 427',\n",
       " '574, 574, 25001, 250, 428, 428',\n",
       " '434, 434, 25002, 250, 401, 401',\n",
       " '250, 250, 401, 401, 278, 278',\n",
       " '648, 648, 25003, 250, 0, 0',\n",
       " '402, 402, 518, 518, 491, 491',\n",
       " '435, 435, 427, 427, 250, 250',\n",
       " '595, 595, 599, 599, 403, 403',\n",
       " '295, 295, 382, 382, 250, 250',\n",
       " '571, 571, 456, 456, 25001, 250',\n",
       " '25082, 250, 276, 276, 428, 428',\n",
       " '211, 211, V45, V45, V45, V45',\n",
       " '410, 410, 398, 398, 397, 397',\n",
       " '303, 303, 25001, 250, 799, 799',\n",
       " '820, 820, 285, 285, 425, 425',\n",
       " '410, 410, 250, 250, 281, 281',\n",
       " '2508, 250, 276, 276, 197, 197',\n",
       " '25013, 250, 578, 578, 303, 303',\n",
       " '574, 574, 780, 780, 25001, 250',\n",
       " '428, 428, 424, 424, 414, 414',\n",
       " '577, 577, 577, 577, 304, 304',\n",
       " '599, 599, 790, 790, 41, 41',\n",
       " '428, 428, 427, 427, 403, 403',\n",
       " '286, 286, 403, 403, 707, 707',\n",
       " '996, 996, 403, 403, 153, 153',\n",
       " '414, 414, 411, 411, 410, 410',\n",
       " '648, 648, 25001, 250, 658, 658',\n",
       " '25001, 250, V65, V65, 0, 0',\n",
       " '535, 535, 560, 560, 25002, 250',\n",
       " '440, 440, V42, V42, 250, 250',\n",
       " '25002, 250, 276, 276, 276, 276',\n",
       " '715, 715, 599, 599, 285, 285',\n",
       " '535, 535, 25002, 250, 401, 401',\n",
       " '435, 435, 413, 413, 25002, 250',\n",
       " '852, 852, 427, 427, 276, 276',\n",
       " '414, 414, V45, V45, V45, V45',\n",
       " '428, 428, 25001, 250, 427, 427',\n",
       " '584, 584, 710, 710, 403, 403',\n",
       " '428, 428, 425, 425, 276, 276',\n",
       " '786, 786, 425, 425, 428, 428',\n",
       " '577, 577, 25003, 250, 780, 780',\n",
       " '218, 218, 250, 250, 616, 616',\n",
       " '410, 410, 428, 428, 799, 799',\n",
       " '486, 486, 491, 491, 401, 401',\n",
       " '486, 486, 496, 496, 428, 428',\n",
       " '466, 466, 425, 425, 427, 427',\n",
       " '428, 428, 424, 424, 496, 496',\n",
       " '682, 682, 707, 707, 25082, 250',\n",
       " '782, 782, 2506, 250, 357, 357',\n",
       " '780, 780, 428, 428, 414, 414',\n",
       " '540, 540, 25001, 250, 401, 401',\n",
       " '996, 996, 998, 998, 250, 250',\n",
       " '571, 571, 572, 572, 789, 789',\n",
       " '189, 189, 401, 401, 250, 250',\n",
       " '25013, 250, 0, 0, 0, 0',\n",
       " '296, 296, 571, 571, V42, V42',\n",
       " '414, 414, 424, 424, 401, 401',\n",
       " '25082, 250, 428, 428, 599, 599',\n",
       " '25003, 250, 276, 276, 0, 0',\n",
       " '433, 433, 428, 428, 403, 403',\n",
       " '414, 414, 428, 428, 427, 427',\n",
       " '428, 428, 25083, 250, 425, 425',\n",
       " '433, 433, 424, 424, 729, 729',\n",
       " '618, 618, 401, 401, 250, 250',\n",
       " '25013, 250, 584, 584, 403, 403',\n",
       " '571, 571, 572, 572, 25002, 250',\n",
       " '786, 786, 710, 710, 414, 414',\n",
       " '276, 276, 25082, 250, 2506, 250',\n",
       " '427, 427, 401, 401, 250, 250',\n",
       " '2508, 250, 707, 707, 428, 428',\n",
       " '562, 562, 285, 285, 518, 518',\n",
       " '789, 789, 496, 496, 304, 304',\n",
       " '721, 721, 427, 427, 250, 250',\n",
       " '457, 457, 401, 401, 250, 250',\n",
       " '786, 786, 414, 414, 250, 250',\n",
       " '558, 558, 276, 276, 276, 276',\n",
       " '276, 276, 2506, 250, 25083, 250',\n",
       " '493, 493, 25002, 250, 401, 401',\n",
       " '780, 780, V45, V45, 414, 414',\n",
       " '711, 711, 280, 280, 401, 401',\n",
       " '285, 285, 403, 403, 578, 578',\n",
       " '303, 303, 25001, 250, 296, 296',\n",
       " '25003, 250, 401, 401, 272, 272',\n",
       " '38, 38, 788, 788, 601, 601',\n",
       " '786, 786, 250, 250, 0, 0',\n",
       " '414, 414, 276, 276, 287, 287',\n",
       " '996, 996, 283, 283, 25001, 250',\n",
       " '276, 276, 599, 599, 25003, 250',\n",
       " '786, 786, 303, 303, 291, 291',\n",
       " '25013, 250, 0, 0, 0, 0',\n",
       " '25003, 250, 78, 78, 75, 75',\n",
       " '434, 434, 25001, 250, 425, 425',\n",
       " '511, 511, 401, 401, 512, 512',\n",
       " '428, 428, 25081, 250, 707, 707',\n",
       " '434, 434, 401, 401, 414, 414',\n",
       " '648, 648, 25001, 250, 660, 660',\n",
       " '486, 486, 599, 599, 571, 571',\n",
       " '786, 786, 427, 427, 426, 426',\n",
       " '574, 574, 576, 576, 427, 427',\n",
       " '401, 401, 425, 425, 25001, 250',\n",
       " '296, 296, 25083, 250, 2506, 250',\n",
       " '433, 433, 427, 427, 414, 414',\n",
       " '2507, 250, 440, 440, 2505, 250',\n",
       " '428, 428, 425, 425, 491, 491',\n",
       " '427, 427, 276, 276, 276, 276',\n",
       " '414, 414, 250, 250, 598, 598',\n",
       " '2506, 250, 536, 536, 337, 337',\n",
       " '511, 511, 250, 250, 401, 401',\n",
       " '593, 593, 591, 591, 2506, 250',\n",
       " '188, 188, 599, 599, 250, 250',\n",
       " '722, 722, 250, 250, 401, 401',\n",
       " '2507, 250, 440, 440, 682, 682',\n",
       " '427, 427, 425, 425, 397, 397',\n",
       " '431, 431, 432, 432, 414, 414',\n",
       " '340, 340, 244, 244, 722, 722',\n",
       " '2508, 250, 292, 292, 2504, 250',\n",
       " '38, 38, 788, 788, 25003, 250',\n",
       " '25013, 250, 0, 0, 0, 0',\n",
       " '414, 414, 411, 411, 427, 427',\n",
       " '410, 410, 285, 285, 414, 414',\n",
       " '414, 414, 997, 997, 427, 427',\n",
       " ...]"
      ]
     },
     "execution_count": 123,
     "metadata": {},
     "output_type": "execute_result"
    }
   ],
   "source": [
    "data.diag_all"
   ]
  },
  {
   "cell_type": "code",
   "execution_count": 128,
   "metadata": {
    "collapsed": true
   },
   "outputs": [],
   "source": [
    "from sklearn.feature_extraction.text import CountVectorizer, TfidfVectorizer\n",
    "vect = CountVectorizer()"
   ]
  },
  {
   "cell_type": "code",
   "execution_count": 129,
   "metadata": {
    "collapsed": false,
    "scrolled": true
   },
   "outputs": [],
   "source": [
    "diag_all_vect = pd.DataFrame(vect.fit_transform(data.diag_all).toarray(), columns = vect.get_feature_names())"
   ]
  },
  {
   "cell_type": "code",
   "execution_count": 130,
   "metadata": {
    "collapsed": false
   },
   "outputs": [
    {
     "data": {
      "text/html": [
       "<div>\n",
       "<table border=\"1\" class=\"dataframe\">\n",
       "  <thead>\n",
       "    <tr style=\"text-align: right;\">\n",
       "      <th></th>\n",
       "      <th>10</th>\n",
       "      <th>11</th>\n",
       "      <th>110</th>\n",
       "      <th>111</th>\n",
       "      <th>112</th>\n",
       "      <th>114</th>\n",
       "      <th>115</th>\n",
       "      <th>117</th>\n",
       "      <th>122</th>\n",
       "      <th>123</th>\n",
       "      <th>...</th>\n",
       "      <th>v64</th>\n",
       "      <th>v65</th>\n",
       "      <th>v66</th>\n",
       "      <th>v67</th>\n",
       "      <th>v69</th>\n",
       "      <th>v70</th>\n",
       "      <th>v71</th>\n",
       "      <th>v72</th>\n",
       "      <th>v85</th>\n",
       "      <th>v86</th>\n",
       "    </tr>\n",
       "  </thead>\n",
       "  <tbody>\n",
       "    <tr>\n",
       "      <th>0</th>\n",
       "      <td>0</td>\n",
       "      <td>0</td>\n",
       "      <td>0</td>\n",
       "      <td>0</td>\n",
       "      <td>0</td>\n",
       "      <td>0</td>\n",
       "      <td>0</td>\n",
       "      <td>0</td>\n",
       "      <td>0</td>\n",
       "      <td>0</td>\n",
       "      <td>...</td>\n",
       "      <td>0</td>\n",
       "      <td>0</td>\n",
       "      <td>0</td>\n",
       "      <td>0</td>\n",
       "      <td>0</td>\n",
       "      <td>0</td>\n",
       "      <td>0</td>\n",
       "      <td>0</td>\n",
       "      <td>0</td>\n",
       "      <td>0</td>\n",
       "    </tr>\n",
       "    <tr>\n",
       "      <th>1</th>\n",
       "      <td>0</td>\n",
       "      <td>0</td>\n",
       "      <td>0</td>\n",
       "      <td>0</td>\n",
       "      <td>0</td>\n",
       "      <td>0</td>\n",
       "      <td>0</td>\n",
       "      <td>0</td>\n",
       "      <td>0</td>\n",
       "      <td>0</td>\n",
       "      <td>...</td>\n",
       "      <td>0</td>\n",
       "      <td>0</td>\n",
       "      <td>0</td>\n",
       "      <td>0</td>\n",
       "      <td>0</td>\n",
       "      <td>0</td>\n",
       "      <td>0</td>\n",
       "      <td>0</td>\n",
       "      <td>0</td>\n",
       "      <td>0</td>\n",
       "    </tr>\n",
       "    <tr>\n",
       "      <th>2</th>\n",
       "      <td>0</td>\n",
       "      <td>0</td>\n",
       "      <td>0</td>\n",
       "      <td>0</td>\n",
       "      <td>0</td>\n",
       "      <td>0</td>\n",
       "      <td>0</td>\n",
       "      <td>0</td>\n",
       "      <td>0</td>\n",
       "      <td>0</td>\n",
       "      <td>...</td>\n",
       "      <td>0</td>\n",
       "      <td>0</td>\n",
       "      <td>0</td>\n",
       "      <td>0</td>\n",
       "      <td>0</td>\n",
       "      <td>0</td>\n",
       "      <td>0</td>\n",
       "      <td>0</td>\n",
       "      <td>0</td>\n",
       "      <td>0</td>\n",
       "    </tr>\n",
       "    <tr>\n",
       "      <th>3</th>\n",
       "      <td>0</td>\n",
       "      <td>0</td>\n",
       "      <td>0</td>\n",
       "      <td>0</td>\n",
       "      <td>0</td>\n",
       "      <td>0</td>\n",
       "      <td>0</td>\n",
       "      <td>0</td>\n",
       "      <td>0</td>\n",
       "      <td>0</td>\n",
       "      <td>...</td>\n",
       "      <td>0</td>\n",
       "      <td>0</td>\n",
       "      <td>0</td>\n",
       "      <td>0</td>\n",
       "      <td>0</td>\n",
       "      <td>0</td>\n",
       "      <td>0</td>\n",
       "      <td>0</td>\n",
       "      <td>0</td>\n",
       "      <td>0</td>\n",
       "    </tr>\n",
       "    <tr>\n",
       "      <th>4</th>\n",
       "      <td>0</td>\n",
       "      <td>0</td>\n",
       "      <td>0</td>\n",
       "      <td>0</td>\n",
       "      <td>0</td>\n",
       "      <td>0</td>\n",
       "      <td>0</td>\n",
       "      <td>0</td>\n",
       "      <td>0</td>\n",
       "      <td>0</td>\n",
       "      <td>...</td>\n",
       "      <td>0</td>\n",
       "      <td>0</td>\n",
       "      <td>0</td>\n",
       "      <td>0</td>\n",
       "      <td>0</td>\n",
       "      <td>0</td>\n",
       "      <td>0</td>\n",
       "      <td>0</td>\n",
       "      <td>0</td>\n",
       "      <td>0</td>\n",
       "    </tr>\n",
       "  </tbody>\n",
       "</table>\n",
       "<p>5 rows × 910 columns</p>\n",
       "</div>"
      ],
      "text/plain": [
       "   10  11  110  111  112  114  115  117  122  123 ...   v64  v65  v66  v67  \\\n",
       "0   0   0    0    0    0    0    0    0    0    0 ...     0    0    0    0   \n",
       "1   0   0    0    0    0    0    0    0    0    0 ...     0    0    0    0   \n",
       "2   0   0    0    0    0    0    0    0    0    0 ...     0    0    0    0   \n",
       "3   0   0    0    0    0    0    0    0    0    0 ...     0    0    0    0   \n",
       "4   0   0    0    0    0    0    0    0    0    0 ...     0    0    0    0   \n",
       "\n",
       "   v69  v70  v71  v72  v85  v86  \n",
       "0    0    0    0    0    0    0  \n",
       "1    0    0    0    0    0    0  \n",
       "2    0    0    0    0    0    0  \n",
       "3    0    0    0    0    0    0  \n",
       "4    0    0    0    0    0    0  \n",
       "\n",
       "[5 rows x 910 columns]"
      ]
     },
     "execution_count": 130,
     "metadata": {},
     "output_type": "execute_result"
    }
   ],
   "source": [
    "diag_all_vect.head()"
   ]
  },
  {
   "cell_type": "markdown",
   "metadata": {},
   "source": [
    ">> #### At some point I might want to convert these codes back into the names, so I saved the work I had done gathering those"
   ]
  },
  {
   "cell_type": "code",
   "execution_count": null,
   "metadata": {
    "collapsed": true
   },
   "outputs": [],
   "source": [
    "# diagnosis_code_to_name = {\n",
    "#     '250.13' : 'diabetes with ketoacidosis type 1',\n",
    "#     '250.6' : 'diabetes with neuropathy',\n",
    "#     '250.7' : 'diabetes with peripheral circulatory disorder',\n",
    "#     '250.8' : 'diabetes without complication',\n",
    "#     '276' : 'hyperosmolarity and or hypernatremia',\n",
    "#     '296' : 'bipolar disorder',\n",
    "#     '38' : 'septicemia',\n",
    "#     '410' : 'acute myocardial infarction',\n",
    "#     '414' : 'coronary atherosclerosis',\n",
    "#     '427' : 'paroxysmal supraventricular tachycardia',\n",
    "#     '428' : 'congestive heart failure',\n",
    "#     '434' : 'cerebral thrombosis without infarction',\n",
    "#     '435' : 'basilar artery syndrome',\n",
    "#     '486' : 'pneumonia',\n",
    "#     '491' : 'chronic bronchitis',\n",
    "#     '493' : 'asthma',\n",
    "#     '518' : 'pulmonary collapse',\n",
    "#     '560' : 'intussusception',\n",
    "#     '562' : 'diverticulosis',\n",
    "#     '574' : 'acute cholecystitis',\n",
    "#     '577' : 'acute pancreatitis',\n",
    "#     '584' : 'acute kidney failure',\n",
    "#     '599' : 'urinary tract infection',\n",
    "#     '682' : 'cellulitis and abscess',\n",
    "#     '715' : 'osteoarthrosis',\n",
    "#     '780' : 'coma',\n",
    "#     '786' : 'respiratory abnormality',\n",
    "#     '820' : 'fracture of femur',\n",
    "#     '996' : 'cardiac device complications',\n",
    "#     'V57' : 'physical therapy',\n",
    "#     '276' : 'hyperosmolarity and or hypernatremia',\n",
    "#     '428' : 'congestive heart failure',\n",
    "#     '41' : 'streptococcus infection',\n",
    "#     '427' : 'paroxysmal supraventricular tachycardia',\n",
    "#     '250' : 'diabetes without complication',\n",
    "#     '599' : 'urinary tract infection',\n",
    "#     '250.01' : 'diabetes type 1 without complication',\n",
    "#     '414' : 'coronary atherosclerosis',\n",
    "#     '250.02' : 'diabetes type 2 without complication',\n",
    "#     '272' : 'pure hypercholesterolemia',\n",
    "#     '584' : 'acute kidney failure',\n",
    "#     '491' : 'chronic bronchitis',\n",
    "#     '278' : 'obesity',\n",
    "#     '280' : 'iron deficiency anemia',\n",
    "#     '780' : 'coma',\n",
    "#     '285' : 'sideroblastic anemia',\n",
    "#     '682' : 'cellulitis and abscess',\n",
    "#     '486' : 'pneumonia',\n",
    "#     '518' : 'pulmonary collapse',\n",
    "#     '305' : 'nondependent alcohol abuse',\n",
    "#     '250.6' : 'diabetes with neuropathy',\n",
    "#     '493' : 'asthma',\n",
    "#     '786' : 'respiratory abnormality',\n",
    "#     '401' : 'malignant essential hypertension',\n",
    "#     '403' : 'hypertensive chronic kidney disease',\n",
    "#     '276' : 'hyperosmolarity and or hypernatremia',\n",
    "#     '428' : 'congestive heart failure',\n",
    "#     '427' : 'paroxysmal supraventricular tachycardia',\n",
    "#     '414' : 'coronary atherosclerosis',\n",
    "#     '411' : 'postmyocardial infarction syndrome',\n",
    "#     '413' : 'angina decubitus',\n",
    "#     '424' : 'mitral valve disorders',\n",
    "#     '599' : 'urinary tract infection',\n",
    "#     '425' : 'endomyocardial fibrosis',\n",
    "#     '496' : 'chronic obstructive pulmonary disease',\n",
    "#     '780' : 'coma',\n",
    "#     '530' : 'esophagitis',\n",
    "#     '585' : 'chronic kidney disease',\n",
    "#     '250.6' : 'diabetes with neuropathy',\n",
    "#     '584' : 'acute kidney failure',\n",
    "#     '707' : 'pressure ulcer',\n",
    "#     '682' : 'cellulitis and abscess',\n",
    "#     '518' : 'pulmonary collapse',\n",
    "#     '998' : 'postoperative shock',\n",
    "#     '493' : 'asthma',\n",
    "#     '?' : 'unknown',\n",
    "#     'V45' : 'post-surgical state cardiac device',\n",
    "#     '786' : 'respiratory abnormality'\n",
    "# }\n",
    "\n",
    "# def diag_is_listed(x):\n",
    "#     if x in diagnosis_code_to_name.keys():\n",
    "#         return diagnosis_code_to_name[x]\n",
    "#     else: \n",
    "#         return 'not identified'\n",
    "\n",
    "\n",
    "# ---- then apply below to the original dataframe ----\n",
    "\n",
    "# data.diagnosis1 = data.diag_1.apply(diag_is_listed)\n",
    "# data.diagnosis2 = data.diag_2.apply(diag_is_listed)\n",
    "# data.diagnosis3 = data.diag_3.apply(diag_is_listed)"
   ]
  },
  {
   "cell_type": "markdown",
   "metadata": {},
   "source": [
    "> ## TOTAL_NUMBER_DIAG was numeric \n",
    "- 48.62% of patients had 9 diagnoses \n",
    "- 90.44% of patients had between 5 and 9"
   ]
  },
  {
   "cell_type": "code",
   "execution_count": 132,
   "metadata": {
    "collapsed": false
   },
   "outputs": [
    {
     "data": {
      "text/plain": [
       "count    101766.000000\n",
       "mean          7.422607\n",
       "std           1.933600\n",
       "min           1.000000\n",
       "25%           6.000000\n",
       "50%           8.000000\n",
       "75%           9.000000\n",
       "max          16.000000\n",
       "Name: total_number_diag, dtype: float64"
      ]
     },
     "execution_count": 132,
     "metadata": {},
     "output_type": "execute_result"
    }
   ],
   "source": [
    "data.total_number_diag.describe()"
   ]
  },
  {
   "cell_type": "markdown",
   "metadata": {},
   "source": [
    "> ## MAX_BLOOD_GLUCOSE was categorical \n",
    "- 94.75% of patients had 'Unknown' \n",
    "- of those patients with values listed, about ::\n",
    "- - 1/2 were normal (max around 120)\n",
    "- - 1/4 each were hight at over 200 and 300"
   ]
  },
  {
   "cell_type": "code",
   "execution_count": 135,
   "metadata": {
    "collapsed": false
   },
   "outputs": [
    {
     "data": {
      "text/plain": [
       "None    96420\n",
       "Norm     2597\n",
       ">200     1485\n",
       ">300     1264\n",
       "Name: max_blood_glucose, dtype: int64"
      ]
     },
     "execution_count": 135,
     "metadata": {},
     "output_type": "execute_result"
    }
   ],
   "source": [
    "data.max_blood_glucose.value_counts()"
   ]
  },
  {
   "cell_type": "code",
   "execution_count": 136,
   "metadata": {
    "collapsed": true
   },
   "outputs": [],
   "source": [
    "to_replace_max_blood_glucose = {\n",
    "    'None' : 'Unknown',\n",
    "    'Norm' : 'Normal',\n",
    "    '>200' : 'over 200',\n",
    "    '>300' : 'over 300'}\n",
    "data['max_blood_glucose'] = data['max_blood_glucose'].apply(lambda x:to_replace_max_blood_glucose[x])"
   ]
  },
  {
   "cell_type": "code",
   "execution_count": 137,
   "metadata": {
    "collapsed": false
   },
   "outputs": [
    {
     "data": {
      "text/plain": [
       "Unknown     96420\n",
       "Normal       2597\n",
       "over 200     1485\n",
       "over 300     1264\n",
       "Name: max_blood_glucose, dtype: int64"
      ]
     },
     "execution_count": 137,
     "metadata": {},
     "output_type": "execute_result"
    }
   ],
   "source": [
    "data.max_blood_glucose.value_counts()"
   ]
  },
  {
   "cell_type": "code",
   "execution_count": 138,
   "metadata": {
    "collapsed": false
   },
   "outputs": [
    {
     "name": "stdout",
     "output_type": "stream",
     "text": [
      "Percentages for each category of max_blood_glucose:\n",
      "\n",
      "96420  were listed as Unknown, or  94.7467720064 % of the total.\n",
      "\n",
      "\n",
      "For the remaining  5346  patients with known max blood glucose values:\n",
      "\n",
      "2597  were listed as Normal, or  48.5783763562 % of the total.\n",
      "\n",
      "1485  were listed as High, at over 200, or  27.7777777778 % of the total.\n",
      "\n",
      "1264  were listed as High, at over 300, or  23.6438458661 % of the total.\n"
     ]
    }
   ],
   "source": [
    "print('Percentages for each category of max_blood_glucose:')\n",
    "print()\n",
    "\n",
    "print(data.max_blood_glucose[data.max_blood_glucose == 'Unknown'].count(),\n",
    "      ' were listed as Unknown, or ',\n",
    "      data.max_blood_glucose[data.max_blood_glucose == 'Unknown'].count() / data.max_blood_glucose.count() * 100,\n",
    "      '% of the total.'\n",
    "     )\n",
    "print()\n",
    "print()\n",
    "\n",
    "print('For the remaining ',\n",
    "      data.max_blood_glucose[data.max_blood_glucose != 'Unknown'].count(),\n",
    "      ' patients with known max blood glucose values:')\n",
    "print()\n",
    "\n",
    "print(data.max_blood_glucose[data.max_blood_glucose == 'Normal'].count(),\n",
    "      ' were listed as Normal, or ',\n",
    "      data.max_blood_glucose[data.max_blood_glucose == 'Normal'].count() / data.max_blood_glucose[data.max_blood_glucose != 'Unknown'].count() * 100,\n",
    "      '% of the total.'\n",
    "     )\n",
    "print()\n",
    "\n",
    "print(data.max_blood_glucose[data.max_blood_glucose == 'over 200'].count(),\n",
    "      ' were listed as High, at over 200, or ',\n",
    "      data.max_blood_glucose[data.max_blood_glucose == 'over 200'].count() /  data.max_blood_glucose[data.max_blood_glucose != 'Unknown'].count() * 100,\n",
    "      '% of the total.'\n",
    "     )\n",
    "print()\n",
    "\n",
    "print(data.max_blood_glucose[data.max_blood_glucose == 'over 300'].count(),\n",
    "      ' were listed as High, at over 300, or ',\n",
    "      data.max_blood_glucose[data.max_blood_glucose == 'over 300'].count() /  data.max_blood_glucose[data.max_blood_glucose != 'Unknown'].count() * 100,\n",
    "      '% of the total.'\n",
    "     )"
   ]
  },
  {
   "cell_type": "markdown",
   "metadata": {},
   "source": [
    "> ## A1C was categorical \n",
    "- 83.28% of patients had 'Unknown' values \n",
    "- Of patients with known values, about ::\n",
    "- - 50% were high at over 8%\n",
    "- - 30% were normal (under 6.4% is the cutoff for non-diabetic with normal at under 5.7%)\n",
    "- - the remaining 20% were high at over 7%"
   ]
  },
  {
   "cell_type": "code",
   "execution_count": 140,
   "metadata": {
    "collapsed": false
   },
   "outputs": [
    {
     "data": {
      "text/plain": [
       "None    84748\n",
       ">8       8216\n",
       "Norm     4990\n",
       ">7       3812\n",
       "Name: a1c, dtype: int64"
      ]
     },
     "execution_count": 140,
     "metadata": {},
     "output_type": "execute_result"
    }
   ],
   "source": [
    "data.a1c.value_counts()"
   ]
  },
  {
   "cell_type": "code",
   "execution_count": 141,
   "metadata": {
    "collapsed": true
   },
   "outputs": [],
   "source": [
    "to_replace_a1c = {\n",
    "    'None' : 'Unknown',\n",
    "    'Norm' : 'Normal',\n",
    "    '>7' : 'over 7',\n",
    "    '>8' : 'over 8'}\n",
    "data['a1c'] = data['a1c'].apply(lambda x:to_replace_a1c[x])"
   ]
  },
  {
   "cell_type": "code",
   "execution_count": 142,
   "metadata": {
    "collapsed": false
   },
   "outputs": [
    {
     "name": "stdout",
     "output_type": "stream",
     "text": [
      "Percentages for each category of hemoglobin A1c:\n",
      "\n",
      "84748  were listed as Unknown, or  83.2773224849 % of the total.\n",
      "\n",
      "\n",
      "For the remaining  17018  patients with known A1c values:\n",
      "\n",
      "4990  were listed as Normal, or  29.3218944647 % of the total.\n",
      "\n",
      "3812  were listed as High, at over 7, or  22.3998119638 % of the total.\n",
      "\n",
      "8216  were listed as High, at over 8, or  48.2782935715 % of the total.\n"
     ]
    }
   ],
   "source": [
    "print('Percentages for each category of hemoglobin A1c:')\n",
    "print()\n",
    "\n",
    "print(data.a1c[data.a1c == 'Unknown'].count(),\n",
    "      ' were listed as Unknown, or ',\n",
    "      data.a1c[data.a1c == 'Unknown'].count() / data.a1c.count() * 100,\n",
    "      '% of the total.'\n",
    "     )\n",
    "print()\n",
    "print()\n",
    "\n",
    "print('For the remaining ',\n",
    "      data.a1c[data.a1c != 'Unknown'].count(),\n",
    "      ' patients with known A1c values:')\n",
    "print()\n",
    "\n",
    "print(data.a1c[data.a1c == 'Normal'].count(),\n",
    "      ' were listed as Normal, or ',\n",
    "      data.a1c[data.a1c == 'Normal'].count() / data.a1c[data.a1c != 'Unknown'].count() * 100,\n",
    "      '% of the total.'\n",
    "     )\n",
    "print()\n",
    "\n",
    "print(data.a1c[data.a1c == 'over 7'].count(),\n",
    "      ' were listed as High, at over 7, or ',\n",
    "      data.a1c[data.a1c == 'over 7'].count() /  data.a1c[data.a1c != 'Unknown'].count() * 100,\n",
    "      '% of the total.'\n",
    "     )\n",
    "print()\n",
    "\n",
    "print(data.a1c[data.a1c == 'over 8'].count(),\n",
    "      ' were listed as High, at over 8, or ',\n",
    "      data.a1c[data.a1c == 'over 8'].count() /  data.a1c[data.a1c != 'Unknown'].count() * 100,\n",
    "      '% of the total.'\n",
    "     )"
   ]
  },
  {
   "cell_type": "markdown",
   "metadata": {},
   "source": [
    "> # ON_DIABETES_MEDS was a binary categorical\n",
    "- It's based on the features above\n",
    "- I made it boolean\n",
    "- 77.00% of patients were on diabetes medications"
   ]
  },
  {
   "cell_type": "code",
   "execution_count": 149,
   "metadata": {
    "collapsed": false
   },
   "outputs": [
    {
     "data": {
      "text/plain": [
       "Yes    78363\n",
       "No     23403\n",
       "Name: on_diabetes_meds, dtype: int64"
      ]
     },
     "execution_count": 149,
     "metadata": {},
     "output_type": "execute_result"
    }
   ],
   "source": [
    "data.on_diabetes_meds.value_counts()"
   ]
  },
  {
   "cell_type": "code",
   "execution_count": 150,
   "metadata": {
    "collapsed": true
   },
   "outputs": [],
   "source": [
    "to_replace_on_diabetes_meds = {\n",
    "    'Yes' : 0,\n",
    "    'No' : 1}\n",
    "data['on_diabetes_meds'] = data['on_diabetes_meds'].apply(lambda x: to_replace_on_diabetes_meds[x])"
   ]
  },
  {
   "cell_type": "code",
   "execution_count": 151,
   "metadata": {
    "collapsed": false,
    "scrolled": true
   },
   "outputs": [
    {
     "name": "stdout",
     "output_type": "stream",
     "text": [
      "77.0031248158 % were on diabetes medications\n",
      "22.9968751842 % were on diabetes medications\n"
     ]
    }
   ],
   "source": [
    "print(data.on_diabetes_meds[data.on_diabetes_meds == 0].count() / data.on_diabetes_meds.count() * 100,\n",
    "      '% were on diabetes medications')\n",
    "print(data.on_diabetes_meds[data.on_diabetes_meds == 1].count() / data.on_diabetes_meds.count() * 100,\n",
    "      '% were on diabetes medications') "
   ]
  },
  {
   "cell_type": "markdown",
   "metadata": {},
   "source": [
    "> # CHANGE (IN MEDICATIONS) was a binary categorical\n",
    "- I made it boolean\n",
    "- about half of patients had a change, but I could not determine what had changed; it could be meds, or something else"
   ]
  },
  {
   "cell_type": "code",
   "execution_count": 144,
   "metadata": {
    "collapsed": false
   },
   "outputs": [
    {
     "data": {
      "text/plain": [
       "No    54755\n",
       "Ch    47011\n",
       "Name: change, dtype: int64"
      ]
     },
     "execution_count": 144,
     "metadata": {},
     "output_type": "execute_result"
    }
   ],
   "source": [
    "data.change.value_counts()"
   ]
  },
  {
   "cell_type": "code",
   "execution_count": 145,
   "metadata": {
    "collapsed": true
   },
   "outputs": [],
   "source": [
    "to_replace_change = {\n",
    "    'No' : 0,\n",
    "    'Ch' : 1}\n",
    "data['change'] = data['change'].apply(lambda x: to_replace_change[x])"
   ]
  },
  {
   "cell_type": "code",
   "execution_count": 146,
   "metadata": {
    "collapsed": false,
    "scrolled": false
   },
   "outputs": [
    {
     "name": "stdout",
     "output_type": "stream",
     "text": [
      "53.8048071065 % had no change\n",
      "46.1951928935 % had a change\n"
     ]
    }
   ],
   "source": [
    "print(data.change[data.change == 0].count() / data.change.count() * 100,\n",
    "      '% had no change')\n",
    "print(data.change[data.change == 1].count() / data.change.count() * 100,\n",
    "      '% had a change') "
   ]
  },
  {
   "cell_type": "markdown",
   "metadata": {},
   "source": [
    "> # 23 MEDICATIONS are categorical\n",
    "- They all have the same coding for the categories, so I should be able to use a function to iterate the mapping over them \n",
    "- To make them numeric, but retain the meaning of the categories:\n",
    "- - unknown == 0\n",
    "- - decreased == 1\n",
    "- - steady == 2\n",
    "- - increased == 3"
   ]
  },
  {
   "cell_type": "code",
   "execution_count": null,
   "metadata": {
    "collapsed": true
   },
   "outputs": [],
   "source": [
    "# I'm still working on this, \n",
    "# but I want to make a function that will automate \n",
    "# the process of mapping these for each of the 23 medications\n",
    "\n",
    "# to_replace_med_changes = {\n",
    "#     'No' : 0,\n",
    "#     'Steady' : 2,\n",
    "#     'Up' : 3,\n",
    "#     'Down' : 1,\n",
    "# }\n",
    "\n",
    "# medications_list = [\n",
    "#     'data.metformin',\n",
    "#     'data.repaglinide',\n",
    "#     'data.nateglinide',\n",
    "#     'data.chlorpropamide',\n",
    "#     'data.glimepiride',\n",
    "#     'data.acetohexamide',\n",
    "#     'data.glipizide',\n",
    "#     'data.glyburide',\n",
    "#     'data.tolbutamide',\n",
    "#     'data.pioglitazone',\n",
    "#     'data.rosiglitazone',\n",
    "#     'data.acarbose',\n",
    "#     'data.miglitol',\n",
    "#     'data.troglitazone',\n",
    "#     'data.tolazamide',\n",
    "#     'data.examide',\n",
    "#     'data.citoglipton',\n",
    "#     'data.insulin',\n",
    "#     'data.glyburide_metformin',\n",
    "#     'data.glipizide_metformin',\n",
    "#     'data.glimepiride_pioglitazone',\n",
    "#     'data.metformin_rosiglitazone',\n",
    "#     'data.metformin_pioglitazone']\n",
    "\n",
    "# def x_listed_in_y(x, y):\n",
    "#     if x in y.keys():\n",
    "#         return y[x]\n",
    "#     else: \n",
    "#         return \"not in B's Keys\"\n",
    "\n",
    "\n",
    "# for each in medications_list: \n",
    "#     each = each.apply(x_listed_in_y(med_changes,medications_list))"
   ]
  },
  {
   "cell_type": "code",
   "execution_count": null,
   "metadata": {
    "collapsed": true
   },
   "outputs": [],
   "source": []
  },
  {
   "cell_type": "code",
   "execution_count": null,
   "metadata": {
    "collapsed": true
   },
   "outputs": [],
   "source": []
  },
  {
   "cell_type": "code",
   "execution_count": null,
   "metadata": {
    "collapsed": true
   },
   "outputs": [],
   "source": []
  },
  {
   "cell_type": "code",
   "execution_count": null,
   "metadata": {
    "collapsed": true
   },
   "outputs": [],
   "source": []
  },
  {
   "cell_type": "code",
   "execution_count": null,
   "metadata": {
    "collapsed": true
   },
   "outputs": [],
   "source": []
  },
  {
   "cell_type": "code",
   "execution_count": null,
   "metadata": {
    "collapsed": true
   },
   "outputs": [],
   "source": []
  },
  {
   "cell_type": "code",
   "execution_count": null,
   "metadata": {
    "collapsed": true
   },
   "outputs": [],
   "source": []
  },
  {
   "cell_type": "markdown",
   "metadata": {},
   "source": [
    "# VISUALIZATIONS\n",
    "- having trouble making subplots\n",
    "- goal is to have distribution of features alone and in relation to outcome"
   ]
  },
  {
   "cell_type": "markdown",
   "metadata": {},
   "source": [
    "# race"
   ]
  },
  {
   "cell_type": "code",
   "execution_count": 37,
   "metadata": {
    "collapsed": false
   },
   "outputs": [
    {
     "data": {
      "text/plain": [
       "<matplotlib.axes._subplots.AxesSubplot at 0x2afbbcdfda0>"
      ]
     },
     "execution_count": 37,
     "metadata": {},
     "output_type": "execute_result"
    },
    {
     "data": {
      "image/png": "[encoded data removed]",
      "text/plain": [
       "<matplotlib.figure.Figure at 0x2afbbce9c88>"
      ]
     },
     "metadata": {},
     "output_type": "display_data"
    }
   ],
   "source": [
    "data.race.value_counts().plot(kind = 'bar')"
   ]
  },
  {
   "cell_type": "markdown",
   "metadata": {},
   "source": [
    "# gender"
   ]
  },
  {
   "cell_type": "code",
   "execution_count": 38,
   "metadata": {
    "collapsed": false
   },
   "outputs": [
    {
     "data": {
      "text/plain": [
       "<matplotlib.axes._subplots.AxesSubplot at 0x2afbbe60a20>"
      ]
     },
     "execution_count": 38,
     "metadata": {},
     "output_type": "execute_result"
    },
    {
     "data": {
      "image/png": "[encoded data removed]",
      "text/plain": [
       "<matplotlib.figure.Figure at 0x2afbbe70ac8>"
      ]
     },
     "metadata": {},
     "output_type": "display_data"
    }
   ],
   "source": [
    "data.gender.value_counts().plot(kind = 'bar')"
   ]
  },
  {
   "cell_type": "markdown",
   "metadata": {},
   "source": [
    "## age"
   ]
  },
  {
   "cell_type": "code",
   "execution_count": 41,
   "metadata": {
    "collapsed": false
   },
   "outputs": [
    {
     "data": {
      "text/plain": [
       "<matplotlib.axes._subplots.AxesSubplot at 0x2afba511a90>"
      ]
     },
     "execution_count": 41,
     "metadata": {},
     "output_type": "execute_result"
    },
    {
     "data": {
      "image/png": "[encoded data removed]",
      "text/plain": [
       "<matplotlib.figure.Figure at 0x2afbbd8a5f8>"
      ]
     },
     "metadata": {},
     "output_type": "display_data"
    }
   ],
   "source": [
    "data.age.hist()"
   ]
  },
  {
   "cell_type": "markdown",
   "metadata": {},
   "source": [
    "## weight"
   ]
  },
  {
   "cell_type": "code",
   "execution_count": 46,
   "metadata": {
    "collapsed": false
   },
   "outputs": [
    {
     "data": {
      "text/plain": [
       "<matplotlib.axes._subplots.AxesSubplot at 0x2afba4a97f0>"
      ]
     },
     "execution_count": 46,
     "metadata": {},
     "output_type": "execute_result"
    },
    {
     "data": {
      "image/png": "[encoded data removed]",
      "text/plain": [
       "<matplotlib.figure.Figure at 0x2afbbde7c50>"
      ]
     },
     "metadata": {},
     "output_type": "display_data"
    }
   ],
   "source": [
    "data.weight[data.weight != 0].hist(bins = 30)"
   ]
  },
  {
   "cell_type": "markdown",
   "metadata": {},
   "source": [
    "## discharged to location"
   ]
  },
  {
   "cell_type": "code",
   "execution_count": 60,
   "metadata": {
    "collapsed": false
   },
   "outputs": [
    {
     "data": {
      "text/plain": [
       "<matplotlib.axes._subplots.AxesSubplot at 0x2afbbf04780>"
      ]
     },
     "execution_count": 60,
     "metadata": {},
     "output_type": "execute_result"
    },
    {
     "data": {
      "image/png": "[encoded data removed]",
      "text/plain": [
       "<matplotlib.figure.Figure at 0x2afbbcc2d68>"
      ]
     },
     "metadata": {},
     "output_type": "display_data"
    }
   ],
   "source": [
    "data.discharged_to_location.value_counts().plot(kind = 'bar')"
   ]
  },
  {
   "cell_type": "markdown",
   "metadata": {},
   "source": [
    "## admission source aggregated"
   ]
  },
  {
   "cell_type": "code",
   "execution_count": 63,
   "metadata": {
    "collapsed": false
   },
   "outputs": [
    {
     "data": {
      "text/plain": [
       "<matplotlib.axes._subplots.AxesSubplot at 0x2afbbccf2b0>"
      ]
     },
     "execution_count": 63,
     "metadata": {},
     "output_type": "execute_result"
    },
    {
     "data": {
      "image/png": "[encoded data removed]",
      "text/plain": [
       "<matplotlib.figure.Figure at 0x2afbbb01c18>"
      ]
     },
     "metadata": {},
     "output_type": "display_data"
    }
   ],
   "source": [
    "data.admission_source_aggregated.value_counts().plot(kind = 'bar')"
   ]
  },
  {
   "cell_type": "markdown",
   "metadata": {},
   "source": [
    "## days in hospital"
   ]
  },
  {
   "cell_type": "code",
   "execution_count": 66,
   "metadata": {
    "collapsed": false
   },
   "outputs": [
    {
     "data": {
      "text/plain": [
       "<matplotlib.axes._subplots.AxesSubplot at 0x2afbb8f33c8>"
      ]
     },
     "execution_count": 66,
     "metadata": {},
     "output_type": "execute_result"
    },
    {
     "data": {
      "image/png": "[encoded data removed]",
      "text/plain": [
       "<matplotlib.figure.Figure at 0x2afbb472b70>"
      ]
     },
     "metadata": {},
     "output_type": "display_data"
    }
   ],
   "source": [
    "data.days_in_hospital.hist(bins = 30)"
   ]
  },
  {
   "cell_type": "markdown",
   "metadata": {},
   "source": [
    "## payor code"
   ]
  },
  {
   "cell_type": "code",
   "execution_count": 71,
   "metadata": {
    "collapsed": false
   },
   "outputs": [
    {
     "data": {
      "text/plain": [
       "<matplotlib.axes._subplots.AxesSubplot at 0x2afbd89a1d0>"
      ]
     },
     "execution_count": 71,
     "metadata": {},
     "output_type": "execute_result"
    },
    {
     "data": {
      "image/png": "[encoded data removed]",
      "text/plain": [
       "<matplotlib.figure.Figure at 0x2afbd897908>"
      ]
     },
     "metadata": {},
     "output_type": "display_data"
    }
   ],
   "source": [
    "data.payor_code.value_counts().plot(kind = 'bar')"
   ]
  },
  {
   "cell_type": "markdown",
   "metadata": {},
   "source": [
    "## number of labs"
   ]
  },
  {
   "cell_type": "code",
   "execution_count": 81,
   "metadata": {
    "collapsed": false
   },
   "outputs": [
    {
     "data": {
      "text/plain": [
       "<matplotlib.axes._subplots.AxesSubplot at 0x2afbea87710>"
      ]
     },
     "execution_count": 81,
     "metadata": {},
     "output_type": "execute_result"
    },
    {
     "data": {
      "image/png": "[encoded data removed]",
      "text/plain": [
       "<matplotlib.figure.Figure at 0x2afbea875f8>"
      ]
     },
     "metadata": {},
     "output_type": "display_data"
    }
   ],
   "source": [
    "data.number_labs.hist(bins = 40)"
   ]
  },
  {
   "cell_type": "markdown",
   "metadata": {},
   "source": [
    "## number of procedures"
   ]
  },
  {
   "cell_type": "code",
   "execution_count": 94,
   "metadata": {
    "collapsed": false
   },
   "outputs": [
    {
     "data": {
      "text/plain": [
       "<matplotlib.axes._subplots.AxesSubplot at 0x2afbec6f6a0>"
      ]
     },
     "execution_count": 94,
     "metadata": {},
     "output_type": "execute_result"
    },
    {
     "data": {
      "image/png": "[encoded data removed]",
      "text/plain": [
       "<matplotlib.figure.Figure at 0x2afbec9ffd0>"
      ]
     },
     "metadata": {},
     "output_type": "display_data"
    }
   ],
   "source": [
    "data.number_procedures.hist(bins=20)"
   ]
  },
  {
   "cell_type": "markdown",
   "metadata": {},
   "source": [
    "## number of meds"
   ]
  },
  {
   "cell_type": "code",
   "execution_count": 97,
   "metadata": {
    "collapsed": false
   },
   "outputs": [
    {
     "data": {
      "text/plain": [
       "<matplotlib.axes._subplots.AxesSubplot at 0x2afbbf33eb8>"
      ]
     },
     "execution_count": 97,
     "metadata": {},
     "output_type": "execute_result"
    },
    {
     "data": {
      "image/png": "[encoded data removed]",
      "text/plain": [
       "<matplotlib.figure.Figure at 0x2afbbce9f28>"
      ]
     },
     "metadata": {},
     "output_type": "display_data"
    }
   ],
   "source": [
    "data.number_meds.hist(bins = 40)"
   ]
  },
  {
   "cell_type": "markdown",
   "metadata": {},
   "source": [
    "## outpatient visits (at a clinic office, not admitted into the hospital)"
   ]
  },
  {
   "cell_type": "code",
   "execution_count": 105,
   "metadata": {
    "collapsed": false
   },
   "outputs": [
    {
     "data": {
      "text/plain": [
       "<matplotlib.axes._subplots.AxesSubplot at 0x2afbbd07d30>"
      ]
     },
     "execution_count": 105,
     "metadata": {},
     "output_type": "execute_result"
    },
    {
     "data": {
      "image/png": "[encoded data removed]",
      "text/plain": [
       "<matplotlib.figure.Figure at 0x2afbeda6ac8>"
      ]
     },
     "metadata": {},
     "output_type": "display_data"
    }
   ],
   "source": [
    "data.number_outpatient.value_counts().head(20).plot(kind = 'bar')"
   ]
  },
  {
   "cell_type": "markdown",
   "metadata": {},
   "source": [
    "## number of emergency visits (except none)"
   ]
  },
  {
   "cell_type": "code",
   "execution_count": 108,
   "metadata": {
    "collapsed": false
   },
   "outputs": [
    {
     "data": {
      "text/plain": [
       "<matplotlib.axes._subplots.AxesSubplot at 0x2afbd0b8a20>"
      ]
     },
     "execution_count": 108,
     "metadata": {},
     "output_type": "execute_result"
    },
    {
     "data": {
      "image/png": "[encoded data removed]",
      "text/plain": [
       "<matplotlib.figure.Figure at 0x2afbd0b1cc0>"
      ]
     },
     "metadata": {},
     "output_type": "display_data"
    }
   ],
   "source": [
    "data.number_emergency[data.number_emergency != 0].value_counts().head(10).plot(kind = 'bar')"
   ]
  },
  {
   "cell_type": "markdown",
   "metadata": {},
   "source": [
    "## number of inpatient stays (hospital admissions)"
   ]
  },
  {
   "cell_type": "code",
   "execution_count": 111,
   "metadata": {
    "collapsed": false
   },
   "outputs": [
    {
     "data": {
      "text/plain": [
       "<matplotlib.axes._subplots.AxesSubplot at 0x2afbd10c240>"
      ]
     },
     "execution_count": 111,
     "metadata": {},
     "output_type": "execute_result"
    },
    {
     "data": {
      "image/png": "[encoded data removed]",
      "text/plain": [
       "<matplotlib.figure.Figure at 0x2afbd113da0>"
      ]
     },
     "metadata": {},
     "output_type": "display_data"
    }
   ],
   "source": [
    "data.number_inpatient.value_counts().head().plot(kind = 'bar')"
   ]
  },
  {
   "cell_type": "markdown",
   "metadata": {},
   "source": [
    "## total number of diagnoses"
   ]
  },
  {
   "cell_type": "code",
   "execution_count": 134,
   "metadata": {
    "collapsed": false
   },
   "outputs": [
    {
     "data": {
      "text/plain": [
       "<matplotlib.axes._subplots.AxesSubplot at 0x2afbf8cc630>"
      ]
     },
     "execution_count": 134,
     "metadata": {},
     "output_type": "execute_result"
    },
    {
     "data": {
      "image/png": "[encoded data removed]",
      "text/plain": [
       "<matplotlib.figure.Figure at 0x2afbf97da58>"
      ]
     },
     "metadata": {},
     "output_type": "display_data"
    }
   ],
   "source": [
    "data.total_number_diag[data.total_number_diag < 9].hist(bins = 20)"
   ]
  },
  {
   "cell_type": "markdown",
   "metadata": {},
   "source": [
    "## max blood glucose level (normal is normally considered between 80 - 120)\n"
   ]
  },
  {
   "cell_type": "code",
   "execution_count": 139,
   "metadata": {
    "collapsed": false,
    "scrolled": true
   },
   "outputs": [
    {
     "data": {
      "text/plain": [
       "<matplotlib.axes._subplots.AxesSubplot at 0x2afbf97dcc0>"
      ]
     },
     "execution_count": 139,
     "metadata": {},
     "output_type": "execute_result"
    },
    {
     "data": {
      "image/png": "[encoded data removed]",
      "text/plain": [
       "<matplotlib.figure.Figure at 0x2afba4c1b70>"
      ]
     },
     "metadata": {},
     "output_type": "display_data"
    }
   ],
   "source": [
    "data.max_blood_glucose[data.max_blood_glucose != 'Unknown'].value_counts().plot(kind = 'bar')"
   ]
  },
  {
   "cell_type": "markdown",
   "metadata": {},
   "source": [
    "## A1c == hemoglobin A1c, which is a way to measure average blood glucose levels over a 3-month period\n",
    "## For a patient with diabetes, the goal is to maintain below 7"
   ]
  },
  {
   "cell_type": "code",
   "execution_count": 143,
   "metadata": {
    "collapsed": false
   },
   "outputs": [
    {
     "data": {
      "text/plain": [
       "<matplotlib.axes._subplots.AxesSubplot at 0x2afbf171668>"
      ]
     },
     "execution_count": 143,
     "metadata": {},
     "output_type": "execute_result"
    },
    {
     "data": {
      "image/png": "[encoded data removed]",
      "text/plain": [
       "<matplotlib.figure.Figure at 0x2afba523668>"
      ]
     },
     "metadata": {},
     "output_type": "display_data"
    }
   ],
   "source": [
    "data.a1c[data.a1c != 'Unknown'].value_counts().plot(kind = 'bar')"
   ]
  },
  {
   "cell_type": "markdown",
   "metadata": {},
   "source": [
    "## on diabetes meds (based on the 23 meds listed)\n"
   ]
  },
  {
   "cell_type": "code",
   "execution_count": 152,
   "metadata": {
    "collapsed": false,
    "scrolled": true
   },
   "outputs": [
    {
     "data": {
      "text/plain": [
       "<matplotlib.axes._subplots.AxesSubplot at 0x2afbd540cc0>"
      ]
     },
     "execution_count": 152,
     "metadata": {},
     "output_type": "execute_result"
    },
    {
     "data": {
      "image/png": "[encoded data removed]",
      "text/plain": [
       "<matplotlib.figure.Figure at 0x2afbd544cc0>"
      ]
     },
     "metadata": {},
     "output_type": "display_data"
    }
   ],
   "source": [
    "data.on_diabetes_meds.value_counts().plot(kind = 'bar')"
   ]
  },
  {
   "cell_type": "markdown",
   "metadata": {},
   "source": [
    "## change (in medications)"
   ]
  },
  {
   "cell_type": "code",
   "execution_count": 147,
   "metadata": {
    "collapsed": false
   },
   "outputs": [
    {
     "data": {
      "text/plain": [
       "<matplotlib.axes._subplots.AxesSubplot at 0x2afbd4c5f98>"
      ]
     },
     "execution_count": 147,
     "metadata": {},
     "output_type": "execute_result"
    },
    {
     "data": {
      "image/png": "[encoded data removed]",
      "text/plain": [
       "<matplotlib.figure.Figure at 0x2afba510a58>"
      ]
     },
     "metadata": {},
     "output_type": "display_data"
    }
   ],
   "source": [
    "data.change.value_counts().plot(kind = 'bar')"
   ]
  },
  {
   "cell_type": "code",
   "execution_count": null,
   "metadata": {
    "collapsed": true
   },
   "outputs": [],
   "source": []
  },
  {
   "cell_type": "code",
   "execution_count": null,
   "metadata": {
    "collapsed": true
   },
   "outputs": [],
   "source": []
  }
 ],
 "metadata": {
  "anaconda-cloud": {},
  "kernelspec": {
   "display_name": "Python [Root]",
   "language": "python",
   "name": "Python [Root]"
  },
  "language_info": {
   "codemirror_mode": {
    "name": "ipython",
    "version": 3
   },
   "file_extension": ".py",
   "mimetype": "text/x-python",
   "name": "python",
   "nbconvert_exporter": "python",
   "pygments_lexer": "ipython3",
   "version": "3.5.2"
  }
 },
 "nbformat": 4,
 "nbformat_minor": 0
}
