{
 "cells": [
  {
   "cell_type": "markdown",
   "metadata": {},
   "source": [
    "################################################################################################################\n",
    "# How ISIS Uses Twitter #\n",
    "################################################################################################################\n",
    "\n",
    "## DESCRIPTION :: Analyze how ISIS fanboys have been using Twitter since 2015 Paris Attacks\n",
    "\n",
    "We scraped over 17,000 tweets from 100+ pro-ISIS fanboys from all over the world since the November 2015 Paris Attacks. We are working with content producers and influencers to develop effective counter-messaging measures against violent extremists at home and abroad. In order to maximize our impact, we need assistance in quickly analyzing message frames.\n",
    "\n",
    "The dataset includes the following:\n",
    "\n",
    "- Name\n",
    "- Username\n",
    "- Description\n",
    "- Location\n",
    "- Number of followers at the time the tweet was downloaded\n",
    "- Number of statuses by the user when the tweet was downloaded\n",
    "- Date and timestamp of the tweet\n",
    "- The tweet itself\n",
    "\n",
    "\n",
    "Based on this data, here are some useful ways of deriving insights and analysis:\n",
    "\n",
    "- Social Network Cluster Analysis: \n",
    "- - Who are the major players in the pro-ISIS twitter network? Ideally, we would like this visualized via a cluster network with the biggest influencers scaled larger than smaller influencers.\n",
    "\n",
    "- Keyword Analysis: \n",
    "- - Which keywords derived from the name, username, description, location, and tweets were the most commonly used by ISIS fanboys? Examples include: \"baqiyah\", \"dabiq\", \"wilayat\", \"amaq\"\n",
    "\n",
    "- Data Categorization of Links: \n",
    "- - Which websites are pro-ISIS fanboys linking to? Categories include: Mainstream Media, Altermedia, Jihadist Websites, Image Upload, Video Upload,\n",
    "\n",
    "- Sentiment Analysis: \n",
    "- - Which clergy do pro-ISIS fanboys quote the most and which ones do they hate the most? Search the tweets for names of prominent clergy and classify the tweet as positive, negative, or neutral and if negative, include the reasons why. Examples of clergy they like the most: \"Anwar Awlaki\", \"Ahmad Jibril\", \"Ibn Taymiyyah\", \"Abdul Wahhab\". Examples of clergy that they hate the most: \"Hamza Yusuf\", \"Suhaib Webb\", \"Yaser Qadhi\", \"Nouman Ali Khan\", \"Yaqoubi\".\n",
    "\n",
    "- Timeline View: \n",
    "- - Visualize all the tweets over a timeline and identify peak moments\n",
    "\n",
    "\n",
    "Further Reading: \"ISIS Has a Twitter Strategy and It is Terrifying [Infographic]\"\n",
    "\n",
    "https://medium.com/fifth-tribe-stories/isis-has-a-twitter-strategy-and-it-is-terrifying-7cc059ccf51b#.m3zeluykl\n",
    "\n",
    "\n",
    "## SOURCE :: KAGGLE\n",
    "\n",
    "### https://www.kaggle.com/kzaman/how-isis-uses-twitter\n",
    "\n",
    "## WHY I'M INTERESTED / MY DOMAIN EXPERTISE\n",
    "\n",
    "My undergraduate degree is in Foreign Affairs, focus was the Middle East, and I took 3 semesters of Arabic.  I lost interest in actually working in politics, but I am still concerned about the power balances at play and how they can affect everyone else in the world.  There are also sillier reasons:\n",
    "- I don't use twitter, so I'm curious why anyone else does\n",
    "- Lots of people use twitter to make business connections or do marketing work through it, so it's not just used for ranting\n",
    "- People say the Egyptian Arab Spring was facilitated by twitter; what do people share there?\n",
    "- Since tweets are real-time, do any spikes happen from the news?\n",
    "\n",
    "## WHAT I'M HOPING TO GAIN FROM THIS\n",
    "- Experience with a messy data set\n",
    "- Natural Language Processing experience\n",
    "- Maybe there's a training-test option with this data set compared to one gathered with the twitter API calling for these usernames"
   ]
  },
  {
   "cell_type": "markdown",
   "metadata": {},
   "source": [
    " "
   ]
  },
  {
   "cell_type": "markdown",
   "metadata": {},
   "source": [
    " "
   ]
  },
  {
   "cell_type": "markdown",
   "metadata": {},
   "source": [
    " "
   ]
  },
  {
   "cell_type": "markdown",
   "metadata": {},
   "source": [
    " "
   ]
  },
  {
   "cell_type": "markdown",
   "metadata": {},
   "source": [
    " "
   ]
  },
  {
   "cell_type": "markdown",
   "metadata": {},
   "source": [
    "> # IMPORT PACKAGES"
   ]
  },
  {
   "cell_type": "code",
   "execution_count": 1,
   "metadata": {
    "collapsed": true
   },
   "outputs": [],
   "source": [
    "import pandas as pd\n",
    "import numpy as np\n",
    "import scipy as sppip\n",
    "from sklearn.cross_validation import train_test_split, cross_val_score\n",
    "from sklearn.feature_extraction.text import CountVectorizer, TfidfVectorizer\n",
    "from sklearn.linear_model import LogisticRegression\n",
    "from sklearn import metrics\n",
    "import re\n",
    "from textblob import TextBlob, Word\n",
    "from nltk.stem.snowball import SnowballStemmer\n",
    "import matplotlib.pyplot as plt\n",
    "%matplotlib inline\n",
    "import seaborn as sns"
   ]
  },
  {
   "cell_type": "markdown",
   "metadata": {},
   "source": [
    "> # IMPORT DATA"
   ]
  },
  {
   "cell_type": "code",
   "execution_count": 2,
   "metadata": {
    "collapsed": false
   },
   "outputs": [
    {
     "data": {
      "text/plain": [
       "(17410, 8)"
      ]
     },
     "execution_count": 2,
     "metadata": {},
     "output_type": "execute_result"
    }
   ],
   "source": [
    "data = pd.read_csv('http://localhost:8888/files/PROJECT%20-%20BBURKART/DATA/isis.csv')\n",
    "data.shape"
   ]
  },
  {
   "cell_type": "markdown",
   "metadata": {},
   "source": [
    "### overview"
   ]
  },
  {
   "cell_type": "code",
   "execution_count": 3,
   "metadata": {
    "collapsed": false
   },
   "outputs": [
    {
     "name": "stdout",
     "output_type": "stream",
     "text": [
      "<class 'pandas.core.frame.DataFrame'>\n",
      "RangeIndex: 17410 entries, 0 to 17409\n",
      "Data columns (total 8 columns):\n",
      "name              17410 non-null object\n",
      "username          17410 non-null object\n",
      "description       14728 non-null object\n",
      "location          11432 non-null object\n",
      "followers         17410 non-null int64\n",
      "numberstatuses    17410 non-null int64\n",
      "time              17410 non-null object\n",
      "tweets            17410 non-null object\n",
      "dtypes: int64(2), object(6)\n",
      "memory usage: 1.1+ MB\n"
     ]
    },
    {
     "data": {
      "text/plain": [
       "name                 0\n",
       "username             0\n",
       "description       2682\n",
       "location          5978\n",
       "followers            0\n",
       "numberstatuses       0\n",
       "time                 0\n",
       "tweets               0\n",
       "dtype: int64"
      ]
     },
     "execution_count": 3,
     "metadata": {},
     "output_type": "execute_result"
    }
   ],
   "source": [
    "data.info()\n",
    "data.isnull().sum()"
   ]
  },
  {
   "cell_type": "markdown",
   "metadata": {},
   "source": [
    "### first look"
   ]
  },
  {
   "cell_type": "code",
   "execution_count": 4,
   "metadata": {
    "collapsed": false,
    "scrolled": true
   },
   "outputs": [
    {
     "data": {
      "text/html": [
       "<div>\n",
       "<table border=\"1\" class=\"dataframe\">\n",
       "  <thead>\n",
       "    <tr style=\"text-align: right;\">\n",
       "      <th></th>\n",
       "      <th>name</th>\n",
       "      <th>username</th>\n",
       "      <th>description</th>\n",
       "      <th>location</th>\n",
       "      <th>followers</th>\n",
       "      <th>numberstatuses</th>\n",
       "      <th>time</th>\n",
       "      <th>tweets</th>\n",
       "    </tr>\n",
       "  </thead>\n",
       "  <tbody>\n",
       "    <tr>\n",
       "      <th>0</th>\n",
       "      <td>GunsandCoffee</td>\n",
       "      <td>GunsandCoffee70</td>\n",
       "      <td>ENGLISH TRANSLATIONS: http://t.co/QLdJ0ftews</td>\n",
       "      <td>NaN</td>\n",
       "      <td>640</td>\n",
       "      <td>49</td>\n",
       "      <td>1/6/2015 21:07</td>\n",
       "      <td>ENGLISH TRANSLATION: 'A MESSAGE TO THE TRUTHFU...</td>\n",
       "    </tr>\n",
       "    <tr>\n",
       "      <th>1</th>\n",
       "      <td>GunsandCoffee</td>\n",
       "      <td>GunsandCoffee70</td>\n",
       "      <td>ENGLISH TRANSLATIONS: http://t.co/QLdJ0ftews</td>\n",
       "      <td>NaN</td>\n",
       "      <td>640</td>\n",
       "      <td>49</td>\n",
       "      <td>1/6/2015 21:27</td>\n",
       "      <td>ENGLISH TRANSLATION: SHEIKH FATIH AL JAWLANI '...</td>\n",
       "    </tr>\n",
       "    <tr>\n",
       "      <th>2</th>\n",
       "      <td>GunsandCoffee</td>\n",
       "      <td>GunsandCoffee70</td>\n",
       "      <td>ENGLISH TRANSLATIONS: http://t.co/QLdJ0ftews</td>\n",
       "      <td>NaN</td>\n",
       "      <td>640</td>\n",
       "      <td>49</td>\n",
       "      <td>1/6/2015 21:29</td>\n",
       "      <td>ENGLISH TRANSLATION: FIRST AUDIO MEETING WITH ...</td>\n",
       "    </tr>\n",
       "    <tr>\n",
       "      <th>3</th>\n",
       "      <td>GunsandCoffee</td>\n",
       "      <td>GunsandCoffee70</td>\n",
       "      <td>ENGLISH TRANSLATIONS: http://t.co/QLdJ0ftews</td>\n",
       "      <td>NaN</td>\n",
       "      <td>640</td>\n",
       "      <td>49</td>\n",
       "      <td>1/6/2015 21:37</td>\n",
       "      <td>ENGLISH TRANSLATION: SHEIKH NASIR AL WUHAYSHI ...</td>\n",
       "    </tr>\n",
       "    <tr>\n",
       "      <th>4</th>\n",
       "      <td>GunsandCoffee</td>\n",
       "      <td>GunsandCoffee70</td>\n",
       "      <td>ENGLISH TRANSLATIONS: http://t.co/QLdJ0ftews</td>\n",
       "      <td>NaN</td>\n",
       "      <td>640</td>\n",
       "      <td>49</td>\n",
       "      <td>1/6/2015 21:45</td>\n",
       "      <td>ENGLISH TRANSLATION: AQAP: 'RESPONSE TO SHEIKH...</td>\n",
       "    </tr>\n",
       "  </tbody>\n",
       "</table>\n",
       "</div>"
      ],
      "text/plain": [
       "            name         username  \\\n",
       "0  GunsandCoffee  GunsandCoffee70   \n",
       "1  GunsandCoffee  GunsandCoffee70   \n",
       "2  GunsandCoffee  GunsandCoffee70   \n",
       "3  GunsandCoffee  GunsandCoffee70   \n",
       "4  GunsandCoffee  GunsandCoffee70   \n",
       "\n",
       "                                    description location  followers  \\\n",
       "0  ENGLISH TRANSLATIONS: http://t.co/QLdJ0ftews      NaN        640   \n",
       "1  ENGLISH TRANSLATIONS: http://t.co/QLdJ0ftews      NaN        640   \n",
       "2  ENGLISH TRANSLATIONS: http://t.co/QLdJ0ftews      NaN        640   \n",
       "3  ENGLISH TRANSLATIONS: http://t.co/QLdJ0ftews      NaN        640   \n",
       "4  ENGLISH TRANSLATIONS: http://t.co/QLdJ0ftews      NaN        640   \n",
       "\n",
       "   numberstatuses            time  \\\n",
       "0              49  1/6/2015 21:07   \n",
       "1              49  1/6/2015 21:27   \n",
       "2              49  1/6/2015 21:29   \n",
       "3              49  1/6/2015 21:37   \n",
       "4              49  1/6/2015 21:45   \n",
       "\n",
       "                                              tweets  \n",
       "0  ENGLISH TRANSLATION: 'A MESSAGE TO THE TRUTHFU...  \n",
       "1  ENGLISH TRANSLATION: SHEIKH FATIH AL JAWLANI '...  \n",
       "2  ENGLISH TRANSLATION: FIRST AUDIO MEETING WITH ...  \n",
       "3  ENGLISH TRANSLATION: SHEIKH NASIR AL WUHAYSHI ...  \n",
       "4  ENGLISH TRANSLATION: AQAP: 'RESPONSE TO SHEIKH...  "
      ]
     },
     "execution_count": 4,
     "metadata": {},
     "output_type": "execute_result"
    }
   ],
   "source": [
    "data.head()"
   ]
  },
  {
   "cell_type": "markdown",
   "metadata": {},
   "source": [
    "> # CLEANING"
   ]
  },
  {
   "cell_type": "code",
   "execution_count": 9,
   "metadata": {
    "collapsed": false
   },
   "outputs": [
    {
     "data": {
      "text/plain": [
       "0         'A MESSAGE TO THE TRUTHFUL IN SYRIA - SHEIKH ...\n",
       "1         SHEIKH FATIH AL JAWLANI 'FOR THE PEOPLE OF IN...\n",
       "2         FIRST AUDIO MEETING WITH SHEIKH FATIH AL JAWL...\n",
       "3         SHEIKH NASIR AL WUHAYSHI (HA), LEADER OF AQAP...\n",
       "4         AQAP: 'RESPONSE TO SHEIKH BAGHDADIS STATEMENT...\n",
       "5        THE SECOND CLIP IN A DA'WAH SERIES BY A SOLDIE...\n",
       "6        ENGLISH TRANSCRIPT : OH MURABIT! : http://t.co...\n",
       "7         'A COLLECTION OF THE WORDS OF THE U'LAMA REGA...\n",
       "8        Aslm Please share our new account after the pr...\n",
       "9         AQAP STATEMENT REGARDING THE BLESSED RAID IN ...\n",
       "10       @KhalidMaghrebi @seifulmaslul123 @CheerLeadUni...\n",
       "11       NEW LINK, AFTER PREVIOUS ONE TAKEN DOWN:AQAP-'...\n",
       "12       ENGLISH TRANSLATION- SHEIKH ABU HASAN AL KUWAI...\n",
       "13       SHEIKH ABU HASSAN AL KUWAITI (HA): ADVICE OF N...\n",
       "14       @IbnNabih1 @MuwMedia @Dawlat_islam7 Not transl...\n",
       "15       Aslm, anybody translating the new JN video? Wi...\n",
       "16       @IbnNabih1 @KhalidMaghrebi_ @MuwMedia @Polder_...\n",
       "17       @IbnNabih1 @abuw_ukasyah @polder_mujaahid @Abu...\n",
       "18       @AbdirahmanBash2 @KhalidMaghrebi_ @IbnNabih1 @...\n",
       "19       @AbdirahmanBash2 @KhalidMaghrebi_ @IbnNabih1 @...\n",
       "20       @AbdirahmanBash2 @KhalidMaghrebi_ @IbnNabih1 @...\n",
       "21       NEW links for #JN Video - ENG Subs: The Path o...\n",
       "22       DOWNLOAD #JN Video With English Subtitles: The...\n",
       "23       Video by @ansardeenfront with Eng Subtitles: '...\n",
       "24        A Pamphlet Released By #JN Regarding #IS \\nGr...\n",
       "25       Aslm, anybody translating the new audio of She...\n",
       "26       @abuhamzaneh @50W30 @JN_Irhabiyya_97 @Aba_M0ha...\n",
       "27       RT @GIIMedia_CH004: Rules Of Imarah Part2 - Co...\n",
       "28        Dialogue with Sheikh Tartoosi Part 2 \\n http:...\n",
       "29       ‍‌‌‌‌‍‌‌‌🔻‌‌[ الإثنين  1436/9/19 هـ ]‍‌‌‌‌‍‍‍‍...\n",
       "                               ...                        \n",
       "17380    RT @_The_Hikmah_: #IbnAlQayyim #Allah Ta`Aala\\...\n",
       "17381    Local Source: Daily and Heavy Clashes between ...\n",
       "17382    #Breaking\\n#IslamicState \\n\\n#Fallujah \\n#Euro...\n",
       "17383    HUGE\\n\\nAt least 300 Irani IRCG Soldiers were ...\n",
       "17384    RT @anti_shirkkkk: \"A single expedition in the...\n",
       "17385    #Breaking\\n#IslamicState Forces assault Iraqi ...\n",
       "17386    RT @PalmyraPioneer: These images of the massac...\n",
       "17387    @MehdiTh2 @_Darmouss @PeigneACheveux j'aimerai...\n",
       "17388    3 Martyrdom bombers detonate their Xplosive be...\n",
       "17389    @_Darmouss une légende de twitter, il a rejoin...\n",
       "17390    #Breaking \\n#IslamicState \\n  || 3 Martydom bo...\n",
       "17391    @HadjSarrasins pas mal ce tweet toi aussi tu v...\n",
       "17392    RT @HadjSarrasins: Mais qui a envie d'entendre...\n",
       "17393    #AmaqAgency so far 9 Iraqi hummers, an autocan...\n",
       "17394    RT @RamiAlLolah: #Exclusive Photo: #Hezbollah ...\n",
       "17395    According to the SOHR, JAN is responsible of t...\n",
       "17396    Notice that the fighter who trample the bodies...\n",
       "17397    The local commander of Ahrar Al Sham appears i...\n",
       "17398    RT @SimNasr: #Syria: Who was Mustapha #Badredd...\n",
       "17399    RT @SimNasr: Erratum shiaa Afghan fighters who...\n",
       "17400    RT @jdanteff: Aamaq footage:\\nDestruction of I...\n",
       "17401    Heavy battles going on in Al Karmah northeast ...\n",
       "17402    \"Is the Islamic State trying  to draw Turkey i...\n",
       "17403    9 Hummers an autocannon and a field artillery ...\n",
       "17404    #LT Notice that this possible strategy was men...\n",
       "17405    #Breaking\\n#IslamicState \\n#AmaqAgency \\n\\n#Fr...\n",
       "17406    #Breaking\\n\\n Iraqi forces bulldozer destroyed...\n",
       "17407    #Breaking \\n#AmaqAgency \\n#IslamicState \\n\\n#E...\n",
       "17408    #PhotoReport \\n#WilayatDimasiqh \\n\\n📷The Condu...\n",
       "17409    #AmaqAgency Destroyed and burning Iraqi Forces...\n",
       "Name: tweet, dtype: object"
      ]
     },
     "execution_count": 9,
     "metadata": {},
     "output_type": "execute_result"
    }
   ],
   "source": [
    "# first, change [this douche bag]'s username to 'this douche bag'\n",
    "data['username'] = data['username'].replace('````````````````````````````````````````````````````````````````````````````````````````````````````````````````````````````````````````````````````````````````````````````````````````````````````````````````````````````````````````````````````````````````````````````````````````````````````````````````', 'this douche bag')\n",
    "# he was taking up too much screen space\n",
    "\n",
    "\n",
    "def parse_translation(t, which = 'first'):\n",
    "    if'ENGLISH TRANSLATION:' in t:\n",
    "        if which == 'first':\n",
    "            return t.split(':')[0]\n",
    "        else: \n",
    "            return t.split('ENGLISH TRANSLATION:')[1]\n",
    "    else:\n",
    "        if which == 'second':\n",
    "            return t\n",
    "        else: \n",
    "            return None\n",
    "        \n",
    "data['translation'] = data['tweets'].apply(lambda x: parse_translation(x,which = 'first'))\n",
    "data['tweet'] = data['tweets'].apply(lambda x: parse_translation(x,which = 'second'))\n",
    "\n",
    "data.tweet"
   ]
  },
  {
   "cell_type": "code",
   "execution_count": 138,
   "metadata": {
    "collapsed": false
   },
   "outputs": [],
   "source": [
    "# def violence(x):\n",
    "#     if ('kill' | 'injur' | 'fight') in x:\n",
    "#         return True\n",
    "#     else:\n",
    "#         return False\n",
    "\n",
    "# data['violence'] = data['tweets'].apply(lambda x: tweet_at(x))\n",
    "# data['tweets'][data.violence == True].head(50)"
   ]
  },
  {
   "cell_type": "code",
   "execution_count": 146,
   "metadata": {
    "collapsed": false
   },
   "outputs": [
    {
     "ename": "TypeError",
     "evalue": "expected string or bytes-like object",
     "output_type": "error",
     "traceback": [
      "\u001b[1;31m\u001b[0m",
      "\u001b[1;31mTypeError\u001b[0mTraceback (most recent call last)",
      "\u001b[1;32m<ipython-input-146-6aaf36aab9bf>\u001b[0m in \u001b[0;36m<module>\u001b[1;34m()\u001b[0m\n\u001b[0;32m      1\u001b[0m \u001b[0mtweet_at\u001b[0m \u001b[1;33m=\u001b[0m \u001b[0mre\u001b[0m\u001b[1;33m.\u001b[0m\u001b[0mcompile\u001b[0m\u001b[1;33m(\u001b[0m\u001b[1;34m\"@\\w\"\u001b[0m\u001b[1;33m)\u001b[0m\u001b[1;33m\u001b[0m\u001b[0m\n\u001b[1;32m----> 2\u001b[1;33m \u001b[0mre\u001b[0m\u001b[1;33m.\u001b[0m\u001b[0msearch\u001b[0m\u001b[1;33m(\u001b[0m\u001b[0mtweet_at\u001b[0m\u001b[1;33m,\u001b[0m \u001b[0mdata\u001b[0m\u001b[1;33m.\u001b[0m\u001b[0mtweets\u001b[0m\u001b[1;33m)\u001b[0m\u001b[1;33m\u001b[0m\u001b[0m\n\u001b[0m",
      "\u001b[1;32mC:\\Users\\brendanburkart\\Anaconda3\\lib\\re.py\u001b[0m in \u001b[0;36msearch\u001b[1;34m(pattern, string, flags)\u001b[0m\n\u001b[0;32m    171\u001b[0m     \"\"\"Scan through string looking for a match to the pattern, returning\n\u001b[0;32m    172\u001b[0m     a match object, or None if no match was found.\"\"\"\n\u001b[1;32m--> 173\u001b[1;33m     \u001b[1;32mreturn\u001b[0m \u001b[0m_compile\u001b[0m\u001b[1;33m(\u001b[0m\u001b[0mpattern\u001b[0m\u001b[1;33m,\u001b[0m \u001b[0mflags\u001b[0m\u001b[1;33m)\u001b[0m\u001b[1;33m.\u001b[0m\u001b[0msearch\u001b[0m\u001b[1;33m(\u001b[0m\u001b[0mstring\u001b[0m\u001b[1;33m)\u001b[0m\u001b[1;33m\u001b[0m\u001b[0m\n\u001b[0m\u001b[0;32m    174\u001b[0m \u001b[1;33m\u001b[0m\u001b[0m\n\u001b[0;32m    175\u001b[0m \u001b[1;32mdef\u001b[0m \u001b[0msub\u001b[0m\u001b[1;33m(\u001b[0m\u001b[0mpattern\u001b[0m\u001b[1;33m,\u001b[0m \u001b[0mrepl\u001b[0m\u001b[1;33m,\u001b[0m \u001b[0mstring\u001b[0m\u001b[1;33m,\u001b[0m \u001b[0mcount\u001b[0m\u001b[1;33m=\u001b[0m\u001b[1;36m0\u001b[0m\u001b[1;33m,\u001b[0m \u001b[0mflags\u001b[0m\u001b[1;33m=\u001b[0m\u001b[1;36m0\u001b[0m\u001b[1;33m)\u001b[0m\u001b[1;33m:\u001b[0m\u001b[1;33m\u001b[0m\u001b[0m\n",
      "\u001b[1;31mTypeError\u001b[0m: expected string or bytes-like object"
     ]
    }
   ],
   "source": [
    "def tweeted_at_whom(x):\n",
    "    if '@' in x:\n",
    "        tweet_at = re.compile(\"@\\w\")\n",
    "        return re.search(tweet_at, data.tweets)\n",
    "    else:\n",
    "        return x\n",
    "    \n"
   ]
  },
  {
   "cell_type": "code",
   "execution_count": 139,
   "metadata": {
    "collapsed": false,
    "scrolled": true
   },
   "outputs": [
    {
     "data": {
      "text/html": [
       "<div>\n",
       "<table border=\"1\" class=\"dataframe\">\n",
       "  <thead>\n",
       "    <tr style=\"text-align: right;\">\n",
       "      <th></th>\n",
       "      <th>name</th>\n",
       "      <th>username</th>\n",
       "      <th>description</th>\n",
       "      <th>location</th>\n",
       "      <th>followers</th>\n",
       "      <th>numberstatuses</th>\n",
       "      <th>time</th>\n",
       "      <th>tweets</th>\n",
       "      <th>translated</th>\n",
       "      <th>translation</th>\n",
       "      <th>tweet</th>\n",
       "      <th>hashtagged</th>\n",
       "      <th>tweet_at</th>\n",
       "      <th>retweeted</th>\n",
       "      <th>violence</th>\n",
       "    </tr>\n",
       "  </thead>\n",
       "  <tbody>\n",
       "    <tr>\n",
       "      <th>0</th>\n",
       "      <td>GunsandCoffee</td>\n",
       "      <td>GunsandCoffee70</td>\n",
       "      <td>ENGLISH TRANSLATIONS: http://t.co/QLdJ0ftews</td>\n",
       "      <td>NaN</td>\n",
       "      <td>640</td>\n",
       "      <td>49</td>\n",
       "      <td>1/6/2015 21:07</td>\n",
       "      <td>ENGLISH TRANSLATION: 'A MESSAGE TO THE TRUTHFU...</td>\n",
       "      <td>False</td>\n",
       "      <td>ENGLISH TRANSLATION</td>\n",
       "      <td>'A MESSAGE TO THE TRUTHFUL IN SYRIA - SHEIKH ...</td>\n",
       "      <td>False</td>\n",
       "      <td>False</td>\n",
       "      <td>False</td>\n",
       "      <td>False</td>\n",
       "    </tr>\n",
       "    <tr>\n",
       "      <th>1</th>\n",
       "      <td>GunsandCoffee</td>\n",
       "      <td>GunsandCoffee70</td>\n",
       "      <td>ENGLISH TRANSLATIONS: http://t.co/QLdJ0ftews</td>\n",
       "      <td>NaN</td>\n",
       "      <td>640</td>\n",
       "      <td>49</td>\n",
       "      <td>1/6/2015 21:27</td>\n",
       "      <td>ENGLISH TRANSLATION: SHEIKH FATIH AL JAWLANI '...</td>\n",
       "      <td>False</td>\n",
       "      <td>ENGLISH TRANSLATION</td>\n",
       "      <td>SHEIKH FATIH AL JAWLANI 'FOR THE PEOPLE OF IN...</td>\n",
       "      <td>False</td>\n",
       "      <td>False</td>\n",
       "      <td>False</td>\n",
       "      <td>False</td>\n",
       "    </tr>\n",
       "    <tr>\n",
       "      <th>2</th>\n",
       "      <td>GunsandCoffee</td>\n",
       "      <td>GunsandCoffee70</td>\n",
       "      <td>ENGLISH TRANSLATIONS: http://t.co/QLdJ0ftews</td>\n",
       "      <td>NaN</td>\n",
       "      <td>640</td>\n",
       "      <td>49</td>\n",
       "      <td>1/6/2015 21:29</td>\n",
       "      <td>ENGLISH TRANSLATION: FIRST AUDIO MEETING WITH ...</td>\n",
       "      <td>False</td>\n",
       "      <td>ENGLISH TRANSLATION</td>\n",
       "      <td>FIRST AUDIO MEETING WITH SHEIKH FATIH AL JAWL...</td>\n",
       "      <td>False</td>\n",
       "      <td>False</td>\n",
       "      <td>False</td>\n",
       "      <td>False</td>\n",
       "    </tr>\n",
       "    <tr>\n",
       "      <th>3</th>\n",
       "      <td>GunsandCoffee</td>\n",
       "      <td>GunsandCoffee70</td>\n",
       "      <td>ENGLISH TRANSLATIONS: http://t.co/QLdJ0ftews</td>\n",
       "      <td>NaN</td>\n",
       "      <td>640</td>\n",
       "      <td>49</td>\n",
       "      <td>1/6/2015 21:37</td>\n",
       "      <td>ENGLISH TRANSLATION: SHEIKH NASIR AL WUHAYSHI ...</td>\n",
       "      <td>False</td>\n",
       "      <td>ENGLISH TRANSLATION</td>\n",
       "      <td>SHEIKH NASIR AL WUHAYSHI (HA), LEADER OF AQAP...</td>\n",
       "      <td>False</td>\n",
       "      <td>False</td>\n",
       "      <td>False</td>\n",
       "      <td>False</td>\n",
       "    </tr>\n",
       "    <tr>\n",
       "      <th>4</th>\n",
       "      <td>GunsandCoffee</td>\n",
       "      <td>GunsandCoffee70</td>\n",
       "      <td>ENGLISH TRANSLATIONS: http://t.co/QLdJ0ftews</td>\n",
       "      <td>NaN</td>\n",
       "      <td>640</td>\n",
       "      <td>49</td>\n",
       "      <td>1/6/2015 21:45</td>\n",
       "      <td>ENGLISH TRANSLATION: AQAP: 'RESPONSE TO SHEIKH...</td>\n",
       "      <td>False</td>\n",
       "      <td>ENGLISH TRANSLATION</td>\n",
       "      <td>AQAP: 'RESPONSE TO SHEIKH BAGHDADIS STATEMENT...</td>\n",
       "      <td>False</td>\n",
       "      <td>False</td>\n",
       "      <td>False</td>\n",
       "      <td>False</td>\n",
       "    </tr>\n",
       "  </tbody>\n",
       "</table>\n",
       "</div>"
      ],
      "text/plain": [
       "            name         username  \\\n",
       "0  GunsandCoffee  GunsandCoffee70   \n",
       "1  GunsandCoffee  GunsandCoffee70   \n",
       "2  GunsandCoffee  GunsandCoffee70   \n",
       "3  GunsandCoffee  GunsandCoffee70   \n",
       "4  GunsandCoffee  GunsandCoffee70   \n",
       "\n",
       "                                    description location  followers  \\\n",
       "0  ENGLISH TRANSLATIONS: http://t.co/QLdJ0ftews      NaN        640   \n",
       "1  ENGLISH TRANSLATIONS: http://t.co/QLdJ0ftews      NaN        640   \n",
       "2  ENGLISH TRANSLATIONS: http://t.co/QLdJ0ftews      NaN        640   \n",
       "3  ENGLISH TRANSLATIONS: http://t.co/QLdJ0ftews      NaN        640   \n",
       "4  ENGLISH TRANSLATIONS: http://t.co/QLdJ0ftews      NaN        640   \n",
       "\n",
       "   numberstatuses            time  \\\n",
       "0              49  1/6/2015 21:07   \n",
       "1              49  1/6/2015 21:27   \n",
       "2              49  1/6/2015 21:29   \n",
       "3              49  1/6/2015 21:37   \n",
       "4              49  1/6/2015 21:45   \n",
       "\n",
       "                                              tweets translated  \\\n",
       "0  ENGLISH TRANSLATION: 'A MESSAGE TO THE TRUTHFU...      False   \n",
       "1  ENGLISH TRANSLATION: SHEIKH FATIH AL JAWLANI '...      False   \n",
       "2  ENGLISH TRANSLATION: FIRST AUDIO MEETING WITH ...      False   \n",
       "3  ENGLISH TRANSLATION: SHEIKH NASIR AL WUHAYSHI ...      False   \n",
       "4  ENGLISH TRANSLATION: AQAP: 'RESPONSE TO SHEIKH...      False   \n",
       "\n",
       "           translation                                              tweet  \\\n",
       "0  ENGLISH TRANSLATION   'A MESSAGE TO THE TRUTHFUL IN SYRIA - SHEIKH ...   \n",
       "1  ENGLISH TRANSLATION   SHEIKH FATIH AL JAWLANI 'FOR THE PEOPLE OF IN...   \n",
       "2  ENGLISH TRANSLATION   FIRST AUDIO MEETING WITH SHEIKH FATIH AL JAWL...   \n",
       "3  ENGLISH TRANSLATION   SHEIKH NASIR AL WUHAYSHI (HA), LEADER OF AQAP...   \n",
       "4  ENGLISH TRANSLATION   AQAP: 'RESPONSE TO SHEIKH BAGHDADIS STATEMENT...   \n",
       "\n",
       "  hashtagged tweet_at retweeted violence  \n",
       "0      False    False     False    False  \n",
       "1      False    False     False    False  \n",
       "2      False    False     False    False  \n",
       "3      False    False     False    False  \n",
       "4      False    False     False    False  "
      ]
     },
     "execution_count": 139,
     "metadata": {},
     "output_type": "execute_result"
    }
   ],
   "source": [
    "# first, change [this douche bag]'s username to 'this douche bag'\n",
    "data['username'] = data['username'].replace('````````````````````````````````````````````````````````````````````````````````````````````````````````````````````````````````````````````````````````````````````````````````````````````````````````````````````````````````````````````````````````````````````````````````````````````````````````````````', 'this douche bag')\n",
    "# he was taking up too much screen space\n",
    "\n",
    "\n",
    "# # who is translated? !!!! not working yet !!!!\n",
    "# def translated(x):\n",
    "#     if 'translat' in x:\n",
    "#         return True\n",
    "#     else:\n",
    "#         return False\n",
    "\n",
    "# data['translated'] = data['tweets'].apply(lambda x: translated(x))\n",
    "\n",
    "\n",
    "def parse_translation(t, which = 'first'):\n",
    "    if'ENGLISH TRANSLATION:' in t:\n",
    "        if which == 'first':\n",
    "            return t.split(':')[0]\n",
    "        else: \n",
    "            return t.split('ENGLISH TRANSLATION:')[1]\n",
    "    else:\n",
    "        if which == 'second':\n",
    "            return t\n",
    "        else: \n",
    "            return None\n",
    "        \n",
    "data['translation'] = data['tweets'].apply(lambda x: parse_translation(x,which = 'first'))\n",
    "data['tweet'] = data['tweets'].apply(lambda x: parse_translation(x,which = 'second'))\n",
    "\n",
    "\n",
    "# who uses hashtags?\n",
    "def hashtagged(x):\n",
    "    if '#' in x:\n",
    "        return True\n",
    "    else:\n",
    "        return False\n",
    "\n",
    "data['hashtagged'] = data['tweets'].apply(lambda x: hashtagged(x))\n",
    "\n",
    "\n",
    "# who tweets at others?\n",
    "def tweet_at(x):\n",
    "    if '@' in x:\n",
    "        return True\n",
    "    else:\n",
    "        return False\n",
    "\n",
    "data['tweet_at'] = data['tweets'].apply(lambda x: tweet_at(x))\n",
    "\n",
    "# ---> need to put these into new features to collect relationships\n",
    "    \n",
    "    \n",
    "# which are re-tweets?\n",
    "def retweeted(x):\n",
    "    if 'RT' in x:\n",
    "        return True\n",
    "    else:\n",
    "        return False\n",
    "\n",
    "data['retweeted'] = data['tweets'].apply(lambda x: tweet_at(x))\n",
    "\n",
    "\n",
    "# who talks about violence?\n",
    "def violence(x):\n",
    "    if ('kill' | 'injur') in x:\n",
    "        return True\n",
    "    else:\n",
    "        return False\n",
    "\n",
    "data['violence'] = data['tweets'].apply(lambda x: tweet_at(x))\n",
    "\n",
    "data.head()"
   ]
  },
  {
   "cell_type": "code",
   "execution_count": 129,
   "metadata": {
    "collapsed": false,
    "scrolled": true
   },
   "outputs": [
    {
     "data": {
      "text/plain": [
       "6499    7 killed &amp; 71 injured in a #Russian air ra...\n",
       "Name: tweets, dtype: object"
      ]
     },
     "execution_count": 129,
     "metadata": {},
     "output_type": "execute_result"
    }
   ],
   "source": [
    "data['tweets'][data.username == 'douche bag']"
   ]
  },
  {
   "cell_type": "code",
   "execution_count": 130,
   "metadata": {
    "collapsed": false,
    "scrolled": true
   },
   "outputs": [
    {
     "data": {
      "text/plain": [
       "<matplotlib.axes._subplots.AxesSubplot at 0x1d9bcc177f0>"
      ]
     },
     "execution_count": 130,
     "metadata": {},
     "output_type": "execute_result"
    },
    {
     "data": {
      "image/png": "[encoded data removed]",
      "text/plain": [
       "<matplotlib.figure.Figure at 0x1d9bcc02b70>"
      ]
     },
     "metadata": {},
     "output_type": "display_data"
    }
   ],
   "source": [
    "data.groupby(['translated'])['tweets'].count().plot(kind ='bar')"
   ]
  },
  {
   "cell_type": "code",
   "execution_count": 80,
   "metadata": {
    "collapsed": false,
    "scrolled": false
   },
   "outputs": [
    {
     "data": {
      "text/plain": [
       "<matplotlib.axes._subplots.AxesSubplot at 0x1d9b8463358>"
      ]
     },
     "execution_count": 80,
     "metadata": {},
     "output_type": "execute_result"
    },
    {
     "data": {
      "image/png": "[encoded data removed]",
      "text/plain": [
       "<matplotlib.figure.Figure at 0x1d9b84c1c18>"
      ]
     },
     "metadata": {},
     "output_type": "display_data"
    }
   ],
   "source": [
    "data.groupby(['tweet_at'])['tweets'].count().plot(kind = 'bar')"
   ]
  },
  {
   "cell_type": "code",
   "execution_count": 79,
   "metadata": {
    "collapsed": false,
    "scrolled": true
   },
   "outputs": [
    {
     "data": {
      "text/plain": [
       "<matplotlib.axes._subplots.AxesSubplot at 0x1d9b8452ba8>"
      ]
     },
     "execution_count": 79,
     "metadata": {},
     "output_type": "execute_result"
    },
    {
     "data": {
      "image/png": "[encoded data removed]",
      "text/plain": [
       "<matplotlib.figure.Figure at 0x1d9b83a61d0>"
      ]
     },
     "metadata": {},
     "output_type": "display_data"
    }
   ],
   "source": [
    "data.groupby(['hashtagged'])['tweets'].count().plot(kind ='bar')"
   ]
  },
  {
   "cell_type": "code",
   "execution_count": 76,
   "metadata": {
    "collapsed": false
   },
   "outputs": [
    {
     "data": {
      "text/plain": [
       "<matplotlib.axes._subplots.AxesSubplot at 0x1d9b83406d8>"
      ]
     },
     "execution_count": 76,
     "metadata": {},
     "output_type": "execute_result"
    },
    {
     "data": {
      "image/png": "[encoded data removed]",
      "text/plain": [
       "<matplotlib.figure.Figure at 0x1d9b82d7518>"
      ]
     },
     "metadata": {},
     "output_type": "display_data"
    }
   ],
   "source": [
    "data.groupby(['retweeted'])['tweets'].count().plot(kind ='bar')"
   ]
  },
  {
   "cell_type": "code",
   "execution_count": 77,
   "metadata": {
    "collapsed": false
   },
   "outputs": [
    {
     "data": {
      "text/html": [
       "<div>\n",
       "<table border=\"1\" class=\"dataframe\">\n",
       "  <thead>\n",
       "    <tr style=\"text-align: right;\">\n",
       "      <th></th>\n",
       "      <th>name</th>\n",
       "      <th>username</th>\n",
       "      <th>description</th>\n",
       "      <th>location</th>\n",
       "      <th>followers</th>\n",
       "      <th>numberstatuses</th>\n",
       "      <th>time</th>\n",
       "      <th>tweets</th>\n",
       "      <th>translation</th>\n",
       "      <th>tweet</th>\n",
       "      <th>hashtagged</th>\n",
       "      <th>tweet_at</th>\n",
       "      <th>translated</th>\n",
       "      <th>retweeted</th>\n",
       "    </tr>\n",
       "  </thead>\n",
       "  <tbody>\n",
       "    <tr>\n",
       "      <th>0</th>\n",
       "      <td>GunsandCoffee</td>\n",
       "      <td>GunsandCoffee70</td>\n",
       "      <td>ENGLISH TRANSLATIONS: http://t.co/QLdJ0ftews</td>\n",
       "      <td>NaN</td>\n",
       "      <td>640</td>\n",
       "      <td>49</td>\n",
       "      <td>1/6/2015 21:07</td>\n",
       "      <td>ENGLISH TRANSLATION: 'A MESSAGE TO THE TRUTHFU...</td>\n",
       "      <td>ENGLISH TRANSLATION</td>\n",
       "      <td>'A MESSAGE TO THE TRUTHFUL IN SYRIA - SHEIKH ...</td>\n",
       "      <td>False</td>\n",
       "      <td>False</td>\n",
       "      <td>False</td>\n",
       "      <td>False</td>\n",
       "    </tr>\n",
       "    <tr>\n",
       "      <th>1</th>\n",
       "      <td>GunsandCoffee</td>\n",
       "      <td>GunsandCoffee70</td>\n",
       "      <td>ENGLISH TRANSLATIONS: http://t.co/QLdJ0ftews</td>\n",
       "      <td>NaN</td>\n",
       "      <td>640</td>\n",
       "      <td>49</td>\n",
       "      <td>1/6/2015 21:27</td>\n",
       "      <td>ENGLISH TRANSLATION: SHEIKH FATIH AL JAWLANI '...</td>\n",
       "      <td>ENGLISH TRANSLATION</td>\n",
       "      <td>SHEIKH FATIH AL JAWLANI 'FOR THE PEOPLE OF IN...</td>\n",
       "      <td>False</td>\n",
       "      <td>False</td>\n",
       "      <td>False</td>\n",
       "      <td>False</td>\n",
       "    </tr>\n",
       "    <tr>\n",
       "      <th>2</th>\n",
       "      <td>GunsandCoffee</td>\n",
       "      <td>GunsandCoffee70</td>\n",
       "      <td>ENGLISH TRANSLATIONS: http://t.co/QLdJ0ftews</td>\n",
       "      <td>NaN</td>\n",
       "      <td>640</td>\n",
       "      <td>49</td>\n",
       "      <td>1/6/2015 21:29</td>\n",
       "      <td>ENGLISH TRANSLATION: FIRST AUDIO MEETING WITH ...</td>\n",
       "      <td>ENGLISH TRANSLATION</td>\n",
       "      <td>FIRST AUDIO MEETING WITH SHEIKH FATIH AL JAWL...</td>\n",
       "      <td>False</td>\n",
       "      <td>False</td>\n",
       "      <td>False</td>\n",
       "      <td>False</td>\n",
       "    </tr>\n",
       "    <tr>\n",
       "      <th>3</th>\n",
       "      <td>GunsandCoffee</td>\n",
       "      <td>GunsandCoffee70</td>\n",
       "      <td>ENGLISH TRANSLATIONS: http://t.co/QLdJ0ftews</td>\n",
       "      <td>NaN</td>\n",
       "      <td>640</td>\n",
       "      <td>49</td>\n",
       "      <td>1/6/2015 21:37</td>\n",
       "      <td>ENGLISH TRANSLATION: SHEIKH NASIR AL WUHAYSHI ...</td>\n",
       "      <td>ENGLISH TRANSLATION</td>\n",
       "      <td>SHEIKH NASIR AL WUHAYSHI (HA), LEADER OF AQAP...</td>\n",
       "      <td>False</td>\n",
       "      <td>False</td>\n",
       "      <td>False</td>\n",
       "      <td>False</td>\n",
       "    </tr>\n",
       "    <tr>\n",
       "      <th>4</th>\n",
       "      <td>GunsandCoffee</td>\n",
       "      <td>GunsandCoffee70</td>\n",
       "      <td>ENGLISH TRANSLATIONS: http://t.co/QLdJ0ftews</td>\n",
       "      <td>NaN</td>\n",
       "      <td>640</td>\n",
       "      <td>49</td>\n",
       "      <td>1/6/2015 21:45</td>\n",
       "      <td>ENGLISH TRANSLATION: AQAP: 'RESPONSE TO SHEIKH...</td>\n",
       "      <td>ENGLISH TRANSLATION</td>\n",
       "      <td>AQAP: 'RESPONSE TO SHEIKH BAGHDADIS STATEMENT...</td>\n",
       "      <td>False</td>\n",
       "      <td>False</td>\n",
       "      <td>False</td>\n",
       "      <td>False</td>\n",
       "    </tr>\n",
       "  </tbody>\n",
       "</table>\n",
       "</div>"
      ],
      "text/plain": [
       "            name         username  \\\n",
       "0  GunsandCoffee  GunsandCoffee70   \n",
       "1  GunsandCoffee  GunsandCoffee70   \n",
       "2  GunsandCoffee  GunsandCoffee70   \n",
       "3  GunsandCoffee  GunsandCoffee70   \n",
       "4  GunsandCoffee  GunsandCoffee70   \n",
       "\n",
       "                                    description location  followers  \\\n",
       "0  ENGLISH TRANSLATIONS: http://t.co/QLdJ0ftews      NaN        640   \n",
       "1  ENGLISH TRANSLATIONS: http://t.co/QLdJ0ftews      NaN        640   \n",
       "2  ENGLISH TRANSLATIONS: http://t.co/QLdJ0ftews      NaN        640   \n",
       "3  ENGLISH TRANSLATIONS: http://t.co/QLdJ0ftews      NaN        640   \n",
       "4  ENGLISH TRANSLATIONS: http://t.co/QLdJ0ftews      NaN        640   \n",
       "\n",
       "   numberstatuses            time  \\\n",
       "0              49  1/6/2015 21:07   \n",
       "1              49  1/6/2015 21:27   \n",
       "2              49  1/6/2015 21:29   \n",
       "3              49  1/6/2015 21:37   \n",
       "4              49  1/6/2015 21:45   \n",
       "\n",
       "                                              tweets          translation  \\\n",
       "0  ENGLISH TRANSLATION: 'A MESSAGE TO THE TRUTHFU...  ENGLISH TRANSLATION   \n",
       "1  ENGLISH TRANSLATION: SHEIKH FATIH AL JAWLANI '...  ENGLISH TRANSLATION   \n",
       "2  ENGLISH TRANSLATION: FIRST AUDIO MEETING WITH ...  ENGLISH TRANSLATION   \n",
       "3  ENGLISH TRANSLATION: SHEIKH NASIR AL WUHAYSHI ...  ENGLISH TRANSLATION   \n",
       "4  ENGLISH TRANSLATION: AQAP: 'RESPONSE TO SHEIKH...  ENGLISH TRANSLATION   \n",
       "\n",
       "                                               tweet hashtagged tweet_at  \\\n",
       "0   'A MESSAGE TO THE TRUTHFUL IN SYRIA - SHEIKH ...      False    False   \n",
       "1   SHEIKH FATIH AL JAWLANI 'FOR THE PEOPLE OF IN...      False    False   \n",
       "2   FIRST AUDIO MEETING WITH SHEIKH FATIH AL JAWL...      False    False   \n",
       "3   SHEIKH NASIR AL WUHAYSHI (HA), LEADER OF AQAP...      False    False   \n",
       "4   AQAP: 'RESPONSE TO SHEIKH BAGHDADIS STATEMENT...      False    False   \n",
       "\n",
       "  translated retweeted  \n",
       "0      False     False  \n",
       "1      False     False  \n",
       "2      False     False  \n",
       "3      False     False  \n",
       "4      False     False  "
      ]
     },
     "execution_count": 77,
     "metadata": {},
     "output_type": "execute_result"
    }
   ],
   "source": [
    "data.head()"
   ]
  },
  {
   "cell_type": "code",
   "execution_count": null,
   "metadata": {
    "collapsed": true
   },
   "outputs": [],
   "source": []
  },
  {
   "cell_type": "markdown",
   "metadata": {},
   "source": [
    "### Some thoughts\n",
    "- who is prolific?\n",
    "- who are the @handles? --> are there relationships?, do they @ each other?\n",
    "- # tags\n",
    "- emojis \n",
    "- links to external info\n",
    "\n",
    "look at who uses them, how many followers, "
   ]
  },
  {
   "cell_type": "code",
   "execution_count": 11,
   "metadata": {
    "collapsed": false,
    "scrolled": false
   },
   "outputs": [
    {
     "data": {
      "text/plain": [
       "0             ENGLISH TRANSLATIONS: http://t.co/QLdJ0ftews\n",
       "1             ENGLISH TRANSLATIONS: http://t.co/QLdJ0ftews\n",
       "2             ENGLISH TRANSLATIONS: http://t.co/QLdJ0ftews\n",
       "3             ENGLISH TRANSLATIONS: http://t.co/QLdJ0ftews\n",
       "4             ENGLISH TRANSLATIONS: http://t.co/QLdJ0ftews\n",
       "5             ENGLISH TRANSLATIONS: http://t.co/QLdJ0ftews\n",
       "6             ENGLISH TRANSLATIONS: http://t.co/QLdJ0ftews\n",
       "7             ENGLISH TRANSLATIONS: http://t.co/QLdJ0ftews\n",
       "8             ENGLISH TRANSLATIONS: http://t.co/QLdJ0ftews\n",
       "9             ENGLISH TRANSLATIONS: http://t.co/QLdJ0ftews\n",
       "10            ENGLISH TRANSLATIONS: http://t.co/QLdJ0ftews\n",
       "11            ENGLISH TRANSLATIONS: http://t.co/QLdJ0ftews\n",
       "12            ENGLISH TRANSLATIONS: http://t.co/QLdJ0ftews\n",
       "13            ENGLISH TRANSLATIONS: http://t.co/QLdJ0ftews\n",
       "14            ENGLISH TRANSLATIONS: http://t.co/QLdJ0ftews\n",
       "15            ENGLISH TRANSLATIONS: http://t.co/QLdJ0ftews\n",
       "16            ENGLISH TRANSLATIONS: http://t.co/QLdJ0ftews\n",
       "17            ENGLISH TRANSLATIONS: http://t.co/QLdJ0ftews\n",
       "18            ENGLISH TRANSLATIONS: http://t.co/QLdJ0ftews\n",
       "19            ENGLISH TRANSLATIONS: http://t.co/QLdJ0ftews\n",
       "20            ENGLISH TRANSLATIONS: http://t.co/QLdJ0ftews\n",
       "21            ENGLISH TRANSLATIONS: http://t.co/QLdJ0ftews\n",
       "22            ENGLISH TRANSLATIONS: http://t.co/QLdJ0ftews\n",
       "23            ENGLISH TRANSLATIONS: http://t.co/QLdJ0ftews\n",
       "24            ENGLISH TRANSLATIONS: http://t.co/QLdJ0ftews\n",
       "25            ENGLISH TRANSLATIONS: http://t.co/QLdJ0ftews\n",
       "26            ENGLISH TRANSLATIONS: http://t.co/QLdJ0ftews\n",
       "27            ENGLISH TRANSLATIONS: http://t.co/QLdJ0ftews\n",
       "28            ENGLISH TRANSLATIONS: http://t.co/QLdJ0ftews\n",
       "29       Kik: abulayth2014. Ex South African. Currently...\n",
       "                               ...                        \n",
       "17380    If you have trust in Allah, you have no need t...\n",
       "17381    17yr. old Freedom Activist\\n/Correspondence of...\n",
       "17382                                                 None\n",
       "17383    17yr. old Freedom Activist\\n/Correspondence of...\n",
       "17384                                                 None\n",
       "17385                                                 None\n",
       "17386    17yr. old Freedom Activist\\n/Correspondence of...\n",
       "17387    Here to defend the  American freedom and also ...\n",
       "17388                                                 None\n",
       "17389    Here to defend the  American freedom and also ...\n",
       "17390                                                 None\n",
       "17391    Here to defend the  American freedom and also ...\n",
       "17392    Here to defend the  American freedom and also ...\n",
       "17393    Torah Observant, follower of the Prophet Yeshu...\n",
       "17394        War Investigator. Civil Engineer. MENA Region\n",
       "17395    Here to defend the  American freedom and also ...\n",
       "17396    Here to defend the  American freedom and also ...\n",
       "17397    Here to defend the  American freedom and also ...\n",
       "17398    Here to defend the  American freedom and also ...\n",
       "17399    Here to defend the  American freedom and also ...\n",
       "17400                                                 None\n",
       "17401                                                 None\n",
       "17402    Here to defend the  American freedom and also ...\n",
       "17403                                                 None\n",
       "17404    Here to defend the  American freedom and also ...\n",
       "17405                                                 None\n",
       "17406                                                 None\n",
       "17407                                                 None\n",
       "17408                                                 None\n",
       "17409    Torah Observant, follower of the Prophet Yeshu...\n",
       "Name: description, dtype: object"
      ]
     },
     "execution_count": 11,
     "metadata": {},
     "output_type": "execute_result"
    }
   ],
   "source": [
    "data.description\n"
   ]
  },
  {
   "cell_type": "code",
   "execution_count": 29,
   "metadata": {
    "collapsed": false
   },
   "outputs": [
    {
     "data": {
      "text/html": [
       "<div>\n",
       "<table border=\"1\" class=\"dataframe\">\n",
       "  <thead>\n",
       "    <tr style=\"text-align: right;\">\n",
       "      <th></th>\n",
       "      <th>name</th>\n",
       "      <th>username</th>\n",
       "      <th>description</th>\n",
       "      <th>location</th>\n",
       "      <th>followers</th>\n",
       "      <th>numberstatuses</th>\n",
       "      <th>time</th>\n",
       "      <th>tweets</th>\n",
       "    </tr>\n",
       "  </thead>\n",
       "  <tbody>\n",
       "    <tr>\n",
       "      <th>0</th>\n",
       "      <td>GunsandCoffee</td>\n",
       "      <td>GunsandCoffee70</td>\n",
       "      <td>ENGLISH TRANSLATIONS: http://t.co/QLdJ0ftews</td>\n",
       "      <td>Unknown</td>\n",
       "      <td>640</td>\n",
       "      <td>49</td>\n",
       "      <td>1/6/2015 21:07</td>\n",
       "      <td>ENGLISH TRANSLATION: 'A MESSAGE TO THE TRUTHFU...</td>\n",
       "    </tr>\n",
       "    <tr>\n",
       "      <th>1</th>\n",
       "      <td>GunsandCoffee</td>\n",
       "      <td>GunsandCoffee70</td>\n",
       "      <td>ENGLISH TRANSLATIONS: http://t.co/QLdJ0ftews</td>\n",
       "      <td>Unknown</td>\n",
       "      <td>640</td>\n",
       "      <td>49</td>\n",
       "      <td>1/6/2015 21:27</td>\n",
       "      <td>ENGLISH TRANSLATION: SHEIKH FATIH AL JAWLANI '...</td>\n",
       "    </tr>\n",
       "    <tr>\n",
       "      <th>2</th>\n",
       "      <td>GunsandCoffee</td>\n",
       "      <td>GunsandCoffee70</td>\n",
       "      <td>ENGLISH TRANSLATIONS: http://t.co/QLdJ0ftews</td>\n",
       "      <td>Unknown</td>\n",
       "      <td>640</td>\n",
       "      <td>49</td>\n",
       "      <td>1/6/2015 21:29</td>\n",
       "      <td>ENGLISH TRANSLATION: FIRST AUDIO MEETING WITH ...</td>\n",
       "    </tr>\n",
       "    <tr>\n",
       "      <th>3</th>\n",
       "      <td>GunsandCoffee</td>\n",
       "      <td>GunsandCoffee70</td>\n",
       "      <td>ENGLISH TRANSLATIONS: http://t.co/QLdJ0ftews</td>\n",
       "      <td>Unknown</td>\n",
       "      <td>640</td>\n",
       "      <td>49</td>\n",
       "      <td>1/6/2015 21:37</td>\n",
       "      <td>ENGLISH TRANSLATION: SHEIKH NASIR AL WUHAYSHI ...</td>\n",
       "    </tr>\n",
       "    <tr>\n",
       "      <th>4</th>\n",
       "      <td>GunsandCoffee</td>\n",
       "      <td>GunsandCoffee70</td>\n",
       "      <td>ENGLISH TRANSLATIONS: http://t.co/QLdJ0ftews</td>\n",
       "      <td>Unknown</td>\n",
       "      <td>640</td>\n",
       "      <td>49</td>\n",
       "      <td>1/6/2015 21:45</td>\n",
       "      <td>ENGLISH TRANSLATION: AQAP: 'RESPONSE TO SHEIKH...</td>\n",
       "    </tr>\n",
       "  </tbody>\n",
       "</table>\n",
       "</div>"
      ],
      "text/plain": [
       "            name         username  \\\n",
       "0  GunsandCoffee  GunsandCoffee70   \n",
       "1  GunsandCoffee  GunsandCoffee70   \n",
       "2  GunsandCoffee  GunsandCoffee70   \n",
       "3  GunsandCoffee  GunsandCoffee70   \n",
       "4  GunsandCoffee  GunsandCoffee70   \n",
       "\n",
       "                                    description location  followers  \\\n",
       "0  ENGLISH TRANSLATIONS: http://t.co/QLdJ0ftews  Unknown        640   \n",
       "1  ENGLISH TRANSLATIONS: http://t.co/QLdJ0ftews  Unknown        640   \n",
       "2  ENGLISH TRANSLATIONS: http://t.co/QLdJ0ftews  Unknown        640   \n",
       "3  ENGLISH TRANSLATIONS: http://t.co/QLdJ0ftews  Unknown        640   \n",
       "4  ENGLISH TRANSLATIONS: http://t.co/QLdJ0ftews  Unknown        640   \n",
       "\n",
       "   numberstatuses            time  \\\n",
       "0              49  1/6/2015 21:07   \n",
       "1              49  1/6/2015 21:27   \n",
       "2              49  1/6/2015 21:29   \n",
       "3              49  1/6/2015 21:37   \n",
       "4              49  1/6/2015 21:45   \n",
       "\n",
       "                                              tweets  \n",
       "0  ENGLISH TRANSLATION: 'A MESSAGE TO THE TRUTHFU...  \n",
       "1  ENGLISH TRANSLATION: SHEIKH FATIH AL JAWLANI '...  \n",
       "2  ENGLISH TRANSLATION: FIRST AUDIO MEETING WITH ...  \n",
       "3  ENGLISH TRANSLATION: SHEIKH NASIR AL WUHAYSHI ...  \n",
       "4  ENGLISH TRANSLATION: AQAP: 'RESPONSE TO SHEIKH...  "
      ]
     },
     "execution_count": 29,
     "metadata": {},
     "output_type": "execute_result"
    }
   ],
   "source": [
    "# conventionalize column names\n",
    "data.columns = [each.replace('-','_').lower() for each in data.columns]\n",
    "data.columns = [each.replace(' ','_').lower() for each in data.columns]\n",
    "\n",
    "# replace null values with 'unknown'\n",
    "data['location'].fillna('Unknown', inplace =True)\n",
    "data['description'].fillna('None', inplace =True)\n",
    "\n",
    "\n",
    "data.head()"
   ]
  },
  {
   "cell_type": "code",
   "execution_count": 33,
   "metadata": {
    "collapsed": false
   },
   "outputs": [
    {
     "data": {
      "text/html": [
       "<div>\n",
       "<table border=\"1\" class=\"dataframe\">\n",
       "  <thead>\n",
       "    <tr style=\"text-align: right;\">\n",
       "      <th></th>\n",
       "      <th>name</th>\n",
       "      <th>username</th>\n",
       "      <th>description</th>\n",
       "      <th>location</th>\n",
       "      <th>followers</th>\n",
       "      <th>numberstatuses</th>\n",
       "      <th>time</th>\n",
       "      <th>tweets</th>\n",
       "      <th>date_time</th>\n",
       "    </tr>\n",
       "  </thead>\n",
       "  <tbody>\n",
       "    <tr>\n",
       "      <th>0</th>\n",
       "      <td>GunsandCoffee</td>\n",
       "      <td>GunsandCoffee70</td>\n",
       "      <td>ENGLISH TRANSLATIONS: http://t.co/QLdJ0ftews</td>\n",
       "      <td>Unknown</td>\n",
       "      <td>640</td>\n",
       "      <td>49</td>\n",
       "      <td>1/6/2015 21:07</td>\n",
       "      <td>ENGLISH TRANSLATION: 'A MESSAGE TO THE TRUTHFU...</td>\n",
       "      <td>2015-01-06 21:07:00</td>\n",
       "    </tr>\n",
       "    <tr>\n",
       "      <th>1</th>\n",
       "      <td>GunsandCoffee</td>\n",
       "      <td>GunsandCoffee70</td>\n",
       "      <td>ENGLISH TRANSLATIONS: http://t.co/QLdJ0ftews</td>\n",
       "      <td>Unknown</td>\n",
       "      <td>640</td>\n",
       "      <td>49</td>\n",
       "      <td>1/6/2015 21:27</td>\n",
       "      <td>ENGLISH TRANSLATION: SHEIKH FATIH AL JAWLANI '...</td>\n",
       "      <td>2015-01-06 21:27:00</td>\n",
       "    </tr>\n",
       "    <tr>\n",
       "      <th>2</th>\n",
       "      <td>GunsandCoffee</td>\n",
       "      <td>GunsandCoffee70</td>\n",
       "      <td>ENGLISH TRANSLATIONS: http://t.co/QLdJ0ftews</td>\n",
       "      <td>Unknown</td>\n",
       "      <td>640</td>\n",
       "      <td>49</td>\n",
       "      <td>1/6/2015 21:29</td>\n",
       "      <td>ENGLISH TRANSLATION: FIRST AUDIO MEETING WITH ...</td>\n",
       "      <td>2015-01-06 21:29:00</td>\n",
       "    </tr>\n",
       "    <tr>\n",
       "      <th>3</th>\n",
       "      <td>GunsandCoffee</td>\n",
       "      <td>GunsandCoffee70</td>\n",
       "      <td>ENGLISH TRANSLATIONS: http://t.co/QLdJ0ftews</td>\n",
       "      <td>Unknown</td>\n",
       "      <td>640</td>\n",
       "      <td>49</td>\n",
       "      <td>1/6/2015 21:37</td>\n",
       "      <td>ENGLISH TRANSLATION: SHEIKH NASIR AL WUHAYSHI ...</td>\n",
       "      <td>2015-01-06 21:37:00</td>\n",
       "    </tr>\n",
       "    <tr>\n",
       "      <th>4</th>\n",
       "      <td>GunsandCoffee</td>\n",
       "      <td>GunsandCoffee70</td>\n",
       "      <td>ENGLISH TRANSLATIONS: http://t.co/QLdJ0ftews</td>\n",
       "      <td>Unknown</td>\n",
       "      <td>640</td>\n",
       "      <td>49</td>\n",
       "      <td>1/6/2015 21:45</td>\n",
       "      <td>ENGLISH TRANSLATION: AQAP: 'RESPONSE TO SHEIKH...</td>\n",
       "      <td>2015-01-06 21:45:00</td>\n",
       "    </tr>\n",
       "  </tbody>\n",
       "</table>\n",
       "</div>"
      ],
      "text/plain": [
       "            name         username  \\\n",
       "0  GunsandCoffee  GunsandCoffee70   \n",
       "1  GunsandCoffee  GunsandCoffee70   \n",
       "2  GunsandCoffee  GunsandCoffee70   \n",
       "3  GunsandCoffee  GunsandCoffee70   \n",
       "4  GunsandCoffee  GunsandCoffee70   \n",
       "\n",
       "                                    description location  followers  \\\n",
       "0  ENGLISH TRANSLATIONS: http://t.co/QLdJ0ftews  Unknown        640   \n",
       "1  ENGLISH TRANSLATIONS: http://t.co/QLdJ0ftews  Unknown        640   \n",
       "2  ENGLISH TRANSLATIONS: http://t.co/QLdJ0ftews  Unknown        640   \n",
       "3  ENGLISH TRANSLATIONS: http://t.co/QLdJ0ftews  Unknown        640   \n",
       "4  ENGLISH TRANSLATIONS: http://t.co/QLdJ0ftews  Unknown        640   \n",
       "\n",
       "   numberstatuses            time  \\\n",
       "0              49  1/6/2015 21:07   \n",
       "1              49  1/6/2015 21:27   \n",
       "2              49  1/6/2015 21:29   \n",
       "3              49  1/6/2015 21:37   \n",
       "4              49  1/6/2015 21:45   \n",
       "\n",
       "                                              tweets           date_time  \n",
       "0  ENGLISH TRANSLATION: 'A MESSAGE TO THE TRUTHFU... 2015-01-06 21:07:00  \n",
       "1  ENGLISH TRANSLATION: SHEIKH FATIH AL JAWLANI '... 2015-01-06 21:27:00  \n",
       "2  ENGLISH TRANSLATION: FIRST AUDIO MEETING WITH ... 2015-01-06 21:29:00  \n",
       "3  ENGLISH TRANSLATION: SHEIKH NASIR AL WUHAYSHI ... 2015-01-06 21:37:00  \n",
       "4  ENGLISH TRANSLATION: AQAP: 'RESPONSE TO SHEIKH... 2015-01-06 21:45:00  "
      ]
     },
     "execution_count": 33,
     "metadata": {},
     "output_type": "execute_result"
    }
   ],
   "source": [
    "import datetime\n",
    "from datetime import date\n",
    "import calendar\n",
    "\n",
    "data['date_time'] = pd.to_datetime(data['time'])\n",
    "\n",
    "data.head()"
   ]
  },
  {
   "cell_type": "code",
   "execution_count": null,
   "metadata": {
    "collapsed": false
   },
   "outputs": [],
   "source": [
    "x = data.date_time\n",
    "y = data.tweets.count()\n",
    "\n",
    "plot(kind = 'line')"
   ]
  },
  {
   "cell_type": "code",
   "execution_count": 125,
   "metadata": {
    "collapsed": false,
    "scrolled": false
   },
   "outputs": [
    {
     "data": {
      "text/plain": [
       "<matplotlib.axes._subplots.AxesSubplot at 0x1d9bc7105f8>"
      ]
     },
     "execution_count": 125,
     "metadata": {},
     "output_type": "execute_result"
    },
    {
     "data": {
      "image/png": "[encoded data removed]",
      "text/plain": [
       "<matplotlib.figure.Figure at 0x1d9bc9f3630>"
      ]
     },
     "metadata": {},
     "output_type": "display_data"
    }
   ],
   "source": [
    "data.username.value_counts().plot(kind = 'bar')"
   ]
  },
  {
   "cell_type": "code",
   "execution_count": 23,
   "metadata": {
    "collapsed": false,
    "scrolled": false
   },
   "outputs": [
    {
     "data": {
      "text/plain": [
       "<matplotlib.axes._subplots.AxesSubplot at 0x24eecd226d8>"
      ]
     },
     "execution_count": 23,
     "metadata": {},
     "output_type": "execute_result"
    },
    {
     "data": {
      "image/png": "[encoded data removed]",
      "text/plain": [
       "<matplotlib.figure.Figure at 0x24eebff7438>"
      ]
     },
     "metadata": {},
     "output_type": "display_data"
    }
   ],
   "source": [
    "data['location'].value_counts().plot(kind = 'bar')"
   ]
  },
  {
   "cell_type": "code",
   "execution_count": 24,
   "metadata": {
    "collapsed": false,
    "scrolled": true
   },
   "outputs": [
    {
     "data": {
      "text/plain": [
       "Read my blog                                     1475\n",
       "world                                            1191\n",
       "Worldwide contributions                           998\n",
       "Texas, USA                                        993\n",
       "اُمتِ مُسلمہ ولایت کشمیر                          709\n",
       "United States                                     587\n",
       "28th Street, Qamar Precint                        426\n",
       "Germany                                           397\n",
       "Dunya                                             366\n",
       "Male'. Maldives.                                  333\n",
       "S.Wazirstan|Mahsud not a Wazir                    318\n",
       "Middle of Nowhere                                 303\n",
       "dar al-kufr                                       285\n",
       "Nowhere                                           234\n",
       "Wilayah Kashmir                                   231\n",
       "München, Deutschland                              193\n",
       "Bandar Seri Begawan, Negara Brunei Darussalam     182\n",
       "Geneva, Switzerland                               166\n",
       "Ghurabā                                           159\n",
       "Among The Muslims                                 152\n",
       "Gaziantep, Turkey                                 146\n",
       "Wilayat Hadramaut                                 134\n",
       "Singaparna, Indonesia                             100\n",
       "أسير الدنيا                                       100\n",
       "Antas, Bahia                                       99\n",
       "Land of Allah                                      97\n",
       "EU                                                 97\n",
       "Earth                                              96\n",
       "Punch, Jammu And Kashmir                           95\n",
       "Among mushrikeen                                   93\n",
       "Wilayah Twitter                                    89\n",
       "Al-Battar Media Foundatiom                         80\n",
       "Lake City, GA                                      68\n",
       "Guetto                                             58\n",
       "I hate snitches                                    49\n",
       "darl mushrequeen                                   47\n",
       "Amsterdam, The Netherlands                         45\n",
       "خارج الخلافة                                       42\n",
       "Don't need to know                                 40\n",
       "England, United Kingdom                            27\n",
       "AP                                                 25\n",
       "سرت‎ Sirte                                         23\n",
       "40+Suspension for the truth!                       23\n",
       "noway                                              15\n",
       "Dar Al Kufr                                        14\n",
       "Islamic State                                      14\n",
       "yamin, yasār raqum ١٤                              10\n",
       "Prison ( Darul Kufr )                               4\n",
       ".                                                   4\n",
       "Name: location, dtype: int64"
      ]
     },
     "execution_count": 24,
     "metadata": {},
     "output_type": "execute_result"
    }
   ],
   "source": [
    "data['location'].value_counts()"
   ]
  },
  {
   "cell_type": "code",
   "execution_count": 35,
   "metadata": {
    "collapsed": false,
    "scrolled": true
   },
   "outputs": [
    {
     "data": {
      "text/plain": [
       "#shaheedneverdies                                                                                                                                     1\n",
       "please follow and support my account BAqiyah family\\n@fahadslay614 \\n@fahadslay614 \\n@fahadslay614 \\n@fahadslay614 \\n@fahadslay614 \\n@fahadslay614    1\n",
       "@Kuffar_hunter follow me bk akhi                                                                                                                      1\n",
       "please follow and support my account\\n@fahadslay614 \\n@fahadslay614 \\n@fahadslay614 \\n@fahadslay614                                                   1\n",
       "Name: tweets, dtype: int64"
      ]
     },
     "execution_count": 35,
     "metadata": {},
     "output_type": "execute_result"
    }
   ],
   "source": [
    "data['tweets'][data.location == '.'].value_counts()"
   ]
  },
  {
   "cell_type": "code",
   "execution_count": null,
   "metadata": {
    "collapsed": true
   },
   "outputs": [],
   "source": [
    "data['r'][data.username == 'Uncle_SamCoco'].value_counts()"
   ]
  },
  {
   "cell_type": "markdown",
   "metadata": {},
   "source": [
    "# NOTES\n",
    "\n",
    "### location has lots of NaN that could be 'hidden'\n",
    "### location has some states, some countries, some cities maybe, some just strings\n",
    "### tweets have\n",
    "- ENGLISH TRANSLATION:\n",
    "- ENGLISH TRANSCRIPT :\n",
    "- ENGLISH TRANSLATION- \n",
    "- some @handle that might be able to be related to other name/username in the file ... or not\n",
    "- maybe a keyword finder, looks like a lot of sheikh abu hassan...and various spellings of the same\n",
    "\n",
    "### data[['username', 'location', 'followers', 'numberstatuses']]\n",
    "- these are fairly constant, maybe can be collapsed\n",
    "- - graph over time for users, or write a fxn to see changes & note times\n",
    "- but they can be related to the number of statuses that are included in this data set\n",
    "- followers in this data set\n",
    "- any location changes within this data set\n",
    "\n",
    "### names have\n",
    "- some non-english, some icons, some arabic \n",
    "- - maybe can get arabic to english translation through google\n",
    "\n",
    "### probably group by \n",
    "- username\n",
    "- location? \n",
    "- # of followers (small, med, large)\n",
    "- # of tweet-at in this data set\n",
    "\n",
    "\n",
    "## Potential ideas\n",
    "\n",
    "- timing? what happened in the news during these times? anything around that UTC time?\n",
    "- sentiment?\n",
    "\n",
    "### CLASSIFY based on \n",
    "- translation or not\n",
    "- tweeted at someone or not\n",
    "- - and are they in this file or not\n",
    "\n",
    "\n",
    "\n",
    "### GOAL :: Recommend staffing for each type of emergency (fire, ems, trauma, ALS) \n",
    "- consider using twitter api to research new tweets based on findings here"
   ]
  },
  {
   "cell_type": "markdown",
   "metadata": {},
   "source": [
    "### basic cleaning"
   ]
  },
  {
   "cell_type": "code",
   "execution_count": 11,
   "metadata": {
    "collapsed": false,
    "scrolled": true
   },
   "outputs": [],
   "source": [
    "# data.columns = [each.replace('-','_').lower() for each in data.columns]\n",
    "# data = data.rename(columns = {'a1cresult' : 'a1c', 'diabetesmed' : 'diabetes_med' })"
   ]
  }
 ],
 "metadata": {
  "anaconda-cloud": {},
  "kernelspec": {
   "display_name": "Python [Root]",
   "language": "python",
   "name": "Python [Root]"
  },
  "language_info": {
   "codemirror_mode": {
    "name": "ipython",
    "version": 3
   },
   "file_extension": ".py",
   "mimetype": "text/x-python",
   "name": "python",
   "nbconvert_exporter": "python",
   "pygments_lexer": "ipython3",
   "version": "3.5.2"
  }
 },
 "nbformat": 4,
 "nbformat_minor": 0
}
